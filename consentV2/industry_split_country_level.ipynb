{
 "cells": [
  {
   "cell_type": "code",
   "execution_count": 1,
   "metadata": {},
   "outputs": [],
   "source": [
    "import pandas as pd \n",
    "import numpy as np\n",
    "from tqdm import tnrange, tqdm_notebook\n",
    "\n",
    "path = \"C:/Users/jacob.carey/Desktop/Projects/ConsentRateProjects/user_level_consentv1/data_prep/mass_athena/mass_athena_ba_merged_v2.csv\"\n",
    "ent_list = []\n",
    "pub_list = []\n",
    "goods_list = []\n",
    "health_list = []\n",
    "tech_list = []\n",
    "fin_list = []\n"
   ]
  },
  {
   "cell_type": "code",
   "execution_count": 2,
   "metadata": {},
   "outputs": [],
   "source": [
    "df = pd.read_csv(path, \n",
    "                usecols = ['companycountryid', 'consentgiven', 'consenttypeid', 'accesstypeid', \n",
    "                           'clearlanguage', 'industry', 'onbrand'], \n",
    "                 dtype={\n",
    "                     'companycountryid': np.int8, \n",
    "                     'consentgiven': np.int8,\n",
    "                     'consenttypeid': np.int8, \n",
    "                     'accesstypeid': np.int8, \n",
    "                     'clearlanguage': np.int8, \n",
    "                     'industry': np.int8,\n",
    "                     'onbrand': np.int8})"
   ]
  },
  {
   "cell_type": "code",
   "execution_count": null,
   "metadata": {},
   "outputs": [
    {
     "data": {
      "application/vnd.jupyter.widget-view+json": {
       "model_id": "24be4e53cc3d48099bd1d9fee385deed",
       "version_major": 2,
       "version_minor": 0
      },
      "text/plain": [
       "HBox(children=(IntProgress(value=0, description='Processing', max=95886230, style=ProgressStyle(description_wi…"
      ]
     },
     "metadata": {},
     "output_type": "display_data"
    }
   ],
   "source": [
    "for i in tnrange(len(df), desc='Processing'):\n",
    "    my_dict = dict(df.iloc[i])\n",
    "    test_val = my_dict.get('industry', 0)\n",
    "    \n",
    "    if test_val == 1:\n",
    "        pub_list.append(my_dict)\n",
    "    elif test_val == 2:\n",
    "        ent_list.append(my_dict)\n",
    "    elif test_val == 3:\n",
    "        goods_list.append(my_dict)\n",
    "    elif test_val == 4:\n",
    "        health_list.append(my_dict)\n",
    "    elif test_val == 5:\n",
    "        tech_list.append(my_dict)\n",
    "    elif test_val == 6:\n",
    "        fin_list.append(my_dict)"
   ]
  },
  {
   "cell_type": "code",
   "execution_count": null,
   "metadata": {},
   "outputs": [],
   "source": [
    "ent_df = pd.DataFrame(ent_list)\n",
    "pub_df = pd.DataFrame(pub_list)\n",
    "goods_df = pd.DataFrame(goods_list)\n",
    "health_df = pd.DataFrame(health_list)\n",
    "tech_df = pd.DataFrame(tech_list)\n",
    "fin_df = pd.DataFrame(fin_list)"
   ]
  },
  {
   "cell_type": "code",
   "execution_count": null,
   "metadata": {},
   "outputs": [],
   "source": [
    "ent_df.to_csv(\"C:/Users/jacob.carey/Documents/consentv2/dataset_revisions/country_split/EU/industry_split/eu_ent.csv\")\n",
    "pub_df.to_csv(\"C:/Users/jacob.carey/Documents/consentv2/dataset_revisions/country_split/EU/industry_split/eu_pub.csv\")\n",
    "goods_df.to_csv(\"C:/Users/jacob.carey/Documents/consentv2/dataset_revisions/country_split/EU/industry_split/eu_goods.csv\")\n",
    "health_df.to_csv(\"C:/Users/jacob.carey/Documents/consentv2/dataset_revisions/country_split/EU/industry_split/eu_health.csv\")\n",
    "tech_df.to_csv(\"C:/Users/jacob.carey/Documents/consentv2/dataset_revisions/country_split/EU/industry_split/eu_tech.csv\")\n",
    "fin_df.to_csv(\"C:/Users/jacob.carey/Documents/consentv2/dataset_revisions/country_split/EU/industry_split/eu_fin.csv\")"
   ]
  },
  {
   "cell_type": "code",
   "execution_count": null,
   "metadata": {},
   "outputs": [],
   "source": []
  }
 ],
 "metadata": {
  "kernelspec": {
   "display_name": "Python 3",
   "language": "python",
   "name": "python3"
  },
  "language_info": {
   "codemirror_mode": {
    "name": "ipython",
    "version": 3
   },
   "file_extension": ".py",
   "mimetype": "text/x-python",
   "name": "python",
   "nbconvert_exporter": "python",
   "pygments_lexer": "ipython3",
   "version": "3.7.3"
  }
 },
 "nbformat": 4,
 "nbformat_minor": 2
}
