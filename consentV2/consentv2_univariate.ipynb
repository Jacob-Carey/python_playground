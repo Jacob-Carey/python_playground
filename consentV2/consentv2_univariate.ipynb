{
 "cells": [
  {
   "cell_type": "code",
   "execution_count": null,
   "metadata": {},
   "outputs": [],
   "source": [
    "import pandas as pd\n",
    "import numpy as np\n",
    "from datetime import datetime\n",
    "path = \"C:/Users/jacob.carey/Desktop/Projects/ConsentRateProjects/user_level_consentv1/data_prep/mass_athena/mass_athena_ba_merged_v2.csv\"\n",
    "columns = [\n",
    "    #'companyid', \n",
    "    #'noticeid', \n",
    "    #'host', \n",
    "    #'companycountryid',\n",
    "    'consentgiven', \n",
    "    #'usercountry', \n",
    "    #'actiontypeid', \n",
    "    'consenttypeid',\n",
    "    'accesstypeid', \n",
    "    'os', \n",
    "    'browser', \n",
    "    #'usercorrelationkey', \n",
    "    'clearlanguage',\n",
    "    #'CompanyName', \n",
    "    #'industry', \n",
    "    'onbrand', \n",
    "    #'snid'\n",
    "]\n",
    "dtypes = {\n",
    "    #'companyid': np.int8, \n",
    "    #'noticeid': np.int8, \n",
    "    #'host', \n",
    "    #'companycountryid': np.int8,\n",
    "    'consentgiven': np.int8, \n",
    "    #'usercountry', \n",
    "    #'actiontypeid': np.int8, \n",
    "    'consenttypeid': np.int8,\n",
    "    'accesstypeid': np.int8, \n",
    "    #'os', \n",
    "    #'browser', \n",
    "    #'usercorrelationkey', \n",
    "    'clearlanguage': np.int8,\n",
    "    #'CompanyName', \n",
    "    #'industry', \n",
    "    'onbrand': np.int8, \n",
    "    #'snid'\n",
    "}"
   ]
  },
  {
   "cell_type": "code",
   "execution_count": null,
   "metadata": {},
   "outputs": [],
   "source": [
    "df = pd.read_csv(path)"
   ]
  },
  {
   "cell_type": "code",
   "execution_count": null,
   "metadata": {},
   "outputs": [],
   "source": [
    "df = df[df.consenttypeid != 0]"
   ]
  },
  {
   "cell_type": "code",
   "execution_count": null,
   "metadata": {},
   "outputs": [],
   "source": [
    "df = df[df.consenttypeid != 1]\n",
    "df = df[df.accesstypeid != 0]"
   ]
  },
  {
   "cell_type": "code",
   "execution_count": null,
   "metadata": {},
   "outputs": [],
   "source": [
    "df['accesstypeid'].unique()"
   ]
  },
  {
   "cell_type": "code",
   "execution_count": null,
   "metadata": {},
   "outputs": [],
   "source": [
    "df['id'] = df.index"
   ]
  },
  {
   "cell_type": "code",
   "execution_count": null,
   "metadata": {},
   "outputs": [],
   "source": [
    "df.to_csv(\"C:/Users/jacob.carey/Desktop/Projects/ConsentRateProjects/user_level_consentv1/data_prep/mass_athena/mass_athena_ba_merged_v3.csv\")"
   ]
  },
  {
   "cell_type": "code",
   "execution_count": null,
   "metadata": {},
   "outputs": [],
   "source": [
    "outcome_col = 'consentgiven'\n",
    "id_col = 'id'\n",
    "feature_cols = [\n",
    "    #'companyid', \n",
    "    #'noticeid', \n",
    "    #'host', \n",
    "    #'companycountryid',\n",
    "    #'consentgiven', \n",
    "    #'usercountry', \n",
    "    #'actiontypeid', \n",
    "    'consenttypeid',\n",
    "    'accesstypeid', \n",
    "    #'os', \n",
    "    #'browser', \n",
    "    #'usercorrelationkey', \n",
    "    'clearlanguage',\n",
    "    #'CompanyName', \n",
    "    #'industry', \n",
    "    'onbrand', \n",
    "    #'snid'  \n",
    "]"
   ]
  },
  {
   "cell_type": "code",
   "execution_count": null,
   "metadata": {},
   "outputs": [],
   "source": [
    "# global counts\n",
    "total_count = len(df.index)\n",
    "total_positives = len(df[(df[outcome_col] == True)])\n",
    "\n",
    "# An empty list to hold the count results\n",
    "count_list = list()\n",
    "\n",
    "# Iterate over each feature to collect individual counts per value\n",
    "for feature in feature_cols:\n",
    "    counts_df = pd.DataFrame(df.groupby([feature,])[id_col].count()).nlargest(20,[id_col])\n",
    "    counts_df.rename({id_col: 'count'}, axis='columns', inplace=True)\n",
    "    positives_df = pd.DataFrame(df[(df[outcome_col] == True)].groupby([feature,])[id_col].count())  # all values\n",
    "    positives_df.rename({id_col: 'positives'}, axis='columns', inplace=True)\n",
    "    # merge these dataframes\n",
    "    merge_df = counts_df.merge(positives_df, left_index=True, right_index=True)\n",
    "    # iterate over rows, building a dict per row, and append each to list of counts\n",
    "    for this_row in merge_df.iterrows():\n",
    "        this_dict = {\n",
    "            'feature': feature,\n",
    "            'value': str(this_row[0]),\n",
    "            'total_count': total_count,\n",
    "            'total_positives': total_positives,\n",
    "            'count': this_row[1]['count'],\n",
    "            'positives': this_row[1]['positives']\n",
    "        }\n",
    "        count_list.append(this_dict)\n",
    "\n",
    "# Create a new dataframe from the aggregated list\n",
    "lift_df = pd.DataFrame(count_list)\n",
    "\n",
    "# Now let's add some calculations for probabilities and lift per row\n",
    "lift_df['total_prob'] = lift_df['total_positives'] / lift_df['total_count']\n",
    "lift_df['prob'] = lift_df['positives'] / lift_df['count']\n",
    "lift_df['lift - more likely'] = lift_df['prob'] / lift_df['total_prob']\n",
    "lift_df['lift - less likely'] = 1 / lift_df['lift - more likely']\n",
    "lift_df['prct_total'] = lift_df['count'] / lift_df['total_count']"
   ]
  },
  {
   "cell_type": "code",
   "execution_count": null,
   "metadata": {},
   "outputs": [],
   "source": [
    "date_time = datetime.today().strftime('%m-%d-%H%M')\n",
    "output_filepath = \"C:/Users/jacob.carey/Desktop/Projects/ConsentRateProjects/user_level_consentv1/data_prep/mass_athena/univariate/mass_athean_univariate_{0}.csv\".format(date_time)\n",
    "lift_df.to_csv(output_filepath, index=False)"
   ]
  },
  {
   "cell_type": "code",
   "execution_count": null,
   "metadata": {},
   "outputs": [],
   "source": []
  }
 ],
 "metadata": {
  "kernelspec": {
   "display_name": "Python 3",
   "language": "python",
   "name": "python3"
  },
  "language_info": {
   "codemirror_mode": {
    "name": "ipython",
    "version": 3
   },
   "file_extension": ".py",
   "mimetype": "text/x-python",
   "name": "python",
   "nbconvert_exporter": "python",
   "pygments_lexer": "ipython3",
   "version": "3.7.3"
  }
 },
 "nbformat": 4,
 "nbformat_minor": 2
}
