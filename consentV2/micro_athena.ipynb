{
 "cells": [
  {
   "cell_type": "code",
   "execution_count": null,
   "metadata": {},
   "outputs": [],
   "source": [
    "import pandas as pd \n",
    "import numpy as np\n",
    "from tqdm import tnrange, tqdm_notebook\n",
    "path = \"C:/Users/jacob.carey/Desktop/Projects/ConsentRateProjects/user_level_consentv1/data_prep/misc/athena_test1.csv\"\n",
    "test_list = []"
   ]
  },
  {
   "cell_type": "code",
   "execution_count": null,
   "metadata": {},
   "outputs": [],
   "source": [
    "df = pd.read_csv(path)\n",
    "df.columns"
   ]
  },
  {
   "cell_type": "code",
   "execution_count": null,
   "metadata": {
    "scrolled": true
   },
   "outputs": [],
   "source": [
    "x = df['usercorrelationkey'].unique()"
   ]
  },
  {
   "cell_type": "code",
   "execution_count": null,
   "metadata": {},
   "outputs": [],
   "source": [
    "len(x)"
   ]
  },
  {
   "cell_type": "code",
   "execution_count": null,
   "metadata": {},
   "outputs": [],
   "source": [
    "uu2 = df['usercorrelationkey'].unique()"
   ]
  },
  {
   "cell_type": "code",
   "execution_count": null,
   "metadata": {},
   "outputs": [],
   "source": [
    "c_list = []\n",
    "nc_list = []\n",
    "id_list = []"
   ]
  },
  {
   "cell_type": "code",
   "execution_count": null,
   "metadata": {},
   "outputs": [],
   "source": [
    "# for i in uu2:\n",
    "#     test = df.loc[df['usercorrelationkey'] == i]\n",
    "# #     print(test)\n",
    "#     for row in test.iterrows():\n",
    "#         my_dict = dict(row[1])\n",
    "# #         print(my_dict)\n",
    "#         test_val = my_dict.get('actiontypeid')\n",
    "# #         print(test_val)\n",
    "#         if test_val in [11,12]:\n",
    "#             print(my_dict)\n",
    "# #             c_list.append(my_dict)\n",
    "# #         elif test_val == 12:\n",
    "# #             c_list.append(my_dict)\n",
    "\n",
    "# #    print(test['usercorrelationkey']==i)\n",
    "# #     test_val = test['actiontypeid'].unique()\n",
    "# #     if 11 | 12 in test_val:\n",
    "# #         c_list.append()"
   ]
  },
  {
   "cell_type": "code",
   "execution_count": null,
   "metadata": {},
   "outputs": [],
   "source": [
    "# for i in uu2:\n",
    "#     test = df.loc[df['usercorrelationkey'] == i]\n",
    "#     for row in test.iterrows():\n",
    "#         my_dict = dict(row[1])\n",
    "#         test_val = my_dict.get('actiontypeid', 0)\n",
    "#         if test_val in [11, 12]:\n",
    "#             c_list.append[my_dict]"
   ]
  },
  {
   "cell_type": "code",
   "execution_count": null,
   "metadata": {},
   "outputs": [],
   "source": [
    "# for i in uu2:\n",
    "    \n",
    "#     uuid = i\n",
    "#     test = df.loc[df['usercorrelationkey'] == uuid]\n",
    "#     print(test)"
   ]
  },
  {
   "cell_type": "code",
   "execution_count": null,
   "metadata": {},
   "outputs": [],
   "source": [
    "for i in uu2:\n",
    "    test = df.loc[df['usercorrelationkey'] == i]\n",
    "    test_val_1 = test['actiontypeid'].unique()\n",
    "    if 11 in test_val_1:\n",
    "        for row in test.iterrows():\n",
    "            my_dict = dict(row[1])\n",
    "            test_act = my_dict.get('actiontypeid')\n",
    "            test_uuid = my_dict.get('usercorrelationkey')\n",
    "            if test_act == 11 and test_uuid not in c_list:\n",
    "                c_list.append(my_dict)\n",
    "            elif test_act == 12 and test_uuid not in c_list:\n",
    "                c_list.append(my_dict)\n",
    "    elif 12 in test_val_1:\n",
    "        for row in test.iterrows():\n",
    "            my_dict = dict(row[1])\n",
    "            test_act = my_dict.get('actiontypeid')\n",
    "            test_uuid = my_dict.get('usercorrelationkey')\n",
    "            if test_act == 11 and test_uuid not in c_list:\n",
    "                c_list.append(my_dict)\n",
    "            elif test_act == 12 and test_uuid not in c_list:\n",
    "                c_list.append(my_dict)\n",
    "    else:\n",
    "        for row in test.iterrows():\n",
    "            my_dict = dict(row[1])\n",
    "            test_uuid = my_dict.get('usercorrelationkey')\n",
    "            if test_uuid not in id_list:\n",
    "                nc_list.append(my_dict)\n",
    "                id_list.append(test_uuid)"
   ]
  },
  {
   "cell_type": "code",
   "execution_count": null,
   "metadata": {},
   "outputs": [],
   "source": [
    "for i in uu2:\n",
    "    test = df.loc[df['usercorrelationkey'] == i]\n",
    "    test_val_1 = test['actiontypeid'].unique()\n",
    "    if 11 in test_val_1:\n",
    "        for row in test.iterrows():\n",
    "            my_dict = dict(row[1])\n",
    "            test_act = my_dict.get('actiontypeid')\n",
    "            test_uuid = my_dict.get('usercorrelationkey')\n",
    "            if test_act == 11 and test_uuid not in c_list:\n",
    "                del my_dict['actiontypeid']\n",
    "                my_dict['consent'] = 1\n",
    "                c_list.append(my_dict)\n",
    "            elif test_act == 12 and test_uuid not in c_list:\n",
    "                del my_dict['actiontypeid']\n",
    "                my_dict['consent'] = 1\n",
    "                c_list.append(my_dict)\n",
    "    elif 12 in test_val_1:\n",
    "        for row in test.iterrows():\n",
    "            my_dict = dict(row[1])\n",
    "            test_act = my_dict.get('actiontypeid')\n",
    "            test_uuid = my_dict.get('usercorrelationkey')\n",
    "            if test_act == 11 and test_uuid not in c_list:\n",
    "                del my_dict['actiontypeid']\n",
    "                my_dict['consent'] = 1\n",
    "                c_list.append(my_dict)\n",
    "            elif test_act == 12 and test_uuid not in c_list:\n",
    "                del my_dict['actiontypeid']\n",
    "                my_dict['consent'] = 1\n",
    "                c_list.append(my_dict)\n",
    "    else:\n",
    "        for row in test.iterrows():\n",
    "            my_dict = dict(row[1])\n",
    "            test_uuid = my_dict.get('usercorrelationkey')\n",
    "            if test_uuid not in id_list:\n",
    "                del my_dict['actiontypeid']\n",
    "                my_dict['consent'] = 0\n",
    "                nc_list.append(my_dict)\n",
    "                id_list.append(test_uuid)"
   ]
  },
  {
   "cell_type": "code",
   "execution_count": null,
   "metadata": {},
   "outputs": [],
   "source": [
    "len(nc_list)"
   ]
  },
  {
   "cell_type": "code",
   "execution_count": null,
   "metadata": {},
   "outputs": [],
   "source": [
    "nc_list"
   ]
  },
  {
   "cell_type": "code",
   "execution_count": null,
   "metadata": {},
   "outputs": [],
   "source": [
    "test.info()"
   ]
  },
  {
   "cell_type": "code",
   "execution_count": null,
   "metadata": {},
   "outputs": [],
   "source": []
  }
 ],
 "metadata": {
  "kernelspec": {
   "display_name": "Python 3",
   "language": "python",
   "name": "python3"
  },
  "language_info": {
   "codemirror_mode": {
    "name": "ipython",
    "version": 3
   },
   "file_extension": ".py",
   "mimetype": "text/x-python",
   "name": "python",
   "nbconvert_exporter": "python",
   "pygments_lexer": "ipython3",
   "version": "3.7.3"
  }
 },
 "nbformat": 4,
 "nbformat_minor": 2
}
