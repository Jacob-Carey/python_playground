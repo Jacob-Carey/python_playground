{
 "cells": [
  {
   "cell_type": "code",
   "execution_count": 1,
   "metadata": {},
   "outputs": [],
   "source": [
    "import pandas as pd \n",
    "import numpy as np\n",
    "from tqdm import tnrange, tqdm_notebook\n",
    "path = \"C:/Users/jacob.carey/Desktop/Projects/ConsentRateProjects/user_level_consentv1/data_prep/misc/athena_test1.csv\"\n",
    "c_list = []\n",
    "nc_list = []\n",
    "id_list = []\n",
    "consent_actions = [11, 12]"
   ]
  },
  {
   "cell_type": "code",
   "execution_count": 2,
   "metadata": {},
   "outputs": [],
   "source": [
    "df = pd.read_csv(path)"
   ]
  },
  {
   "cell_type": "code",
   "execution_count": 3,
   "metadata": {},
   "outputs": [
    {
     "data": {
      "text/plain": [
       "Index(['companyid', 'noticeid', 'host', 'companycountryid', 'requestquery',\n",
       "       'consentgiven', 'usercountry', 'actiontypeid', 'consenttypeid',\n",
       "       'accesstypeid', 'os', 'browser', 'usercorrelationkey'],\n",
       "      dtype='object')"
      ]
     },
     "execution_count": 3,
     "metadata": {},
     "output_type": "execute_result"
    }
   ],
   "source": [
    "df.columns"
   ]
  },
  {
   "cell_type": "code",
   "execution_count": 4,
   "metadata": {},
   "outputs": [
    {
     "data": {
      "text/plain": [
       "array(['c2e284b460947b2994ee006b2b07ec2dd9a7587f7d3051eed1875667b4d5d557',\n",
       "       '788a462bf873afb5557b7e5dd799e229e597fcbac133faf6f4939569e4b2888b',\n",
       "       'f38d53f3a2dfe67688c63408ddde433675c1cc7691b52ae97c6953c930200790',\n",
       "       ...,\n",
       "       '943cdd33237f4280cfc2941c1658d2e879d656b9b7d653a58c66b61523dc8c9c',\n",
       "       '4696cc2b986882a081b9682f32aca0d8dbecb7e6e3d491031654de6e3d32b449',\n",
       "       'e23c49dba9706cd4e4b33f03a479a172cc745be62886a69869761ee8246e8332'],\n",
       "      dtype=object)"
      ]
     },
     "execution_count": 4,
     "metadata": {},
     "output_type": "execute_result"
    }
   ],
   "source": [
    "df['usercorrelationkey'].unique()"
   ]
  },
  {
   "cell_type": "code",
   "execution_count": null,
   "metadata": {},
   "outputs": [],
   "source": [
    "uuids = df['usercorrelationkey'].unique()"
   ]
  },
  {
   "cell_type": "code",
   "execution_count": 7,
   "metadata": {},
   "outputs": [
    {
     "data": {
      "text/html": [
       "<div>\n",
       "<style scoped>\n",
       "    .dataframe tbody tr th:only-of-type {\n",
       "        vertical-align: middle;\n",
       "    }\n",
       "\n",
       "    .dataframe tbody tr th {\n",
       "        vertical-align: top;\n",
       "    }\n",
       "\n",
       "    .dataframe thead th {\n",
       "        text-align: right;\n",
       "    }\n",
       "</style>\n",
       "<table border=\"1\" class=\"dataframe\">\n",
       "  <thead>\n",
       "    <tr style=\"text-align: right;\">\n",
       "      <th></th>\n",
       "      <th>companyid</th>\n",
       "      <th>noticeid</th>\n",
       "      <th>host</th>\n",
       "      <th>companycountryid</th>\n",
       "      <th>requestquery</th>\n",
       "      <th>consentgiven</th>\n",
       "      <th>usercountry</th>\n",
       "      <th>actiontypeid</th>\n",
       "      <th>consenttypeid</th>\n",
       "      <th>accesstypeid</th>\n",
       "      <th>os</th>\n",
       "      <th>browser</th>\n",
       "      <th>usercorrelationkey</th>\n",
       "    </tr>\n",
       "  </thead>\n",
       "  <tbody>\n",
       "    <tr>\n",
       "      <th>7896</th>\n",
       "      <td>4141</td>\n",
       "      <td>8620</td>\n",
       "      <td>www.ramazzotti.de</td>\n",
       "      <td>3</td>\n",
       "      <td>consent=0</td>\n",
       "      <td>0</td>\n",
       "      <td>Switzerland</td>\n",
       "      <td>1</td>\n",
       "      <td>2</td>\n",
       "      <td>2</td>\n",
       "      <td>Windows</td>\n",
       "      <td>Chrome</td>\n",
       "      <td>943cdd33237f4280cfc2941c1658d2e879d656b9b7d653...</td>\n",
       "    </tr>\n",
       "    <tr>\n",
       "      <th>7897</th>\n",
       "      <td>4141</td>\n",
       "      <td>8620</td>\n",
       "      <td>www.ramazzotti.de</td>\n",
       "      <td>3</td>\n",
       "      <td>consent=0</td>\n",
       "      <td>0</td>\n",
       "      <td>Switzerland</td>\n",
       "      <td>4</td>\n",
       "      <td>2</td>\n",
       "      <td>2</td>\n",
       "      <td>Windows</td>\n",
       "      <td>Chrome</td>\n",
       "      <td>943cdd33237f4280cfc2941c1658d2e879d656b9b7d653...</td>\n",
       "    </tr>\n",
       "    <tr>\n",
       "      <th>7898</th>\n",
       "      <td>4141</td>\n",
       "      <td>8620</td>\n",
       "      <td>www.ramazzotti.de</td>\n",
       "      <td>3</td>\n",
       "      <td>consent=0</td>\n",
       "      <td>0</td>\n",
       "      <td>Switzerland</td>\n",
       "      <td>1</td>\n",
       "      <td>2</td>\n",
       "      <td>2</td>\n",
       "      <td>Windows</td>\n",
       "      <td>Chrome</td>\n",
       "      <td>943cdd33237f4280cfc2941c1658d2e879d656b9b7d653...</td>\n",
       "    </tr>\n",
       "  </tbody>\n",
       "</table>\n",
       "</div>"
      ],
      "text/plain": [
       "      companyid  noticeid               host  companycountryid requestquery  \\\n",
       "7896       4141      8620  www.ramazzotti.de                 3    consent=0   \n",
       "7897       4141      8620  www.ramazzotti.de                 3    consent=0   \n",
       "7898       4141      8620  www.ramazzotti.de                 3    consent=0   \n",
       "\n",
       "      consentgiven  usercountry  actiontypeid  consenttypeid  accesstypeid  \\\n",
       "7896             0  Switzerland             1              2             2   \n",
       "7897             0  Switzerland             4              2             2   \n",
       "7898             0  Switzerland             1              2             2   \n",
       "\n",
       "           os browser                                 usercorrelationkey  \n",
       "7896  Windows  Chrome  943cdd33237f4280cfc2941c1658d2e879d656b9b7d653...  \n",
       "7897  Windows  Chrome  943cdd33237f4280cfc2941c1658d2e879d656b9b7d653...  \n",
       "7898  Windows  Chrome  943cdd33237f4280cfc2941c1658d2e879d656b9b7d653...  "
      ]
     },
     "execution_count": 7,
     "metadata": {},
     "output_type": "execute_result"
    }
   ],
   "source": [
    "test_df =  df.loc[df['usercorrelationkey'] == '943cdd33237f4280cfc2941c1658d2e879d656b9b7d653a58c66b61523dc8c9c']\n",
    "test_df.head(100)"
   ]
  },
  {
   "cell_type": "code",
   "execution_count": null,
   "metadata": {},
   "outputs": [],
   "source": [
    "# for i in uu2:\n",
    "#     test = df.loc[df['usercorrelationkey'] == i]\n",
    "# #     print(test)\n",
    "#     for row in test.iterrows():\n",
    "#         my_dict = dict(row[1])\n",
    "# #         print(my_dict)\n",
    "#         test_val = my_dict.get('actiontypeid')\n",
    "# #         print(test_val)\n",
    "#         if test_val in [11,12]:\n",
    "#             print(my_dict)\n",
    "# #             c_list.append(my_dict)\n",
    "# #         elif test_val == 12:\n",
    "# #             c_list.append(my_dict)\n",
    "\n",
    "# #    print(test['usercorrelationkey']==i)\n",
    "# #     test_val = test['actiontypeid'].unique()\n",
    "# #     if 11 | 12 in test_val:\n",
    "# #         c_list.append()"
   ]
  },
  {
   "cell_type": "code",
   "execution_count": null,
   "metadata": {},
   "outputs": [],
   "source": [
    "for i in tnrange(len(uuids), desc='processing..'):\n",
    "    for i in uuids:\n",
    "        test = df.loc[df['usercorrelationkey'] == i]\n",
    "        for row in test.iterrows():\n",
    "            my_dict = dict(row[1])\n",
    "            if my_dict['actiontypeid'] in consent_actions:\n",
    "                my_dict['consent'] = 1\n",
    "                id_list.append(i)\n",
    "                c_list.append(my_dict)\n",
    "            elif my_dict['usercorrelationkey'] not in id_list:\n",
    "                my_dict['consent'] = 0\n",
    "                id_list.append(i)\n",
    "                nc_list.append(my_dict)"
   ]
  },
  {
   "cell_type": "code",
   "execution_count": null,
   "metadata": {},
   "outputs": [],
   "source": [
    "# for i in uu2:\n",
    "    \n",
    "#     uuid = i\n",
    "#     test = df.loc[df['usercorrelationkey'] == uuid]\n",
    "#     print(test)"
   ]
  },
  {
   "cell_type": "code",
   "execution_count": null,
   "metadata": {},
   "outputs": [],
   "source": [
    "for i in uu2:\n",
    "    test = df.loc[df['usercorrelationkey'] == i]\n",
    "    test_val_1 = test['actiontypeid'].unique()\n",
    "    if 11 in test_val_1:\n",
    "        for row in test.iterrows():\n",
    "            my_dict = dict(row[1])\n",
    "            test_act = my_dict.get('actiontypeid')\n",
    "            test_uuid = my_dict.get('usercorrelationkey')\n",
    "            if test_act == 11 and test_uuid not in c_list:\n",
    "                c_list.append(my_dict)\n",
    "            elif test_act == 12 and test_uuid not in c_list:\n",
    "                c_list.append(my_dict)\n",
    "    elif 12 in test_val_1:\n",
    "        for row in test.iterrows():\n",
    "            my_dict = dict(row[1])\n",
    "            test_act = my_dict.get('actiontypeid')\n",
    "            test_uuid = my_dict.get('usercorrelationkey')\n",
    "            if test_act == 11 and test_uuid not in c_list:\n",
    "                c_list.append(my_dict)\n",
    "            elif test_act == 12 and test_uuid not in c_list:\n",
    "                c_list.append(my_dict)\n",
    "    else:\n",
    "        for row in test.iterrows():\n",
    "            my_dict = dict(row[1])\n",
    "            test_uuid = my_dict.get('usercorrelationkey')\n",
    "            if test_uuid not in id_list:\n",
    "                nc_list.append(my_dict)\n",
    "                id_list.append(test_uuid)"
   ]
  },
  {
   "cell_type": "code",
   "execution_count": null,
   "metadata": {},
   "outputs": [],
   "source": [
    "for i in uu2:\n",
    "    test = df.loc[df['usercorrelationkey'] == i]\n",
    "    test_val_1 = test['actiontypeid'].unique()\n",
    "    if 11 in test_val_1:\n",
    "        for row in test.iterrows():\n",
    "            my_dict = dict(row[1])\n",
    "            test_act = my_dict.get('actiontypeid')\n",
    "            test_uuid = my_dict.get('usercorrelationkey')\n",
    "            if test_act == 11 and test_uuid not in c_list:\n",
    "                del my_dict['actiontypeid']\n",
    "                my_dict['consent'] = 1\n",
    "                c_list.append(my_dict)\n",
    "            elif test_act == 12 and test_uuid not in c_list:\n",
    "                del my_dict['actiontypeid']\n",
    "                my_dict['consent'] = 1\n",
    "                c_list.append(my_dict)\n",
    "    elif 12 in test_val_1:\n",
    "        for row in test.iterrows():\n",
    "            my_dict = dict(row[1])\n",
    "            test_act = my_dict.get('actiontypeid')\n",
    "            test_uuid = my_dict.get('usercorrelationkey')\n",
    "            if test_act == 11 and test_uuid not in c_list:\n",
    "                del my_dict['actiontypeid']\n",
    "                my_dict['consent'] = 1\n",
    "                c_list.append(my_dict)\n",
    "            elif test_act == 12 and test_uuid not in c_list:\n",
    "                del my_dict['actiontypeid']\n",
    "                my_dict['consent'] = 1\n",
    "                c_list.append(my_dict)\n",
    "    else:\n",
    "        for row in test.iterrows():\n",
    "            my_dict = dict(row[1])\n",
    "            test_uuid = my_dict.get('usercorrelationkey')\n",
    "            if test_uuid not in id_list:\n",
    "                del my_dict['actiontypeid']\n",
    "                my_dict['consent'] = 0\n",
    "                nc_list.append(my_dict)\n",
    "                id_list.append(test_uuid)"
   ]
  },
  {
   "cell_type": "code",
   "execution_count": null,
   "metadata": {},
   "outputs": [],
   "source": [
    "len(nc_list)"
   ]
  },
  {
   "cell_type": "code",
   "execution_count": null,
   "metadata": {},
   "outputs": [],
   "source": [
    "nc_list"
   ]
  },
  {
   "cell_type": "code",
   "execution_count": null,
   "metadata": {},
   "outputs": [],
   "source": [
    "test.info()"
   ]
  },
  {
   "cell_type": "code",
   "execution_count": null,
   "metadata": {},
   "outputs": [],
   "source": []
  }
 ],
 "metadata": {
  "kernelspec": {
   "display_name": "Python 3",
   "language": "python",
   "name": "python3"
  },
  "language_info": {
   "codemirror_mode": {
    "name": "ipython",
    "version": 3
   },
   "file_extension": ".py",
   "mimetype": "text/x-python",
   "name": "python",
   "nbconvert_exporter": "python",
   "pygments_lexer": "ipython3",
   "version": "3.7.3"
  }
 },
 "nbformat": 4,
 "nbformat_minor": 2
}
