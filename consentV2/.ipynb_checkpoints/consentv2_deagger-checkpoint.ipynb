{
 "cells": [
  {
   "cell_type": "code",
   "execution_count": 7,
   "metadata": {},
   "outputs": [],
   "source": [
    "import pandas as pd \n",
    "import numpy as np\n",
    "from tqdm import tnrange, tqdm_notebook, tqdm\n",
    "path = \"C:/Users/jacob.carey/Documents/consentv2/dataset_revisions/country_split/EU/industry_split/eu_pub_master.csv\"\n",
    "c_list = []\n",
    "nc_list =[]\n",
    "sample_ratio = 1"
   ]
  },
  {
   "cell_type": "code",
   "execution_count": null,
   "metadata": {},
   "outputs": [],
   "source": [
    "df = pd.read_csv(path, header=0, usecols=[\n",
    "#     'AdChoicesEnabled', \n",
    "#     'AltConsent', \n",
    "    'ClearLanguage',\n",
    "#     'CompanyId', \n",
    "#     'CompanyName', \n",
    "    'Consent', \n",
    "    'ConsentDetailCategories',\n",
    "    'ConsentDetailVendors', \n",
    "    'ConsentDisplayTypeId', \n",
    "#     'ConsentGivenCount',\n",
    "#     'ConsentNotGivenCount', \n",
    "    'ConsentTypeId', \n",
    "#     'CountAndroidUsers',\n",
    "#     'CountMacUsers', \n",
    "#     'CountWindowsUsers', \n",
    "#     'CountiOSUsers', \n",
    "    'CountryId',\n",
    "#     'CountryName', \n",
    "#     'Date', \n",
    "#     'Domain', \n",
    "    'GDPREnabled', \n",
    "    'IABEnabled',\n",
    "    'Impressions', \n",
    "    'IncludeSubdomains', \n",
    "#     'Industry', \n",
    "    'L2Enabled', \n",
    "#     'NoticeId',\n",
    "    'OnBrand', \n",
    "    'PrivacyAccessTypeId', \n",
    "#     'TotalHits'\n",
    "], dtype={\n",
    "#     'AdChoicesEnabled': np.int8, \n",
    "#     'AltConsent': np.int32, \n",
    "    'ClearLanguage': np.int8,\n",
    "#     'CompanyId', \n",
    "#     'CompanyName', \n",
    "    'Consent': np.int32, \n",
    "    'ConsentDetailCategories': np.int8,\n",
    "    'ConsentDetailVendors': np.int8, \n",
    "    'ConsentDisplayTypeId': np.int8, \n",
    "#     'ConsentGivenCount': np.int32,\n",
    "#     'ConsentNotGivenCount': np.int32, \n",
    "    'ConsentTypeId': np.int8, \n",
    "#     'CountAndroidUsers': np.int32,\n",
    "#     'CountMacUsers': np.int32, \n",
    "#     'CountWindowsUsers': np.int32, \n",
    "#     'CountiOSUsers': np.int32, \n",
    "    'CountryId': np.int8,\n",
    "#     'CountryName', \n",
    "#     'Date', \n",
    "#     'Domain', \n",
    "    'GDPREnabled': np.int8, \n",
    "    'IABEnabled': np.int8,\n",
    "    'Impressions': np.int32, \n",
    "    'IncludeSubdomains': np.int8, \n",
    "#     'Industry': np.int8, \n",
    "    'L2Enabled': np.int8, \n",
    "#     'NoticeId',\n",
    "    'OnBrand': np.int8, \n",
    "    'PrivacyAccessTypeId': np.int8, \n",
    "#     'TotalHits': np.int32\n",
    "})"
   ]
  },
  {
   "cell_type": "code",
   "execution_count": null,
   "metadata": {},
   "outputs": [],
   "source": [
    "for i in tnrange(len(df), desc='Processing'):\n",
    "    my_dict = dict(df.iloc[i])   \n",
    "    c_dict = my_dict.copy()\n",
    "                   \n",
    "    del c_dict['Consent']\n",
    "    del c_dict['Impressions']\n",
    "#     del c_dict['Industry']\n",
    "    c_dict['ConsentBool'] = 1\n",
    "    for idx in range(int(my_dict['Consent']/sample_ratio)):\n",
    "        c_list.append(c_dict)\n",
    "        \n",
    "    nc_dict = c_dict.copy()\n",
    "    nc_dict['ConsentBool'] = 0\n",
    "    nc_count = my_dict['Impressions'] - my_dict['Consent']\n",
    "    for idx in range(int(nc_count/sample_ratio)):\n",
    "        nc_list.append(nc_dict)\n",
    "    "
   ]
  },
  {
   "cell_type": "code",
   "execution_count": null,
   "metadata": {},
   "outputs": [],
   "source": [
    "c_df = pd.DataFrame(c_list, dtype=np.int8)"
   ]
  },
  {
   "cell_type": "code",
   "execution_count": null,
   "metadata": {},
   "outputs": [],
   "source": [
    "nc_df = pd.DataFrame(nc_list, dtype=np.int8)"
   ]
  },
  {
   "cell_type": "code",
   "execution_count": null,
   "metadata": {},
   "outputs": [],
   "source": [
    "my_df = pd.concat([c_df, nc_df])"
   ]
  },
  {
   "cell_type": "code",
   "execution_count": null,
   "metadata": {},
   "outputs": [],
   "source": [
    "# my_df = new_df.astype(dtype={\n",
    "#     'ClearLanguage': np.int8, \n",
    "#     'ConsentBool': np.int8, \n",
    "#     'ConsentDetailCategories': np.int8,\n",
    "#     'ConsentDetailVendors': np.int8, \n",
    "#     'ConsentDisplayTypeId': np.int8, \n",
    "#     'ConsentTypeId': np.int8,\n",
    "#     'CountryId': np.int8, \n",
    "#     'GDPREnabled': np.int8, \n",
    "#     'IABEnabled': np.int8, \n",
    "#     'IncludeSubdomains': np.int8,\n",
    "#     'L2Enabled': np.int8, \n",
    "#     'OnBrand': np.int8, \n",
    "#     'PrivacyAccessTypeId': np.int8\n",
    "# })"
   ]
  },
  {
   "cell_type": "code",
   "execution_count": null,
   "metadata": {},
   "outputs": [],
   "source": [
    "my_df.info()"
   ]
  },
  {
   "cell_type": "code",
   "execution_count": null,
   "metadata": {
    "scrolled": true
   },
   "outputs": [],
   "source": [
    "my_df.to_csv(\"C:/Users/jacob.carey/Documents/consentv2/dataset_revisions/country_split/EU/industry_split/eu_pub_deagg{0}.csv\".format(sample_ratio))"
   ]
  }
 ],
 "metadata": {
  "kernelspec": {
   "display_name": "Python 3",
   "language": "python",
   "name": "python3"
  },
  "language_info": {
   "codemirror_mode": {
    "name": "ipython",
    "version": 3
   },
   "file_extension": ".py",
   "mimetype": "text/x-python",
   "name": "python",
   "nbconvert_exporter": "python",
   "pygments_lexer": "ipython3",
   "version": "3.7.3"
  }
 },
 "nbformat": 4,
 "nbformat_minor": 2
}
