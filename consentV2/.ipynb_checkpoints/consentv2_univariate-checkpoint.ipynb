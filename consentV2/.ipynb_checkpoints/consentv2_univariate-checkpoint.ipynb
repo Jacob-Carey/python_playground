{
 "cells": [
  {
   "cell_type": "code",
   "execution_count": null,
   "metadata": {},
   "outputs": [],
   "source": [
    "import pandas as pd\n",
    "import numpy as np\n",
    "from datetime import datetime\n",
    "path = \"C:/Users/jacob.carey/Documents/consentv2/dataset_revisions/MASTERv7_50.csv\""
   ]
  },
  {
   "cell_type": "code",
   "execution_count": null,
   "metadata": {},
   "outputs": [],
   "source": [
    "df = pd.read_csv(path, usecols=[\n",
    "    'Unnamed: 0'\n",
    "    'ClearLanguage', \n",
    "    'ConsentDetailCategories',\n",
    "    'ConsentDetailVendors', \n",
    "    'ConsentTypeId', \n",
    "    'CountryId', \n",
    "    'ConsentBool',\n",
    "    #'Date',\n",
    "    'GDPREnabled', \n",
    "    'IABEnabled', \n",
    "    'Industry', \n",
    "    'L2Enabled', \n",
    "    'OnBrand',\n",
    "    'PrivacyAccessTypeId'  \n",
    "], dtype={\n",
    "    'Unnamed: 0': np.int32,\n",
    "    'ClearLanguage': np.int8, \n",
    "    'ConsentBool': np.int8, \n",
    "    'ConsentDetailCategories': np.int8,\n",
    "    'ConsentDetailVendors': np.int8, \n",
    "    'ConsentTypeId': np.int8, \n",
    "    'CountryId': np.int8, \n",
    "    #'Date': np.object,\n",
    "    'GDPREnabled': np.int8, \n",
    "    'IABEnabled': np.int8, \n",
    "    'Industry': np.int8, \n",
    "    'L2Enabled': np.int8, \n",
    "    'OnBrand': np.int8,\n",
    "    'PrivacyAccessTypeId': np.int8\n",
    "})"
   ]
  },
  {
   "cell_type": "code",
   "execution_count": null,
   "metadata": {},
   "outputs": [],
   "source": [
    "outcome_col = 'ConsentBool'\n",
    "id_col = 'Unnamed: 0'\n",
    "feature_cols = [\n",
    "    'ClearLanguage', \n",
    "    'ConsentDetailCategories',\n",
    "    'ConsentDetailVendors', \n",
    "    'ConsentTypeId', \n",
    "    'CountryId', \n",
    "    #'ConsentBool',\n",
    "    #'Date',\n",
    "    'GDPREnabled', \n",
    "    'IABEnabled', \n",
    "    'Industry', \n",
    "    'L2Enabled', \n",
    "    'OnBrand',\n",
    "    'PrivacyAccessTypeId'  \n",
    "]"
   ]
  },
  {
   "cell_type": "code",
   "execution_count": null,
   "metadata": {},
   "outputs": [],
   "source": [
    "# global counts\n",
    "total_count = len(df.index)\n",
    "total_positives = len(df[(df[outcome_col] == True)])\n",
    "\n",
    "# An empty list to hold the count results\n",
    "count_list = list()\n",
    "\n",
    "# Iterate over each feature to collect individual counts per value\n",
    "for feature in feature_cols:\n",
    "    counts_df = pd.DataFrame(df.groupby([feature,])[id_col].count()).nlargest(20,[id_col])  # only top 20\n",
    "    counts_df.rename({id_col: 'count'}, axis='columns', inplace=True)\n",
    "    positives_df = pd.DataFrame(df[(df[outcome_col] == True)].groupby([feature,])[id_col].count())  # all values\n",
    "    positives_df.rename({id_col: 'positives'}, axis='columns', inplace=True)\n",
    "    # merge these dataframes\n",
    "    merge_df = counts_df.merge(positives_df, left_index=True, right_index=True)\n",
    "    # iterate over rows, building a dict per row, and append each to list of counts\n",
    "    for this_row in merge_df.iterrows():\n",
    "        this_dict = {\n",
    "            'feature': feature,\n",
    "            'value': str(this_row[0]),\n",
    "            'total_count': total_count,\n",
    "            'total_positives': total_positives,\n",
    "            'count': this_row[1]['count'],\n",
    "            'positives': this_row[1]['positives']\n",
    "        }\n",
    "        count_list.append(this_dict)\n",
    "\n",
    "# Create a new dataframe from the aggregated list\n",
    "lift_df = pd.DataFrame(count_list)\n",
    "\n",
    "# Now let's add some calculations for probabilities and lift per row\n",
    "lift_df['total_prob'] = lift_df['total_positives'] / lift_df['total_count']\n",
    "lift_df['prob'] = lift_df['positives'] / lift_df['count']\n",
    "lift_df['lift - more likely'] = lift_df['prob'] / lift_df['total_prob']\n",
    "lift_df['lift - less likely'] = 1 / lift_df['lift - more likely']\n",
    "lift_df['prct_total'] = lift_df['count'] / lift_df['total_count']"
   ]
  },
  {
   "cell_type": "code",
   "execution_count": null,
   "metadata": {},
   "outputs": [],
   "source": [
    "date_time = datetime.today().strftime('%m-%d-%H%M')\n",
    "output_filepath = \"C:/Users/jacob.carey/Documents/consentv2/univariate/consentv2_univariate_{0}.csv'.format(date_time)\n",
    "lift_df.to_csv(output_filepath, index=False)"
   ]
  }
 ],
 "metadata": {
  "kernelspec": {
   "display_name": "Python 3",
   "language": "python",
   "name": "python3"
  },
  "language_info": {
   "codemirror_mode": {
    "name": "ipython",
    "version": 3
   },
   "file_extension": ".py",
   "mimetype": "text/x-python",
   "name": "python",
   "nbconvert_exporter": "python",
   "pygments_lexer": "ipython3",
   "version": "3.7.3"
  }
 },
 "nbformat": 4,
 "nbformat_minor": 2
}
