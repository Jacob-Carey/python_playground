{
 "cells": [
  {
   "cell_type": "code",
   "execution_count": 1,
   "metadata": {},
   "outputs": [],
   "source": [
    "import pandas as pd \n",
    "import numpy as np\n",
    "import os\n",
    "from tqdm import tnrange, tqdm_notebook, tqdm\n",
    "path = \"C:/Users/jacob.carey/Desktop/Projects/ConsentRateProjects/user_level_consentv1/data_prep/mass_athena/mass_athena_original.csv\"\n",
    "chunk_list = []\n",
    "test_list = []"
   ]
  },
  {
   "cell_type": "code",
   "execution_count": 2,
   "metadata": {},
   "outputs": [],
   "source": [
    "df_chunk = pd.read_csv(path, usecols=[\n",
    "    'companyid',\n",
    "    'noticeid',\n",
    "    'host',\n",
    "    'companycountryid',\n",
    "    'requestquery',\n",
    "    'consentgiven',\n",
    "    'usercountry',\n",
    "    'actiontypeid',\n",
    "    'consenttypeid',\n",
    "    'accesstypeid',\n",
    "    'os',\n",
    "    'browser',\n",
    "    'usercorrelationkey'\n",
    "], dtype={\n",
    "    'companyid': np.int8,\n",
    "    'noticeid': np.int8,\n",
    "    'companycountryid': np.int8,\n",
    "    'consentgiven': np.int8,\n",
    "    'actiontypeid': np.int8,\n",
    "    'consenttypeid': np.int8,\n",
    "    'accesstypeid': np.int8\n",
    "}, chunksize=1000000)"
   ]
  },
  {
   "cell_type": "code",
   "execution_count": 3,
   "metadata": {},
   "outputs": [],
   "source": [
    "for chunk in df_chunk:\n",
    "    chunk_list.append(chunk)\n",
    "\n",
    "df = pd.concat(chunk_list)"
   ]
  },
  {
   "cell_type": "code",
   "execution_count": 7,
   "metadata": {},
   "outputs": [
    {
     "name": "stdout",
     "output_type": "stream",
     "text": [
      "<class 'pandas.core.frame.DataFrame'>\n",
      "RangeIndex: 95886230 entries, 0 to 95886229\n",
      "Data columns (total 13 columns):\n",
      "companyid             int8\n",
      "noticeid              int8\n",
      "host                  object\n",
      "companycountryid      int8\n",
      "requestquery          object\n",
      "consentgiven          int8\n",
      "usercountry           object\n",
      "actiontypeid          int8\n",
      "consenttypeid         int8\n",
      "accesstypeid          int8\n",
      "os                    object\n",
      "browser               object\n",
      "usercorrelationkey    object\n",
      "dtypes: int8(7), object(6)\n",
      "memory usage: 4.9+ GB\n"
     ]
    }
   ],
   "source": [
    "df.info()"
   ]
  },
  {
   "cell_type": "code",
   "execution_count": 5,
   "metadata": {},
   "outputs": [
    {
     "data": {
      "text/plain": [
       "5696036"
      ]
     },
     "execution_count": 5,
     "metadata": {},
     "output_type": "execute_result"
    }
   ],
   "source": [
    "df['usercorrelationkey'].nunique()"
   ]
  },
  {
   "cell_type": "code",
   "execution_count": null,
   "metadata": {},
   "outputs": [],
   "source": [
    "for i in tnrange(len(df), desc='Processing'):\n",
    "    my_dict = dict(df.iloc[i])\n",
    "    test_val = my_dict.get('usercorrelationkey', 0)\n",
    "    \n",
    "    if test_val == '788a462bf873afb5557b7e5dd799e229e597fcbac133faf6f4939569e4b2888b':\n",
    "        test_list.append(my_dict)"
   ]
  },
  {
   "cell_type": "code",
   "execution_count": null,
   "metadata": {
    "scrolled": false
   },
   "outputs": [],
   "source": [
    "test_df = pd.DataFrame(test_list)"
   ]
  },
  {
   "cell_type": "code",
   "execution_count": null,
   "metadata": {},
   "outputs": [],
   "source": [
    "test_df['os'].unique()"
   ]
  },
  {
   "cell_type": "code",
   "execution_count": null,
   "metadata": {},
   "outputs": [],
   "source": [
    "test_df.head()"
   ]
  },
  {
   "cell_type": "code",
   "execution_count": null,
   "metadata": {},
   "outputs": [],
   "source": []
  }
 ],
 "metadata": {
  "kernelspec": {
   "display_name": "Python 3",
   "language": "python",
   "name": "python3"
  },
  "language_info": {
   "codemirror_mode": {
    "name": "ipython",
    "version": 3
   },
   "file_extension": ".py",
   "mimetype": "text/x-python",
   "name": "python",
   "nbconvert_exporter": "python",
   "pygments_lexer": "ipython3",
   "version": "3.7.3"
  }
 },
 "nbformat": 4,
 "nbformat_minor": 2
}
