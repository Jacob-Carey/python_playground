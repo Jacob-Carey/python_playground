{
 "cells": [
  {
   "cell_type": "code",
   "execution_count": 1,
   "metadata": {},
   "outputs": [],
   "source": [
    "import pandas as pd\n",
    "import numpy as np\n",
    "path = \"C:/Users/jacob.carey/Documents/consentv2/dataset_revisions/country_split/EU/EUMASTERv2_25.csv\"\n",
    "ent_list = []\n",
    "pub_list = []\n",
    "goods_list = []\n",
    "health_list = []\n",
    "tech_list = []\n",
    "fin_list = []"
   ]
  },
  {
   "cell_type": "code",
   "execution_count": 2,
   "metadata": {},
   "outputs": [
    {
     "name": "stdout",
     "output_type": "stream",
     "text": [
      "<class 'pandas.core.frame.DataFrame'>\n",
      "RangeIndex: 99242828 entries, 0 to 99242827\n",
      "Data columns (total 12 columns):\n",
      "ClearLanguage              int8\n",
      "ConsentBool                int8\n",
      "ConsentDetailCategories    int8\n",
      "ConsentDetailVendors       int8\n",
      "ConsentTypeId              int8\n",
      "CountryId                  int8\n",
      "GDPREnabled                int8\n",
      "IABEnabled                 int8\n",
      "Industry                   int8\n",
      "L2Enabled                  int8\n",
      "OnBrand                    int8\n",
      "PrivacyAccessTypeId        int8\n",
      "dtypes: int8(12)\n",
      "memory usage: 1.1 GB\n"
     ]
    }
   ],
   "source": [
    "df = pd.read_csv(path, usecols=[\n",
    "    'ClearLanguage', \n",
    "    'ConsentBool', \n",
    "    'ConsentDetailCategories',\n",
    "    'ConsentDetailVendors', \n",
    "    'ConsentTypeId', \n",
    "    'CountryId', \n",
    "    'GDPREnabled',\n",
    "    'IABEnabled', \n",
    "    'Industry', \n",
    "    'L2Enabled', \n",
    "    'OnBrand',\n",
    "    'PrivacyAccessTypeId'\n",
    "], dtype={\n",
    "    'ClearLanguage': np.int8, \n",
    "    'ConsentBool': np.int8, \n",
    "    'ConsentDetailCategories': np.int8,\n",
    "    'ConsentDetailVendors': np.int8, \n",
    "    'ConsentTypeId': np.int8, \n",
    "    'CountryId': np.int8, \n",
    "    'GDPREnabled': np.int8,\n",
    "    'IABEnabled': np.int8, \n",
    "    'Industry': np.int8, \n",
    "    'L2Enabled': np.int8, \n",
    "    'OnBrand': np.int8,\n",
    "    'PrivacyAccessTypeId': np.int8\n",
    "})\n",
    "df.info()"
   ]
  },
  {
   "cell_type": "code",
   "execution_count": null,
   "metadata": {},
   "outputs": [],
   "source": [
    "for row in df.iterrows():\n",
    "    my_dict = dict(row[1])\n",
    "    test_val = my_dict.get('Industry', 0)\n",
    "    \n",
    "    if test_val == 1:\n",
    "        pub_list.append(my_dict)\n",
    "    elif test_val == 2:\n",
    "        ent_list.append(my_dict)\n",
    "    elif test_val == 3:\n",
    "        goods_list.append(my_dict)\n",
    "    elif test_val == 4:\n",
    "        health_list.append(my_dict)\n",
    "    elif test_val == 5:\n",
    "        tech_list.append(my_dict)\n",
    "    elif test_val == 6:\n",
    "        fin_list.append(my_dict)"
   ]
  },
  {
   "cell_type": "code",
   "execution_count": null,
   "metadata": {},
   "outputs": [],
   "source": [
    "# ent_list.info()\n",
    "# pub_list.info()\n",
    "# goods_list.info()\n",
    "# health_list.info()\n",
    "# tech_list.info()\n",
    "# fin_list.info()"
   ]
  }
 ],
 "metadata": {
  "kernelspec": {
   "display_name": "Python 3",
   "language": "python",
   "name": "python3"
  },
  "language_info": {
   "codemirror_mode": {
    "name": "ipython",
    "version": 3
   },
   "file_extension": ".py",
   "mimetype": "text/x-python",
   "name": "python",
   "nbconvert_exporter": "python",
   "pygments_lexer": "ipython3",
   "version": "3.7.3"
  }
 },
 "nbformat": 4,
 "nbformat_minor": 2
}
