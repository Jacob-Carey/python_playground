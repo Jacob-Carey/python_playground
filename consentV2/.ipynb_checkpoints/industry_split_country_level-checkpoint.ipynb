{
 "cells": [
  {
   "cell_type": "code",
   "execution_count": 1,
   "metadata": {},
   "outputs": [],
   "source": [
    "import pandas as pd \n",
    "import numpy as np\n",
    "from tqdm import tnrange, tqdm_notebook\n",
    "\n",
    "path = \"C:/Users/jacob.carey/Documents/consentv2/dataset_revisions/country_split/EU/EUMASTERv1.csv\"\n",
    "ent_list = []\n",
    "pub_list = []\n",
    "goods_list = []\n",
    "health_list = []\n",
    "tech_list = []\n",
    "fin_list = []\n"
   ]
  },
  {
   "cell_type": "code",
   "execution_count": 2,
   "metadata": {},
   "outputs": [
    {
     "data": {
      "text/plain": [
       "Index(['AdChoicesEnabled', 'ClearLanguage', 'ConsentDetailCategories',\n",
       "       'ConsentDetailVendors', 'ConsentDisplayTypeId', 'ConsentTypeId',\n",
       "       'CountryId_x', 'GDPREnabled', 'IABEnabled', 'IncludeSubdomains',\n",
       "       'Industry', 'L2Enabled', 'OnBrand', 'PrivacyAccessTypeId', 'altconsent',\n",
       "       'company_name', 'companyid', 'consent', 'consentgivencount',\n",
       "       'consentnotgivencount', 'countandroidusers', 'countiosusers',\n",
       "       'countmacusers', 'country_name', 'countwindowsusers', 'date', 'domain',\n",
       "       'impressions', 'noticeid', 'totalhits'],\n",
       "      dtype='object')"
      ]
     },
     "execution_count": 2,
     "metadata": {},
     "output_type": "execute_result"
    }
   ],
   "source": [
    "df = pd.read_csv(path, usecols=[ \n",
    "    'AdChoicesEnabled', \n",
    "    'ClearLanguage',\n",
    "    'ConsentDetailCategories', \n",
    "    'ConsentDetailVendors',\n",
    "    'ConsentDisplayTypeId', \n",
    "    'ConsentTypeId',\n",
    "    'CountryId_x', \n",
    "    'GDPREnabled', \n",
    "    'IABEnabled', \n",
    "    'IncludeSubdomains',\n",
    "    'Industry', \n",
    "    'L2Enabled', \n",
    "    'OnBrand', \n",
    "    'PrivacyAccessTypeId', \n",
    "    'altconsent',\n",
    "    'company_name', \n",
    "    'companyid', \n",
    "    'consent', \n",
    "    'consentgivencount',\n",
    "    'consentnotgivencount', \n",
    "    'countandroidusers', \n",
    "    'countiosusers',\n",
    "    'countmacusers', \n",
    "    'country_name', \n",
    "    'countwindowsusers', \n",
    "    'date', \n",
    "    'domain',\n",
    "    'impressions', \n",
    "    'noticeid', \n",
    "    'totalhits', \n",
    "], dtype={\n",
    "    'AdChoicesEnabled': np.int8, \n",
    "    'ClearLanguage': np.int8,\n",
    "    'ConsentDetailCategories': np.int8, \n",
    "    'ConsentDetailVendors': np.int8,\n",
    "    'ConsentDisplayTypeId': np.int8, \n",
    "    'ConsentTypeId': np.int8,\n",
    "    'CountryId_x': np.int8, \n",
    "    'GDPREnabled': np.int8, \n",
    "    'IABEnabled': np.int8, \n",
    "    'IncludeSubdomains': np.int8,\n",
    "    'Industry': np.int8, \n",
    "    'L2Enabled': np.int8, \n",
    "    'OnBrand': np.int8, \n",
    "    'PrivacyAccessTypeId': np.int8, \n",
    "    'altconsent': np.int32, \n",
    "    'companyid': np.int32, \n",
    "    'consent': np.int32, \n",
    "    'consentgivencount': np.int32,\n",
    "    'consentnotgivencount': np.int32, \n",
    "    'countandroidusers': np.int32, \n",
    "    'countiosusers': np.int32,\n",
    "    'countmacusers': np.int32, \n",
    "    'countwindowsusers': np.int32, \n",
    "    'impressions': np.int32, \n",
    "    'noticeid': np.int32, \n",
    "    'totalhits': np.int32, \n",
    "})\n",
    "df.columns"
   ]
  },
  {
   "cell_type": "code",
   "execution_count": 3,
   "metadata": {},
   "outputs": [
    {
     "name": "stdout",
     "output_type": "stream",
     "text": [
      "<class 'pandas.core.frame.DataFrame'>\n",
      "Index: 44721 entries, 0 to 44720\n",
      "Data columns (total 30 columns):\n",
      "AdChoicesEnabled           44721 non-null int8\n",
      "ClearLanguage              44721 non-null int8\n",
      "ConsentDetailCategories    44721 non-null int8\n",
      "ConsentDetailVendors       44721 non-null int8\n",
      "ConsentDisplayTypeId       44721 non-null int8\n",
      "ConsentTypeId              44721 non-null int8\n",
      "CountryId                  44721 non-null int8\n",
      "GDPREnabled                44721 non-null int8\n",
      "IABEnabled                 44721 non-null int8\n",
      "IncludeSubdomains          44721 non-null int8\n",
      "Industry                   44721 non-null int8\n",
      "L2Enabled                  44721 non-null int8\n",
      "OnBrand                    44721 non-null int8\n",
      "PrivacyAccessTypeId        44721 non-null int8\n",
      "AltConsent                 44721 non-null int32\n",
      "CompanyName                44721 non-null object\n",
      "CompanyId                  44721 non-null int32\n",
      "Consent                    44721 non-null int32\n",
      "ConsentGivenCount          44721 non-null int32\n",
      "ConsentNotGivenCount       44721 non-null int32\n",
      "CountAndroidUsers          44721 non-null int32\n",
      "CountiOSUsers              44721 non-null int32\n",
      "CountMacUsers              44721 non-null int32\n",
      "CountryName                44721 non-null object\n",
      "CountWindowsUsers          44721 non-null int32\n",
      "Date                       44721 non-null object\n",
      "Domain                     44528 non-null object\n",
      "Impressions                44721 non-null int32\n",
      "NoticeId                   44721 non-null int32\n",
      "TotalHits                  44721 non-null int32\n",
      "dtypes: int32(12), int8(14), object(4)\n",
      "memory usage: 4.4+ MB\n"
     ]
    }
   ],
   "source": [
    "df = df.rename(index=str, columns={\n",
    "    'CountryId_x': 'CountryId', \n",
    "    'consent': 'Consent', \n",
    "    'impressions': 'Impressions', \n",
    "    'domain': 'Domain', \n",
    "    'totalhits': 'TotalHits', \n",
    "    'altconsent': 'AltConsent', \n",
    "    'date': 'Date',\n",
    "    'companyid': 'CompanyId',\n",
    "    'company_name': 'CompanyName',\n",
    "    'consentgivencount': 'ConsentGivenCount',\n",
    "    'consentnotgivencount': 'ConsentNotGivenCount',\n",
    "    'countandroidusers': 'CountAndroidUsers',\n",
    "    'countiosusers': 'CountiOSUsers',\n",
    "    'countmacusers': 'CountMacUsers',\n",
    "    'countwindowsusers': 'CountWindowsUsers',\n",
    "    'country_name': 'CountryName',\n",
    "    'noticeid': 'NoticeId'\n",
    "})\n",
    "df.info()"
   ]
  },
  {
   "cell_type": "code",
   "execution_count": 4,
   "metadata": {},
   "outputs": [
    {
     "data": {
      "application/vnd.jupyter.widget-view+json": {
       "model_id": "f00d3a3a1aeb4b1b858132d537214c99",
       "version_major": 2,
       "version_minor": 0
      },
      "text/plain": [
       "HBox(children=(IntProgress(value=0, description='Processing', max=44721, style=ProgressStyle(description_width…"
      ]
     },
     "metadata": {},
     "output_type": "display_data"
    },
    {
     "name": "stdout",
     "output_type": "stream",
     "text": [
      "\n"
     ]
    }
   ],
   "source": [
    "for i in tnrange(len(df), desc='Processing'):\n",
    "    my_dict = dict(df.iloc[i])\n",
    "    test_val = my_dict.get('Industry', 0)\n",
    "    \n",
    "    if test_val == 1:\n",
    "        pub_list.append(my_dict)\n",
    "    elif test_val == 2:\n",
    "        ent_list.append(my_dict)\n",
    "    elif test_val == 3:\n",
    "        goods_list.append(my_dict)\n",
    "    elif test_val == 4:\n",
    "        health_list.append(my_dict)\n",
    "    elif test_val == 5:\n",
    "        tech_list.append(my_dict)\n",
    "    elif test_val == 6:\n",
    "        fin_list.append(my_dict)"
   ]
  },
  {
   "cell_type": "code",
   "execution_count": 9,
   "metadata": {},
   "outputs": [],
   "source": [
    "ent_df = pd.DataFrame(ent_list)\n",
    "pub_df = pd.DataFrame(pub_list)\n",
    "goods_df = pd.DataFrame(goods_list)\n",
    "health_df = pd.DataFrame(health_list)\n",
    "tech_df = pd.DataFrame(tech_list)\n",
    "fin_df = pd.DataFrame(fin_list)"
   ]
  },
  {
   "cell_type": "code",
   "execution_count": 10,
   "metadata": {},
   "outputs": [],
   "source": [
    "ent_df.to_csv(\"C:/Users/jacob.carey/Documents/consentv2/dataset_revisions/country_split/EU/industry_split/eu_ent.csv\")\n",
    "pub_df.to_csv(\"C:/Users/jacob.carey/Documents/consentv2/dataset_revisions/country_split/EU/industry_split/eu_pub.csv\")\n",
    "goods_df.to_csv(\"C:/Users/jacob.carey/Documents/consentv2/dataset_revisions/country_split/EU/industry_split/eu_goods.csv\")\n",
    "health_df.to_csv(\"C:/Users/jacob.carey/Documents/consentv2/dataset_revisions/country_split/EU/industry_split/eu_health.csv\")\n",
    "tech_df.to_csv(\"C:/Users/jacob.carey/Documents/consentv2/dataset_revisions/country_split/EU/industry_split/eu_tech.csv\")\n",
    "fin_df.to_csv(\"C:/Users/jacob.carey/Documents/consentv2/dataset_revisions/country_split/EU/industry_split/eu_fin.csv\")"
   ]
  },
  {
   "cell_type": "code",
   "execution_count": null,
   "metadata": {},
   "outputs": [],
   "source": []
  }
 ],
 "metadata": {
  "kernelspec": {
   "display_name": "Python 3",
   "language": "python",
   "name": "python3"
  },
  "language_info": {
   "codemirror_mode": {
    "name": "ipython",
    "version": 3
   },
   "file_extension": ".py",
   "mimetype": "text/x-python",
   "name": "python",
   "nbconvert_exporter": "python",
   "pygments_lexer": "ipython3",
   "version": "3.7.3"
  }
 },
 "nbformat": 4,
 "nbformat_minor": 2
}
