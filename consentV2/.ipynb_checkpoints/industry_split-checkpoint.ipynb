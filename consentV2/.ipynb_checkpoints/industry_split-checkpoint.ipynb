{
 "cells": [
  {
   "cell_type": "code",
   "execution_count": 1,
   "metadata": {},
   "outputs": [],
   "source": [
    "import pandas as pd\n",
    "import numpy as np\n",
    "path = \"C:/Users/jacob.carey/Documents/consentv2/dataset_revisions/country_split/EU/EUMASTERv2_25.csv\"\n",
    "ent_list = []\n",
    "pub_list = []\n",
    "goods_list = []\n",
    "health_list = []\n",
    "tech_list = []\n",
    "fin_list = []"
   ]
  },
  {
   "cell_type": "code",
   "execution_count": 2,
   "metadata": {},
   "outputs": [
    {
     "data": {
      "text/plain": [
       "Index(['ClearLanguage', 'ConsentBool', 'ConsentDetailCategories',\n",
       "       'ConsentDetailVendors', 'ConsentTypeId', 'CountryId', 'GDPREnabled',\n",
       "       'IABEnabled', 'Industry', 'L2Enabled', 'OnBrand',\n",
       "       'PrivacyAccessTypeId'],\n",
       "      dtype='object')"
      ]
     },
     "execution_count": 2,
     "metadata": {},
     "output_type": "execute_result"
    }
   ],
   "source": [
    "df = pd.read_csv(path, usecols=[\n",
    "    'ClearLanguage', \n",
    "    'ConsentBool', \n",
    "    'ConsentDetailCategories',\n",
    "    'ConsentDetailVendors', \n",
    "    'ConsentTypeId', \n",
    "    'CountryId', \n",
    "    'GDPREnabled',\n",
    "    'IABEnabled', \n",
    "    'Industry', \n",
    "    'L2Enabled', \n",
    "    'OnBrand',\n",
    "    'PrivacyAccessTypeId'\n",
    "], dtype={\n",
    "    'ClearLanguage': np.int8, \n",
    "    'ConsentBool': np.int8, \n",
    "    'ConsentDetailCategories': np.int8,\n",
    "    'ConsentDetailVendors': np.int8, \n",
    "    'ConsentTypeId': np.int8, \n",
    "    'CountryId': np.int8, \n",
    "    'GDPREnabled': np.int8,\n",
    "    'IABEnabled': np.int8, \n",
    "    'Industry': np.int8, \n",
    "    'L2Enabled': np.int8, \n",
    "    'OnBrand': np.int8,\n",
    "    'PrivacyAccessTypeId': np.int8\n",
    "})\n",
    "df.columns"
   ]
  },
  {
   "cell_type": "code",
   "execution_count": null,
   "metadata": {},
   "outputs": [],
   "source": [
    "for row in df.iterrows():\n",
    "    my_dict = dict(row[1])\n",
    "    test_val = my_dict.get('Industry', 0)\n",
    "    \n",
    "    if test_val == 1:\n",
    "        pub_list.append(my_dict)\n",
    "    elif test_val == 2:\n",
    "        ent_list.append(my_dict)\n",
    "    elif test_val == 3:\n",
    "        goods_list.append(my_dict)\n",
    "    elif test_val == 4:\n",
    "        health_list.append(my_dict)\n",
    "    elif test_val == 5:\n",
    "        tech_list.append(my_dict)\n",
    "    elif test_val == 6:\n",
    "        fin_list.append(my_dict)"
   ]
  },
  {
   "cell_type": "code",
   "execution_count": null,
   "metadata": {},
   "outputs": [],
   "source": [
    "# ent_list.info()\n",
    "# pub_list.info()\n",
    "# goods_list.info()\n",
    "# health_list.info()\n",
    "# tech_list.info()\n",
    "# fin_list.info()"
   ]
  }
 ],
 "metadata": {
  "kernelspec": {
   "display_name": "Python 3",
   "language": "python",
   "name": "python3"
  },
  "language_info": {
   "codemirror_mode": {
    "name": "ipython",
    "version": 3
   },
   "file_extension": ".py",
   "mimetype": "text/x-python",
   "name": "python",
   "nbconvert_exporter": "python",
   "pygments_lexer": "ipython3",
   "version": "3.7.3"
  }
 },
 "nbformat": 4,
 "nbformat_minor": 2
}
