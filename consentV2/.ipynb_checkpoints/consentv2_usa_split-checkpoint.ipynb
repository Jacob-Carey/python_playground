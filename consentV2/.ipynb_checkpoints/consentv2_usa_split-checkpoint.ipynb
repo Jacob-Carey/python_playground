{
 "cells": [
  {
   "cell_type": "code",
   "execution_count": 19,
   "metadata": {},
   "outputs": [],
   "source": [
    "import pandas as pd \n",
    "import numpy as np\n",
    "path = \"C:/Users/jacob.carey/Documents/consentv2/dataset_revisions/MASTERv4.csv\"\n",
    "us_list = []\n",
    "ca_list = []\n",
    "eu_list = []"
   ]
  },
  {
   "cell_type": "code",
   "execution_count": 20,
   "metadata": {},
   "outputs": [
    {
     "data": {
      "text/plain": [
       "Index(['date', 'companyid', 'noticeid', 'domain', 'totalhits',\n",
       "       'consentgivencount', 'consentnotgivencount', 'uniqueusercount',\n",
       "       'impressions', 'consent', 'altconsent', 'countwindowsusers',\n",
       "       'countmacusers', 'countandroidusers', 'countiosusers',\n",
       "       'AdChoicesEnabled', 'ConsentDetailCategories', 'ConsentDetailVendors',\n",
       "       'ConsentDisplayTypeId', 'ConsentDurationMonths', 'ConsentTypeId',\n",
       "       'CountryId_x', 'GDPREnabled', 'IABEnabled', 'IncludeSubdomains',\n",
       "       'Industry', 'L2Enabled', 'PrivacyAccessTypeId', 'company_name',\n",
       "       'country_name', 'OnBrand', 'ClearLanguage'],\n",
       "      dtype='object')"
      ]
     },
     "execution_count": 20,
     "metadata": {},
     "output_type": "execute_result"
    }
   ],
   "source": [
    "df = pd.read_csv(path)\n",
    "df.columns"
   ]
  },
  {
   "cell_type": "code",
   "execution_count": 21,
   "metadata": {},
   "outputs": [],
   "source": [
    "for row in df.iterrows():\n",
    "    my_dict = dict(row[1])\n",
    "    test_val = my_dict.get('country_name', 0)\n",
    "    \n",
    "    if test_val == 'United States':\n",
    "        us_list.append(my_dict)\n",
    "    elif test_val == 'Canada':\n",
    "        ca_list.append(my_dict)\n",
    "    else:\n",
    "        eu_list.append(my_dict)\n",
    "    "
   ]
  },
  {
   "cell_type": "code",
   "execution_count": 22,
   "metadata": {},
   "outputs": [],
   "source": [
    "us_df = pd.DataFrame(us_list)\n",
    "eu_df = pd.DataFrame(eu_list)\n",
    "ca_df = pd.DataFrame(ca_list)"
   ]
  },
  {
   "cell_type": "code",
   "execution_count": 23,
   "metadata": {},
   "outputs": [],
   "source": [
    "us_df.to_csv(\"C:/Users/jacob.carey/Documents/consentv2/dataset_revisions/country_split/US/USMASTERv1.csv\")\n",
    "eu_df.to_csv(\"C:/Users/jacob.carey/Documents/consentv2/dataset_revisions/country_split/EU/EUMASTERv1.csv\")\n",
    "ca_df.to_csv(\"C:/Users/jacob.carey/Documents/consentv2/dataset_revisions/country_split/CA/CAMASTERv1.csv\")"
   ]
  },
  {
   "cell_type": "code",
   "execution_count": null,
   "metadata": {},
   "outputs": [],
   "source": []
  }
 ],
 "metadata": {
  "kernelspec": {
   "display_name": "Python 3",
   "language": "python",
   "name": "python3"
  },
  "language_info": {
   "codemirror_mode": {
    "name": "ipython",
    "version": 3
   },
   "file_extension": ".py",
   "mimetype": "text/x-python",
   "name": "python",
   "nbconvert_exporter": "python",
   "pygments_lexer": "ipython3",
   "version": "3.7.3"
  }
 },
 "nbformat": 4,
 "nbformat_minor": 2
}
