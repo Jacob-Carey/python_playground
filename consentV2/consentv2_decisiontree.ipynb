{
 "cells": [
  {
   "cell_type": "code",
   "execution_count": 1,
   "metadata": {},
   "outputs": [],
   "source": [
    "from sklearn import tree\n",
    "import pandas as pd\n",
    "import numpy as np\n",
    "import pydotplus as pypl\n",
    "from IPython.display import Image\n",
    "from datetime import datetime\n",
    "# path = \"C:/Users/jacob.carey/Documents/consentv2/dataset_revisions/country_split/EU/industry_split/eu_pub_deagg1.csv\"\n",
    "# path = \"C:/Users/jacob.carey/Documents/consentv2/dataset_revisions/country_split/EU/EUMASTERv2_25.csv\"\n",
    "path = \"C:/Users/jacob.carey/Documents/consentv2/dataset_revisions/MASTERv8_25.csv\"\n",
    "\n"
   ]
  },
  {
   "cell_type": "code",
   "execution_count": 2,
   "metadata": {},
   "outputs": [],
   "source": [
    "df = pd.read_csv(path, \n",
    "                usecols = ['ClearLanguage', 'ConsentBool', 'ConsentDetailCategories',\n",
    "       'ConsentDetailVendors', 'ConsentTypeId', 'CountryId', 'GDPREnabled',\n",
    "       'IABEnabled', 'Industry', 'L2Enabled', 'OnBrand',\n",
    "       'PrivacyAccessTypeId'], \n",
    "                 dtype={\n",
    "                     'ClearLanguage': np.int8, \n",
    "                     'ConsentBool': np.int8, \n",
    "                     'ConsentDetailCategories': np.int8,\n",
    "                     'ConsentDetailVendors': np.int8, \n",
    "                     'ConsentTypeId': np.int8, \n",
    "                     'CountryId': np.int8, \n",
    "                     'GDPREnabled': np.int8,\n",
    "                     'IABEnabled': np.int8, \n",
    "                     'Industry': np.int8,\n",
    "                     'L2Enabled': np.int8, \n",
    "                     'OnBrand': np.int8,\n",
    "                     'PrivacyAccessTypeId': np.int8\n",
    "                 })"
   ]
  },
  {
   "cell_type": "code",
   "execution_count": null,
   "metadata": {},
   "outputs": [],
   "source": [
    "df['OnBrand'].sum()"
   ]
  },
  {
   "cell_type": "code",
   "execution_count": null,
   "metadata": {},
   "outputs": [],
   "source": [
    "len(df)"
   ]
  },
  {
   "cell_type": "code",
   "execution_count": 3,
   "metadata": {},
   "outputs": [],
   "source": [
    "features = ['ClearLanguage', \n",
    "#             'ConsentDetailCategories',\n",
    "#             'ConsentDetailVendors', \n",
    "            'ConsentTypeId', \n",
    "            'Industry',\n",
    "#             'CountryId', \n",
    "#             'GDPREnabled',\n",
    "#             'IABEnabled', \n",
    "#             'L2Enabled', \n",
    "            'OnBrand',\n",
    "            'PrivacyAccessTypeId']"
   ]
  },
  {
   "cell_type": "code",
   "execution_count": 4,
   "metadata": {},
   "outputs": [],
   "source": [
    "clf = tree.DecisionTreeClassifier()\n",
    "clf = clf.fit(df[features], df['ConsentBool'])\n",
    "dot_data = tree.export_graphviz(clf, out_file=None, feature_names=features, filled=True, \n",
    "                                rounded=True, class_names=['nonconsent', 'consent'],\n",
    "                                proportion=True, node_ids=True)\n",
    "graph = pypl.graph_from_dot_data(dot_data)"
   ]
  },
  {
   "cell_type": "code",
   "execution_count": 5,
   "metadata": {},
   "outputs": [
    {
     "data": {
      "text/plain": [
       "True"
      ]
     },
     "execution_count": 5,
     "metadata": {},
     "output_type": "execute_result"
    }
   ],
   "source": [
    "date_time = datetime.today().strftime('%m-%d-%H%M')\n",
    "# graph.write_png(\"C:/Users/jacob.carey/Documents/consentv2/dataset_revisions/country_split/EU/industry_split/industry_dtrees/eu_pub_dtree_{0}.png\".format(date_time))\n",
    "# graph.write_png(\"C:/Users/jacob.carey/Documents/consentv2/dataset_revisions/country_split/EU/dtrees/eu_dtree_{0}.png\".format(date_time))\n",
    "graph.write_png(\"C:/Users/jacob.carey/Documents/consentv2/dtrees/total_set/full_consentv2_dtree_{0}.png\".format(date_time))"
   ]
  },
  {
   "cell_type": "code",
   "execution_count": null,
   "metadata": {},
   "outputs": [],
   "source": [
    "Image(graph.create_png())"
   ]
  },
  {
   "cell_type": "code",
   "execution_count": null,
   "metadata": {},
   "outputs": [],
   "source": []
  }
 ],
 "metadata": {
  "kernelspec": {
   "display_name": "Python 3",
   "language": "python",
   "name": "python3"
  },
  "language_info": {
   "codemirror_mode": {
    "name": "ipython",
    "version": 3
   },
   "file_extension": ".py",
   "mimetype": "text/x-python",
   "name": "python",
   "nbconvert_exporter": "python",
   "pygments_lexer": "ipython3",
   "version": "3.7.3"
  }
 },
 "nbformat": 4,
 "nbformat_minor": 2
}
