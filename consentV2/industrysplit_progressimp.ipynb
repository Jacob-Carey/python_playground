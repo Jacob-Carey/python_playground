{
 "cells": [
  {
   "cell_type": "code",
   "execution_count": null,
   "metadata": {},
   "outputs": [],
   "source": [
    "import pandas as pd\n",
    "import numpy as np\n",
    "from IPython.display import clear_output\n",
    "import timeit\n",
    "from tqdm import tnrange, tqdm_notebook\n",
    "path = \"C:/Users/jacob.carey/Documents/consentv2/dataset_revisions/country_split/CA/CAMASTERv2_25.csv\"\n",
    "start = timeit.default_timer()\n",
    "ent_list = []\n",
    "pub_list = []\n",
    "goods_list = []\n",
    "health_list = []\n",
    "tech_list = []\n",
    "fin_list = []"
   ]
  },
  {
   "cell_type": "code",
   "execution_count": null,
   "metadata": {
    "scrolled": true
   },
   "outputs": [],
   "source": [
    "df = pd.read_csv(path, usecols=[\n",
    "    'ClearLanguage', \n",
    "    'ConsentBool', \n",
    "    'ConsentDetailCategories',\n",
    "    'ConsentDetailVendors', \n",
    "    'ConsentTypeId', \n",
    "    'CountryId', \n",
    "    'GDPREnabled',\n",
    "    'IABEnabled', \n",
    "    'Industry', \n",
    "    'L2Enabled', \n",
    "    'OnBrand',\n",
    "    'PrivacyAccessTypeId'\n",
    "], dtype={\n",
    "    'ClearLanguage': np.int8, \n",
    "    'ConsentBool': np.int8, \n",
    "    'ConsentDetailCategories': np.int8,\n",
    "    'ConsentDetailVendors': np.int8, \n",
    "    'ConsentTypeId': np.int8, \n",
    "    'CountryId': np.int8, \n",
    "    'GDPREnabled': np.int8,\n",
    "    'IABEnabled': np.int8, \n",
    "    'Industry': np.int8, \n",
    "    'L2Enabled': np.int8, \n",
    "    'OnBrand': np.int8,\n",
    "    'PrivacyAccessTypeId': np.int8\n",
    "})\n",
    "df.info()"
   ]
  },
  {
   "cell_type": "code",
   "execution_count": null,
   "metadata": {},
   "outputs": [],
   "source": [
    "for i in tnrange(len(df), desc='Processing'):\n",
    "    my_dict = dict(df.iloc[i])\n",
    "    test_val = my_dict.get('Industry', 0)\n",
    "    \n",
    "    if test_val == 1:\n",
    "        pub_list.append(my_dict)\n",
    "    elif test_val == 2:\n",
    "        ent_list.append(my_dict)\n",
    "    elif test_val == 3:\n",
    "        goods_list.append(my_dict)\n",
    "    elif test_val == 4:\n",
    "        health_list.append(my_dict)\n",
    "    elif test_val == 5:\n",
    "        tech_list.append(my_dict)\n",
    "    elif test_val == 6:\n",
    "        fin_list.append(my_dict)\n"
   ]
  },
  {
   "cell_type": "code",
   "execution_count": null,
   "metadata": {
    "scrolled": false
   },
   "outputs": [],
   "source": [
    "# for i in range(len(df)):\n",
    "#     clear_output(wait=True)\n",
    "#     my_dict = dict(df.iloc[i])\n",
    "#     test_val = my_dict.get('Industry', 0)\n",
    "    \n",
    "#     if test_val == 1:\n",
    "#         pub_list.append(my_dict)\n",
    "#     elif test_val == 2:\n",
    "#         ent_list.append(my_dict)\n",
    "#     elif test_val == 3:\n",
    "#         goods_list.append(my_dict)\n",
    "#     elif test_val == 4:\n",
    "#         health_list.append(my_dict)\n",
    "#     elif test_val == 5:\n",
    "#         tech_list.append(my_dict)\n",
    "#     elif test_val == 6:\n",
    "#         fin_list.append(my_dict)\n",
    "    \n",
    "#     stop = timeit.default_timer()\n",
    "    \n",
    "#     if(i / len(df) * 100) < 5:\n",
    "#         expected_time = \"Calculating...\"\n",
    "#     else: \n",
    "#         time_perc = timeit.default_timer()\n",
    "#         expected_time = np.round( ( (time_perc-start) / (i/len(df) ) ) / 60, 2)\n",
    "        \n",
    "#     print(\"Current Progress:\", np.round(i / len(df) * 100, 2), \"%\")\n",
    "#     print(\"Current Run Time:\", np.round( (stop - start) / 60, 2), \"minutes\")\n",
    "#     print(\"Expected Run Time:\", expected_time, \"minutes\")"
   ]
  },
  {
   "cell_type": "code",
   "execution_count": null,
   "metadata": {},
   "outputs": [],
   "source": [
    "# ent_list.info()\n",
    "# pub_list.info()\n",
    "# goods_list.info()\n",
    "# health_list.info()\n",
    "# tech_list.info()\n",
    "# fin_list.info()"
   ]
  }
 ],
 "metadata": {
  "kernelspec": {
   "display_name": "Python 3",
   "language": "python",
   "name": "python3"
  },
  "language_info": {
   "codemirror_mode": {
    "name": "ipython",
    "version": 3
   },
   "file_extension": ".py",
   "mimetype": "text/x-python",
   "name": "python",
   "nbconvert_exporter": "python",
   "pygments_lexer": "ipython3",
   "version": "3.7.3"
  }
 },
 "nbformat": 4,
 "nbformat_minor": 2
}
