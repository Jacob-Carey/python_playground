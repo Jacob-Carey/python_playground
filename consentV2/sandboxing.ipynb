{
 "cells": [
  {
   "cell_type": "code",
   "execution_count": 12,
   "metadata": {},
   "outputs": [],
   "source": [
    "import pandas as pd \n",
    "import numpy as np\n",
    "path = \"C:/Users/jacob.carey/Documents/consentv2/dataset_revisions/MASTERv6.csv\"\n",
    "newlist = []\n",
    "sample_ratio = 1"
   ]
  },
  {
   "cell_type": "code",
   "execution_count": 13,
   "metadata": {},
   "outputs": [],
   "source": [
    "df = pd.read_csv(path, header=0, usecols=[\n",
    "    #'Date', \n",
    "    #'TotalHits', \n",
    "    #'ConsentGivenCount', \n",
    "    #'ConsentNotGivenCount',\n",
    "    'Impressions', \n",
    "    'Consent', \n",
    "    #'AltConsent', \n",
    "    'ConsentDetailCategories',\n",
    "    'ConsentDetailVendors', \n",
    "    'ConsentTypeId', \n",
    "    'CountryId', \n",
    "    'GDPREnabled',\n",
    "    'IABEnabled', \n",
    "    #'IncludeSubdomains', \n",
    "    'Industry', \n",
    "    'L2Enabled',\n",
    "    'PrivacyAccessTypeId', \n",
    "    'OnBrand', \n",
    "    'ClearLanguage'\n",
    "], dtype={\n",
    "    #'Date': 'object', \n",
    "    #'TotalHits': 'int32', \n",
    "    #'ConsentGivenCount': 'int32', \n",
    "    #'ConsentNotGivenCount': 'int32',\n",
    "    'Impressions': 'int32', \n",
    "    'Consent': 'int32', \n",
    "    #'AltConsent': 'int32', \n",
    "    'ConsentDetailCategories': 'int8',\n",
    "    'ConsentDetailVendors': 'int8', \n",
    "    'ConsentTypeId': 'int8', \n",
    "    'CountryId': 'int8', \n",
    "    'GDPREnabled': 'int8',\n",
    "    'IABEnabled': 'int8', \n",
    "    #'IncludeSubdomains': 'int8', \n",
    "    'Industry': 'int8', \n",
    "    'L2Enabled': 'int8',\n",
    "    'PrivacyAccessTypeId': 'int8', \n",
    "    'OnBrand': 'int8', \n",
    "    'ClearLanguage': 'int8'\n",
    "})"
   ]
  },
  {
   "cell_type": "code",
   "execution_count": 14,
   "metadata": {},
   "outputs": [],
   "source": [
    "for row in df.iterrows():\n",
    "    my_dict = dict(row[1])\n",
    "    \n",
    "    c_dict = my_dict.copy()\n",
    "    del c_dict['Consent']\n",
    "    del c_dict['Impressions']\n",
    "    c_dict['ConsentBool'] = 1\n",
    "    for idx in range(int(my_dict['Consent']/sample_ratio)):\n",
    "        newlist.append(c_dict)\n",
    "        \n",
    "    nc_dict = c_dict.copy()\n",
    "    nc_dict['ConsentBool'] = 0\n",
    "    nc_count = my_dict['Impressions'] - my_dict['Consent']\n",
    "    for idx in range(int(nc_count/sample_ratio)):\n",
    "        newlist.append(nc_dict)"
   ]
  },
  {
   "cell_type": "code",
   "execution_count": 15,
   "metadata": {},
   "outputs": [
    {
     "name": "stdout",
     "output_type": "stream",
     "text": [
      "<class 'pandas.core.frame.DataFrame'>\n",
      "RangeIndex: 101128987 entries, 0 to 101128986\n",
      "Data columns (total 12 columns):\n",
      "ClearLanguage              int8\n",
      "ConsentBool                int8\n",
      "ConsentDetailCategories    int8\n",
      "ConsentDetailVendors       int8\n",
      "ConsentTypeId              int8\n",
      "CountryId                  int8\n",
      "GDPREnabled                int8\n",
      "IABEnabled                 int8\n",
      "Industry                   int8\n",
      "L2Enabled                  int8\n",
      "OnBrand                    int8\n",
      "PrivacyAccessTypeId        int8\n",
      "dtypes: int8(12)\n",
      "memory usage: 1.1 GB\n"
     ]
    }
   ],
   "source": [
    "new_df = pd.DataFrame(newlist)\n",
    "my_df = new_df.astype(dtype={\n",
    "    'ClearLanguage': np.int8,\n",
    "    'ConsentBool': np.int8, \n",
    "    'ConsentDetailCategories': np.int8,\n",
    "    'ConsentDetailVendors': np.int8, \n",
    "    'ConsentTypeId': np.int8, \n",
    "    'CountryId': np.int8, \n",
    "    'GDPREnabled': np.int8,\n",
    "    'IABEnabled': np.int8, \n",
    "    'Industry': np.int8, \n",
    "    'L2Enabled': np.int8, \n",
    "    'OnBrand': np.int8,\n",
    "    'PrivacyAccessTypeId': np.int8\n",
    "})\n",
    "my_df.info()"
   ]
  },
  {
   "cell_type": "code",
   "execution_count": 16,
   "metadata": {},
   "outputs": [],
   "source": [
    "my_df.to_csv(\"C:/Users/jacob.carey/Documents/consentv2/dataset_revisions/MASTERv8_{0}.csv\".format(sample_ratio))"
   ]
  },
  {
   "cell_type": "code",
   "execution_count": null,
   "metadata": {},
   "outputs": [],
   "source": []
  }
 ],
 "metadata": {
  "kernelspec": {
   "display_name": "Python 3",
   "language": "python",
   "name": "python3"
  },
  "language_info": {
   "codemirror_mode": {
    "name": "ipython",
    "version": 3
   },
   "file_extension": ".py",
   "mimetype": "text/x-python",
   "name": "python",
   "nbconvert_exporter": "python",
   "pygments_lexer": "ipython3",
   "version": "3.7.3"
  }
 },
 "nbformat": 4,
 "nbformat_minor": 2
}
