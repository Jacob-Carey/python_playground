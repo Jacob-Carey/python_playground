{
 "cells": [
  {
   "cell_type": "code",
   "execution_count": 1,
   "metadata": {},
   "outputs": [],
   "source": [
    "import pandas as pd \n",
    "import numpy as np\n",
    "from tqdm import tnrange, tqdm_notebook\n",
    "path1 = \"C:/Users/jacob.carey/Desktop/Projects/ConsentRateProjects/user_level_consentv1/data_prep/pruned_eu_vendors.csv\"\n",
    "path2 = \"C:/Users/jacob.carey/Desktop/Projects/ConsentRateProjects/user_level_consentv1/data_prep/eu_notices.csv\""
   ]
  },
  {
   "cell_type": "code",
   "execution_count": 2,
   "metadata": {},
   "outputs": [],
   "source": [
    "df1 = pd.read_csv(path1)\n",
    "df2 = pd.read_csv(path2)"
   ]
  },
  {
   "cell_type": "code",
   "execution_count": 3,
   "metadata": {},
   "outputs": [],
   "source": [
    "merged = df1.merge(df2, right_on='snid', left_on='Id')"
   ]
  },
  {
   "cell_type": "code",
   "execution_count": 4,
   "metadata": {
    "scrolled": true
   },
   "outputs": [],
   "source": [
    "dropped = merged.drop(columns=['Unnamed: 0','Domain_y', 'snid'])"
   ]
  },
  {
   "cell_type": "code",
   "execution_count": 5,
   "metadata": {},
   "outputs": [],
   "source": [
    "master = dropped.rename(index=str, columns={'Domain_x': 'Domain'})"
   ]
  },
  {
   "cell_type": "code",
   "execution_count": 6,
   "metadata": {},
   "outputs": [
    {
     "data": {
      "text/html": [
       "<div>\n",
       "<style scoped>\n",
       "    .dataframe tbody tr th:only-of-type {\n",
       "        vertical-align: middle;\n",
       "    }\n",
       "\n",
       "    .dataframe tbody tr th {\n",
       "        vertical-align: top;\n",
       "    }\n",
       "\n",
       "    .dataframe thead th {\n",
       "        text-align: right;\n",
       "    }\n",
       "</style>\n",
       "<table border=\"1\" class=\"dataframe\">\n",
       "  <thead>\n",
       "    <tr style=\"text-align: right;\">\n",
       "      <th></th>\n",
       "      <th>Id</th>\n",
       "      <th>CompanyId</th>\n",
       "      <th>Domain</th>\n",
       "      <th>ClearLanguage</th>\n",
       "      <th>CompanyName</th>\n",
       "      <th>CountryId</th>\n",
       "      <th>CountryName</th>\n",
       "      <th>Industry</th>\n",
       "      <th>OnBrand</th>\n",
       "    </tr>\n",
       "  </thead>\n",
       "  <tbody>\n",
       "    <tr>\n",
       "      <th>0</th>\n",
       "      <td>8620</td>\n",
       "      <td>4141</td>\n",
       "      <td>www.ramazzotti.de</td>\n",
       "      <td>1</td>\n",
       "      <td>Pernod-Ricard</td>\n",
       "      <td>20</td>\n",
       "      <td>Belgium</td>\n",
       "      <td>3</td>\n",
       "      <td>0</td>\n",
       "    </tr>\n",
       "    <tr>\n",
       "      <th>1</th>\n",
       "      <td>14457</td>\n",
       "      <td>5132</td>\n",
       "      <td>www.provagratisolaznotte.it</td>\n",
       "      <td>1</td>\n",
       "      <td>Procter and Gamble UCP</td>\n",
       "      <td>7</td>\n",
       "      <td>Italy</td>\n",
       "      <td>3</td>\n",
       "      <td>0</td>\n",
       "    </tr>\n",
       "    <tr>\n",
       "      <th>2</th>\n",
       "      <td>18223</td>\n",
       "      <td>5137</td>\n",
       "      <td>wegmetvlekken.nl</td>\n",
       "      <td>1</td>\n",
       "      <td>Reckitt Benckiser</td>\n",
       "      <td>8</td>\n",
       "      <td>Netherlands</td>\n",
       "      <td>3</td>\n",
       "      <td>1</td>\n",
       "    </tr>\n",
       "    <tr>\n",
       "      <th>3</th>\n",
       "      <td>6833</td>\n",
       "      <td>1678</td>\n",
       "      <td>chiclesfive.com</td>\n",
       "      <td>0</td>\n",
       "      <td>Mars</td>\n",
       "      <td>4</td>\n",
       "      <td>Spain</td>\n",
       "      <td>3</td>\n",
       "      <td>1</td>\n",
       "    </tr>\n",
       "    <tr>\n",
       "      <th>4</th>\n",
       "      <td>15137</td>\n",
       "      <td>2025</td>\n",
       "      <td>p-pille.dk</td>\n",
       "      <td>1</td>\n",
       "      <td>Pfizer</td>\n",
       "      <td>15</td>\n",
       "      <td>Denmark</td>\n",
       "      <td>4</td>\n",
       "      <td>0</td>\n",
       "    </tr>\n",
       "  </tbody>\n",
       "</table>\n",
       "</div>"
      ],
      "text/plain": [
       "      Id  CompanyId                       Domain  ClearLanguage  \\\n",
       "0   8620       4141            www.ramazzotti.de              1   \n",
       "1  14457       5132  www.provagratisolaznotte.it              1   \n",
       "2  18223       5137             wegmetvlekken.nl              1   \n",
       "3   6833       1678              chiclesfive.com              0   \n",
       "4  15137       2025                   p-pille.dk              1   \n",
       "\n",
       "              CompanyName  CountryId  CountryName  Industry  OnBrand  \n",
       "0           Pernod-Ricard         20      Belgium         3        0  \n",
       "1  Procter and Gamble UCP          7        Italy         3        0  \n",
       "2       Reckitt Benckiser          8  Netherlands         3        1  \n",
       "3                    Mars          4        Spain         3        1  \n",
       "4                  Pfizer         15      Denmark         4        0  "
      ]
     },
     "execution_count": 6,
     "metadata": {},
     "output_type": "execute_result"
    }
   ],
   "source": [
    "master.head()"
   ]
  },
  {
   "cell_type": "code",
   "execution_count": 7,
   "metadata": {},
   "outputs": [],
   "source": [
    "master.to_csv(\"C:/Users/jacob.carey/Desktop/Projects/ConsentRateProjects/user_level_consentv1/data_prep/eu_master.csv\")"
   ]
  }
 ],
 "metadata": {
  "kernelspec": {
   "display_name": "Python 3",
   "language": "python",
   "name": "python3"
  },
  "language_info": {
   "codemirror_mode": {
    "name": "ipython",
    "version": 3
   },
   "file_extension": ".py",
   "mimetype": "text/x-python",
   "name": "python",
   "nbconvert_exporter": "python",
   "pygments_lexer": "ipython3",
   "version": "3.7.3"
  }
 },
 "nbformat": 4,
 "nbformat_minor": 2
}
