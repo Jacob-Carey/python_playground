{
 "cells": [
  {
   "cell_type": "code",
   "execution_count": null,
   "metadata": {},
   "outputs": [],
   "source": [
    "import pandas as pd\n",
    "import numpy as np\n",
    "from tqdm import tnrange, tqdm_notebook\n",
    "path = \"C:/Users/jacob.carey/Desktop/Projects/ConsentRateProjects/user_level_consentv1/data_prep/mass_athena/athena_ba_merged.csv\"\n",
    "ent_list = []\n",
    "pub_list = []\n",
    "goods_list = []\n",
    "health_list = []\n",
    "tech_list = []\n",
    "fin_list = []"
   ]
  },
  {
   "cell_type": "code",
   "execution_count": null,
   "metadata": {},
   "outputs": [],
   "source": [
    "for chunk in pd.read_csv(path, usecols = [\n",
    "    'companyid',\n",
    "    'noticeid',\n",
    "    'host',\n",
    "    'companycountryid',\n",
    "    'requestquery',\n",
    "    'consentgiven',\n",
    "    'usercountry',\n",
    "    'actiontypeid',\n",
    "    'consenttypeid',\n",
    "    'accesstypeid',\n",
    "    'os',\n",
    "    'browser',\n",
    "    'usercorrelationkey'\n",
    "], dtype= {\n",
    "    'companyid': np.int8,\n",
    "    'noticeid':np.int8,\n",
    "    'host',\n",
    "    'companycountryid': np.int8,\n",
    "    'requestquery',\n",
    "    'consentgiven': np.int8,\n",
    "    'usercountry',\n",
    "    'actiontypeid': np.int8,\n",
    "    'consenttypeid': np.int8,\n",
    "    'accesstypeid': np.int8,\n",
    "    'os',\n",
    "    'browser',\n",
    "    'usercorrelationkey'\n",
    "    }, chunksize=1000000):\n",
    "    my_dict = dict(chunk.iloc[i])\n",
    "     test_val = my_dict.get('Industry', 0)\n",
    "    \n",
    "#     if test_val == 1:\n",
    "#         pub_list.append(my_dict)\n",
    "#     elif test_val == 2:\n",
    "#         ent_list.append(my_dict)\n",
    "#     elif test_val == 3:\n",
    "#         goods_list.append(my_dict)\n",
    "#     elif test_val == 4:\n",
    "#         health_list.append(my_dict)\n",
    "#     elif test_val == 5:\n",
    "#         tech_list.append(my_dict)\n",
    "#     elif test_val == 6:\n",
    "#         fin_list.append(my_dict)"
   ]
  },
  {
   "cell_type": "code",
   "execution_count": null,
   "metadata": {},
   "outputs": [],
   "source": [
    "df = pd.read_csv(path, usecols=[\n",
    "    'ClearLanguage', \n",
    "    'ConsentBool', \n",
    "    'ConsentDetailCategories',\n",
    "    'ConsentDetailVendors', \n",
    "    'ConsentTypeId', \n",
    "    'CountryId', \n",
    "    'GDPREnabled',\n",
    "    'IABEnabled', \n",
    "    'Industry', \n",
    "    'L2Enabled', \n",
    "    'OnBrand',\n",
    "    'PrivacyAccessTypeId'\n",
    "], dtype={\n",
    "    'ClearLanguage': np.int8, \n",
    "    'ConsentBool': np.int8, \n",
    "    'ConsentDetailCategories': np.int8,\n",
    "    'ConsentDetailVendors': np.int8, \n",
    "    'ConsentTypeId': np.int8, \n",
    "    'CountryId': np.int8, \n",
    "    'GDPREnabled': np.int8,\n",
    "    'IABEnabled': np.int8, \n",
    "    'Industry': np.int8, \n",
    "    'L2Enabled': np.int8, \n",
    "    'OnBrand': np.int8,\n",
    "    'PrivacyAccessTypeId': np.int8\n",
    "})"
   ]
  },
  {
   "cell_type": "code",
   "execution_count": null,
   "metadata": {},
   "outputs": [],
   "source": [
    "for i in tnrange(len(df), desc='Processing'):\n",
    "    my_dict = dict(df.iloc[i])\n",
    "    test_val = my_dict.get('Industry', 0)\n",
    "    \n",
    "    if test_val == 1:\n",
    "        pub_list.append(my_dict)\n",
    "    elif test_val == 2:\n",
    "        ent_list.append(my_dict)\n",
    "    elif test_val == 3:\n",
    "        goods_list.append(my_dict)\n",
    "    elif test_val == 4:\n",
    "        health_list.append(my_dict)\n",
    "    elif test_val == 5:\n",
    "        tech_list.append(my_dict)\n",
    "    elif test_val == 6:\n",
    "        fin_list.append(my_dict)"
   ]
  },
  {
   "cell_type": "code",
   "execution_count": null,
   "metadata": {},
   "outputs": [],
   "source": [
    "# ent_list.info()\n",
    "# pub_list.info()\n",
    "# goods_list.info()\n",
    "# health_list.info()\n",
    "# tech_list.info()\n",
    "# fin_list.info()"
   ]
  }
 ],
 "metadata": {
  "kernelspec": {
   "display_name": "Python 3",
   "language": "python",
   "name": "python3"
  },
  "language_info": {
   "codemirror_mode": {
    "name": "ipython",
    "version": 3
   },
   "file_extension": ".py",
   "mimetype": "text/x-python",
   "name": "python",
   "nbconvert_exporter": "python",
   "pygments_lexer": "ipython3",
   "version": "3.7.3"
  }
 },
 "nbformat": 4,
 "nbformat_minor": 2
}
