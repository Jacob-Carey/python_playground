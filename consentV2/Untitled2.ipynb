{
 "cells": [
  {
   "cell_type": "code",
   "execution_count": null,
   "metadata": {},
   "outputs": [],
   "source": [
    "import pandas as pd \n",
    "import numpy as np\n",
    "import os\n",
    "from tqdm import tnrange, tqdm_notebook, tqdm\n",
    "path1 = \"C:/Users/jacob.carey/Desktop/Projects/ConsentRateProjects/user_level_consentv1/data_prep/mass_athena/mass_athena_original.csv\"\n",
    "path2 = \"C:/Users/jacob.carey/Desktop/Projects/ConsentRateProjects/user_level_consentv1/data_prep/misc/eu_notices.csv\"\n",
    "df_list = []\n",
    "test_list = []"
   ]
  },
  {
   "cell_type": "code",
   "execution_count": null,
   "metadata": {},
   "outputs": [],
   "source": [
    "df_chunk = pd.read_csv(path1, \n",
    "                       usecols=[noticeid','host','companycountryid','requestquery','consentgiven','usercountry',\n",
    "                                'actiontypeid','consenttypeid','accesstypeid','os','browser','usercorrelationkey'], \n",
    "                       dtype={'companyid': np.int8,'noticeid': np.int8,'companycountryid': np.int8,'consentgiven': np.int8,\n",
    "                              'actiontypeid': np.int8,'consenttypeid': np.int8,'accesstypeid': np.int8}, \n",
    "                       chunksize=1000000)"
   ]
  },
  {
   "cell_type": "code",
   "execution_count": null,
   "metadata": {},
   "outputs": [],
   "source": [
    "for chunk in df_chunk:\n",
    "    df_list.append(chunk)\n",
    "\n",
    "df1 = pd.concat(df_list)"
   ]
  },
  {
   "cell_type": "code",
   "execution_count": null,
   "metadata": {},
   "outputs": [],
   "source": [
    "df2 = pd.read_csv(path2, usecols=['ClearLanguage','CompanyName','CountryId','CountryName','Domain','Industry','OnBrand','snid'],\n",
    "                  dtype={'ClearLanguage': np.int8,'CountryId': np.int8,'Industry': np.int8,'OnBrand': np.int8,'snid': np.int8})"
   ]
  },
  {
   "cell_type": "code",
   "execution_count": null,
   "metadata": {},
   "outputs": [],
   "source": [
    "merged = df1.merge(df2, right_on=\"snid\", left_on='noticeid')\n",
    "merged.columns"
   ]
  },
  {
   "cell_type": "code",
   "execution_count": null,
   "metadata": {},
   "outputs": [],
   "source": [
    "merged.head(25)"
   ]
  },
  {
   "cell_type": "code",
   "execution_count": null,
   "metadata": {},
   "outputs": [],
   "source": [
    "del df1, df2"
   ]
  },
  {
   "cell_type": "code",
   "execution_count": null,
   "metadata": {},
   "outputs": [],
   "source": [
    "dir()"
   ]
  },
  {
   "cell_type": "code",
   "execution_count": null,
   "metadata": {},
   "outputs": [],
   "source": [
    "del df_chunk"
   ]
  },
  {
   "cell_type": "code",
   "execution_count": null,
   "metadata": {},
   "outputs": [],
   "source": [
    "del chunk"
   ]
  },
  {
   "cell_type": "code",
   "execution_count": null,
   "metadata": {},
   "outputs": [],
   "source": [
    "dropped = merged.drop(columns=[\n",
    "    'companyid', \n",
    "    'CountryId', \n",
    "    'CountryName', \n",
    "    'Domain'\n",
    "])"
   ]
  },
  {
   "cell_type": "code",
   "execution_count": null,
   "metadata": {},
   "outputs": [],
   "source": [
    "master = dropped.rename(index=str, columns={\n",
    "    'noticeid', \n",
    "    'host', \n",
    "    'companycountryid', \n",
    "    'requestquery',\n",
    "    'consentgiven', \n",
    "    'usercountry', \n",
    "    'actiontypeid': '', \n",
    "    'consenttypeid': 'ConsentTypeId',\n",
    "    'accesstypeid': 'AccessTypeId', \n",
    "    'browser': 'Browser', \n",
    "    'usercorrelationkey':'UserCorrelationKey'\n",
    "})"
   ]
  },
  {
   "cell_type": "code",
   "execution_count": null,
   "metadata": {},
   "outputs": [],
   "source": [
    "xyz = [df1, df2, merged, dropped]\n",
    "del df1, df2, merged, dropped\n",
    "del xyz"
   ]
  },
  {
   "cell_type": "code",
   "execution_count": null,
   "metadata": {},
   "outputs": [],
   "source": [
    "dir()"
   ]
  },
  {
   "cell_type": "code",
   "execution_count": null,
   "metadata": {},
   "outputs": [],
   "source": [
    "master.columns"
   ]
  },
  {
   "cell_type": "code",
   "execution_count": null,
   "metadata": {},
   "outputs": [],
   "source": [
    "master.to_csv(\"C:/Users/jacob.carey/Desktop/Projects/ConsentRateProjects/user_level_consentv1/data_prep/mass_athena/athena_ba_merged.csv\")"
   ]
  }
 ],
 "metadata": {
  "kernelspec": {
   "display_name": "Python 3",
   "language": "python",
   "name": "python3"
  },
  "language_info": {
   "codemirror_mode": {
    "name": "ipython",
    "version": 3
   },
   "file_extension": ".py",
   "mimetype": "text/x-python",
   "name": "python",
   "nbconvert_exporter": "python",
   "pygments_lexer": "ipython3",
   "version": "3.7.3"
  }
 },
 "nbformat": 4,
 "nbformat_minor": 2
}
