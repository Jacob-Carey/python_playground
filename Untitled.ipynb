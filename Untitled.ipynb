{
 "cells": [
  {
   "cell_type": "code",
   "execution_count": 1,
   "metadata": {},
   "outputs": [],
   "source": [
    "import pandas as pd"
   ]
  },
  {
   "cell_type": "code",
   "execution_count": 2,
   "metadata": {},
   "outputs": [],
   "source": [
    "df = pd.read_csv('C:/Users/jacob.carey/Desktop/SiteNoticeConsentRateV2/data/ba_athena_final_merged.csv', header=0, usecols=[\n",
    "    #'id',\n",
    "    #'date',\n",
    "    #'companyid',\n",
    "    #'noticeid',\n",
    "    #'countryname',\n",
    "    #'countryid',\n",
    "    #'domain',\n",
    "    #'host',\n",
    "    'totalhits',\n",
    "    'consentgivencount',\n",
    "    'consentnotgivencount',\n",
    "    'uniqueusercount',\n",
    "    'impressions',\n",
    "    'consent',\n",
    "    'altconsent',\n",
    "    'countwindowsusers',\n",
    "    'countmacusers',\n",
    "    'countandroidusers',\n",
    "    'countiosusers',\n",
    "    #'Id',\n",
    "    #'company_name',\n",
    "    #'Domain',\n",
    "    #'SiteNoticeThemeId',\n",
    "    #'ConsentToolThemeId',\n",
    "    #'ConsentDisplayTypeId',\n",
    "    #'IncludeSubdomains',\n",
    "    #'ConsentTypeId',\n",
    "    #'PrivacyAccessTypeId',\n",
    "    #'ConsentDurationMonths',\n",
    "    #'L2Enabled',\n",
    "    #'GDPREnabled',\n",
    "    #'IABEnabled',\n",
    "    #'ConsentDetailCategories',\n",
    "    #'ConsentDetailVendors',\n",
    "    #'AdChoicesEnabled',\n",
    "    #'CountryId',\n",
    "    #'country_name',\n",
    "    #'Identifier',\n",
    "    #'TranslatedText',\n",
    "    #'snid',\n",
    "    #'url',\n",
    "    #'country',\n",
    "    #'lat',\n",
    "    #'long',\n",
    "    #'screenshot'\n",
    "])"
   ]
  },
  {
   "cell_type": "code",
   "execution_count": 3,
   "metadata": {},
   "outputs": [
    {
     "data": {
      "text/plain": [
       "Index(['totalhits', 'consentgivencount', 'consentnotgivencount',\n",
       "       'uniqueusercount', 'impressions', 'consent', 'altconsent',\n",
       "       'countwindowsusers', 'countmacusers', 'countandroidusers',\n",
       "       'countiosusers'],\n",
       "      dtype='object')"
      ]
     },
     "execution_count": 3,
     "metadata": {},
     "output_type": "execute_result"
    }
   ],
   "source": [
    "df.columns"
   ]
  },
  {
   "cell_type": "code",
   "execution_count": 4,
   "metadata": {},
   "outputs": [
    {
     "data": {
      "text/plain": [
       "totalhits               4353933279\n",
       "consentgivencount       3200489548\n",
       "consentnotgivencount    1153443725\n",
       "uniqueusercount          318208718\n",
       "impressions             2600279109\n",
       "consent                 2000505475\n",
       "altconsent              1796062504\n",
       "countwindowsusers       1878870532\n",
       "countmacusers            346050107\n",
       "countandroidusers        892325530\n",
       "countiosusers           1136505181\n",
       "dtype: int64"
      ]
     },
     "execution_count": 4,
     "metadata": {},
     "output_type": "execute_result"
    }
   ],
   "source": [
    "df.sum()"
   ]
  },
  {
   "cell_type": "code",
   "execution_count": null,
   "metadata": {},
   "outputs": [],
   "source": []
  }
 ],
 "metadata": {
  "kernelspec": {
   "display_name": "Python 3",
   "language": "python",
   "name": "python3"
  },
  "language_info": {
   "codemirror_mode": {
    "name": "ipython",
    "version": 3
   },
   "file_extension": ".py",
   "mimetype": "text/x-python",
   "name": "python",
   "nbconvert_exporter": "python",
   "pygments_lexer": "ipython3",
   "version": "3.7.3"
  }
 },
 "nbformat": 4,
 "nbformat_minor": 2
}
