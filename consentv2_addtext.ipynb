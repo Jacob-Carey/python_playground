{
 "cells": [
  {
   "cell_type": "code",
   "execution_count": 16,
   "metadata": {},
   "outputs": [],
   "source": [
    "import pandas as pd\n",
    "df = pd.read_csv(\"C:/Users/jacob.carey/Documents/consentv2/MASTER.csv\")"
   ]
  },
  {
   "cell_type": "code",
   "execution_count": 21,
   "metadata": {},
   "outputs": [],
   "source": [
    "text = pd.read_csv(\"C:/Users/jacob.carey/Documents/consentv2/ba_text.csv\", encoding='latin-1')"
   ]
  },
  {
   "cell_type": "code",
   "execution_count": 6,
   "metadata": {
    "scrolled": true
   },
   "outputs": [
    {
     "data": {
      "text/plain": [
       "Index(['Unnamed: 0', 'date', 'companyid', 'noticeid', 'countryname',\n",
       "       'countryid', 'domain', 'host', 'totalhits', 'consentgivencount',\n",
       "       'consentnotgivencount', 'uniqueusercount', 'impressions', 'consent',\n",
       "       'altconsent', 'countwindowsusers', 'countmacusers', 'countandroidusers',\n",
       "       'countiosusers', 'AdChoicesEnabled', 'ConsentDetailCategories',\n",
       "       'ConsentDetailVendors', 'ConsentDisplayTypeId', 'ConsentDurationMonths',\n",
       "       'ConsentToolThemeId', 'ConsentTypeId', 'CountryId', 'Domain',\n",
       "       'GDPREnabled', 'IABEnabled', 'Id', 'Identifier', 'IncludeSubdomains',\n",
       "       'Industry', 'L2Enabled', 'PrivacyAccessTypeId', 'Screenshot',\n",
       "       'SiteNoticeThemeId', 'company_name', 'country_name'],\n",
       "      dtype='object')"
      ]
     },
     "execution_count": 6,
     "metadata": {},
     "output_type": "execute_result"
    }
   ],
   "source": [
    "df.columns"
   ]
  },
  {
   "cell_type": "code",
   "execution_count": 22,
   "metadata": {},
   "outputs": [
    {
     "data": {
      "text/plain": [
       "Index(['Id', 'TranslatedText'], dtype='object')"
      ]
     },
     "execution_count": 22,
     "metadata": {},
     "output_type": "execute_result"
    }
   ],
   "source": [
    "text.columns"
   ]
  },
  {
   "cell_type": "code",
   "execution_count": 23,
   "metadata": {},
   "outputs": [],
   "source": [
    "merged = df.merge(text, right_on='Id', left_on='Id')"
   ]
  },
  {
   "cell_type": "code",
   "execution_count": 24,
   "metadata": {},
   "outputs": [
    {
     "data": {
      "text/html": [
       "<div>\n",
       "<style scoped>\n",
       "    .dataframe tbody tr th:only-of-type {\n",
       "        vertical-align: middle;\n",
       "    }\n",
       "\n",
       "    .dataframe tbody tr th {\n",
       "        vertical-align: top;\n",
       "    }\n",
       "\n",
       "    .dataframe thead th {\n",
       "        text-align: right;\n",
       "    }\n",
       "</style>\n",
       "<table border=\"1\" class=\"dataframe\">\n",
       "  <thead>\n",
       "    <tr style=\"text-align: right;\">\n",
       "      <th></th>\n",
       "      <th>Unnamed: 0</th>\n",
       "      <th>date</th>\n",
       "      <th>companyid</th>\n",
       "      <th>noticeid</th>\n",
       "      <th>countryname</th>\n",
       "      <th>countryid</th>\n",
       "      <th>domain</th>\n",
       "      <th>host</th>\n",
       "      <th>totalhits</th>\n",
       "      <th>consentgivencount</th>\n",
       "      <th>...</th>\n",
       "      <th>Identifier</th>\n",
       "      <th>IncludeSubdomains</th>\n",
       "      <th>Industry</th>\n",
       "      <th>L2Enabled</th>\n",
       "      <th>PrivacyAccessTypeId</th>\n",
       "      <th>Screenshot</th>\n",
       "      <th>SiteNoticeThemeId</th>\n",
       "      <th>company_name</th>\n",
       "      <th>country_name</th>\n",
       "      <th>TranslatedText</th>\n",
       "    </tr>\n",
       "  </thead>\n",
       "  <tbody>\n",
       "    <tr>\n",
       "      <th>0</th>\n",
       "      <td>0</td>\n",
       "      <td>2019-04-01</td>\n",
       "      <td>6032</td>\n",
       "      <td>14235</td>\n",
       "      <td>United States</td>\n",
       "      <td>1</td>\n",
       "      <td>alexiafoods.com</td>\n",
       "      <td>www.alexiafoods.com</td>\n",
       "      <td>5815</td>\n",
       "      <td>5815</td>\n",
       "      <td>...</td>\n",
       "      <td>bannerMessage</td>\n",
       "      <td>1</td>\n",
       "      <td>1.0</td>\n",
       "      <td>0</td>\n",
       "      <td>2</td>\n",
       "      <td>https://crownpeakgroup.sharepoint.com/sites/Co...</td>\n",
       "      <td>1067</td>\n",
       "      <td>Conagra Brands</td>\n",
       "      <td>Austria</td>\n",
       "      <td>We use cookies to personalize and enhance your...</td>\n",
       "    </tr>\n",
       "    <tr>\n",
       "      <th>1</th>\n",
       "      <td>1</td>\n",
       "      <td>2019-03-31</td>\n",
       "      <td>6032</td>\n",
       "      <td>14235</td>\n",
       "      <td>United States</td>\n",
       "      <td>1</td>\n",
       "      <td>alexiafoods.com</td>\n",
       "      <td>www.alexiafoods.com</td>\n",
       "      <td>6369</td>\n",
       "      <td>6369</td>\n",
       "      <td>...</td>\n",
       "      <td>bannerMessage</td>\n",
       "      <td>1</td>\n",
       "      <td>1.0</td>\n",
       "      <td>0</td>\n",
       "      <td>2</td>\n",
       "      <td>https://crownpeakgroup.sharepoint.com/sites/Co...</td>\n",
       "      <td>1067</td>\n",
       "      <td>Conagra Brands</td>\n",
       "      <td>Austria</td>\n",
       "      <td>We use cookies to personalize and enhance your...</td>\n",
       "    </tr>\n",
       "    <tr>\n",
       "      <th>2</th>\n",
       "      <td>2</td>\n",
       "      <td>2019-03-25</td>\n",
       "      <td>6032</td>\n",
       "      <td>14235</td>\n",
       "      <td>United States</td>\n",
       "      <td>1</td>\n",
       "      <td>alexiafoods.com</td>\n",
       "      <td>www.alexiafoods.com</td>\n",
       "      <td>11414</td>\n",
       "      <td>11414</td>\n",
       "      <td>...</td>\n",
       "      <td>bannerMessage</td>\n",
       "      <td>1</td>\n",
       "      <td>1.0</td>\n",
       "      <td>0</td>\n",
       "      <td>2</td>\n",
       "      <td>https://crownpeakgroup.sharepoint.com/sites/Co...</td>\n",
       "      <td>1067</td>\n",
       "      <td>Conagra Brands</td>\n",
       "      <td>Austria</td>\n",
       "      <td>We use cookies to personalize and enhance your...</td>\n",
       "    </tr>\n",
       "    <tr>\n",
       "      <th>3</th>\n",
       "      <td>3</td>\n",
       "      <td>2019-03-24</td>\n",
       "      <td>6032</td>\n",
       "      <td>14235</td>\n",
       "      <td>United States</td>\n",
       "      <td>1</td>\n",
       "      <td>alexiafoods.com</td>\n",
       "      <td>www.alexiafoods.com</td>\n",
       "      <td>11162</td>\n",
       "      <td>11162</td>\n",
       "      <td>...</td>\n",
       "      <td>bannerMessage</td>\n",
       "      <td>1</td>\n",
       "      <td>1.0</td>\n",
       "      <td>0</td>\n",
       "      <td>2</td>\n",
       "      <td>https://crownpeakgroup.sharepoint.com/sites/Co...</td>\n",
       "      <td>1067</td>\n",
       "      <td>Conagra Brands</td>\n",
       "      <td>Austria</td>\n",
       "      <td>We use cookies to personalize and enhance your...</td>\n",
       "    </tr>\n",
       "    <tr>\n",
       "      <th>4</th>\n",
       "      <td>4</td>\n",
       "      <td>2019-03-23</td>\n",
       "      <td>6032</td>\n",
       "      <td>14235</td>\n",
       "      <td>United States</td>\n",
       "      <td>1</td>\n",
       "      <td>alexiafoods.com</td>\n",
       "      <td>www.alexiafoods.com</td>\n",
       "      <td>12350</td>\n",
       "      <td>12350</td>\n",
       "      <td>...</td>\n",
       "      <td>bannerMessage</td>\n",
       "      <td>1</td>\n",
       "      <td>1.0</td>\n",
       "      <td>0</td>\n",
       "      <td>2</td>\n",
       "      <td>https://crownpeakgroup.sharepoint.com/sites/Co...</td>\n",
       "      <td>1067</td>\n",
       "      <td>Conagra Brands</td>\n",
       "      <td>Austria</td>\n",
       "      <td>We use cookies to personalize and enhance your...</td>\n",
       "    </tr>\n",
       "  </tbody>\n",
       "</table>\n",
       "<p>5 rows × 41 columns</p>\n",
       "</div>"
      ],
      "text/plain": [
       "   Unnamed: 0        date  companyid  noticeid    countryname  countryid  \\\n",
       "0           0  2019-04-01       6032     14235  United States          1   \n",
       "1           1  2019-03-31       6032     14235  United States          1   \n",
       "2           2  2019-03-25       6032     14235  United States          1   \n",
       "3           3  2019-03-24       6032     14235  United States          1   \n",
       "4           4  2019-03-23       6032     14235  United States          1   \n",
       "\n",
       "            domain                 host  totalhits  consentgivencount  ...  \\\n",
       "0  alexiafoods.com  www.alexiafoods.com       5815               5815  ...   \n",
       "1  alexiafoods.com  www.alexiafoods.com       6369               6369  ...   \n",
       "2  alexiafoods.com  www.alexiafoods.com      11414              11414  ...   \n",
       "3  alexiafoods.com  www.alexiafoods.com      11162              11162  ...   \n",
       "4  alexiafoods.com  www.alexiafoods.com      12350              12350  ...   \n",
       "\n",
       "      Identifier  IncludeSubdomains  Industry  L2Enabled  PrivacyAccessTypeId  \\\n",
       "0  bannerMessage                  1       1.0          0                    2   \n",
       "1  bannerMessage                  1       1.0          0                    2   \n",
       "2  bannerMessage                  1       1.0          0                    2   \n",
       "3  bannerMessage                  1       1.0          0                    2   \n",
       "4  bannerMessage                  1       1.0          0                    2   \n",
       "\n",
       "                                          Screenshot  SiteNoticeThemeId  \\\n",
       "0  https://crownpeakgroup.sharepoint.com/sites/Co...               1067   \n",
       "1  https://crownpeakgroup.sharepoint.com/sites/Co...               1067   \n",
       "2  https://crownpeakgroup.sharepoint.com/sites/Co...               1067   \n",
       "3  https://crownpeakgroup.sharepoint.com/sites/Co...               1067   \n",
       "4  https://crownpeakgroup.sharepoint.com/sites/Co...               1067   \n",
       "\n",
       "     company_name  country_name  \\\n",
       "0  Conagra Brands       Austria   \n",
       "1  Conagra Brands       Austria   \n",
       "2  Conagra Brands       Austria   \n",
       "3  Conagra Brands       Austria   \n",
       "4  Conagra Brands       Austria   \n",
       "\n",
       "                                      TranslatedText  \n",
       "0  We use cookies to personalize and enhance your...  \n",
       "1  We use cookies to personalize and enhance your...  \n",
       "2  We use cookies to personalize and enhance your...  \n",
       "3  We use cookies to personalize and enhance your...  \n",
       "4  We use cookies to personalize and enhance your...  \n",
       "\n",
       "[5 rows x 41 columns]"
      ]
     },
     "execution_count": 24,
     "metadata": {},
     "output_type": "execute_result"
    }
   ],
   "source": [
    "merged.head()"
   ]
  },
  {
   "cell_type": "code",
   "execution_count": 25,
   "metadata": {},
   "outputs": [],
   "source": [
    "merged.to_csv(\"C:/Users/jacob.carey/Documents/consentv2/MASTER.csv\")"
   ]
  },
  {
   "cell_type": "code",
   "execution_count": null,
   "metadata": {},
   "outputs": [],
   "source": []
  }
 ],
 "metadata": {
  "kernelspec": {
   "display_name": "Python 3",
   "language": "python",
   "name": "python3"
  },
  "language_info": {
   "codemirror_mode": {
    "name": "ipython",
    "version": 3
   },
   "file_extension": ".py",
   "mimetype": "text/x-python",
   "name": "python",
   "nbconvert_exporter": "python",
   "pygments_lexer": "ipython3",
   "version": "3.7.3"
  }
 },
 "nbformat": 4,
 "nbformat_minor": 2
}
