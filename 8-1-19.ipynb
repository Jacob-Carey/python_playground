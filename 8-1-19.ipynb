{
 "cells": [
  {
   "cell_type": "code",
   "execution_count": 1,
   "metadata": {},
   "outputs": [],
   "source": [
    "import pandas as pd\n",
    "# path = \"C:/Users/jacob.carey/Documents/consentv2/dataset_sources/athena.csv\"\n",
    "path = \"C:/Users/jacob.carey/Desktop/Projects/ConsentRateProjects/user_level_consentv1/data_prep/misc/athena_test1.csv\""
   ]
  },
  {
   "cell_type": "code",
   "execution_count": 2,
   "metadata": {},
   "outputs": [],
   "source": [
    "df = pd.read_csv(path)"
   ]
  },
  {
   "cell_type": "code",
   "execution_count": 3,
   "metadata": {},
   "outputs": [
    {
     "data": {
      "text/plain": [
       "Index(['companyid', 'noticeid', 'host', 'companycountryid', 'requestquery',\n",
       "       'consentgiven', 'usercountry', 'actiontypeid', 'consenttypeid',\n",
       "       'accesstypeid', 'os', 'browser', 'usercorrelationkey'],\n",
       "      dtype='object')"
      ]
     },
     "execution_count": 3,
     "metadata": {},
     "output_type": "execute_result"
    }
   ],
   "source": [
    "df.columns"
   ]
  },
  {
   "cell_type": "code",
   "execution_count": 4,
   "metadata": {},
   "outputs": [],
   "source": [
    "uuids = df['usercorrelationkey'].unique()"
   ]
  },
  {
   "cell_type": "code",
   "execution_count": 5,
   "metadata": {},
   "outputs": [],
   "source": [
    "consent_actions = [11,12,24,25]"
   ]
  },
  {
   "cell_type": "code",
   "execution_count": 6,
   "metadata": {},
   "outputs": [],
   "source": [
    "ucon = df.loc[df['usercorrelationkey'].isin(uuids) & df['actiontypeid'].isin(consent_actions)]"
   ]
  },
  {
   "cell_type": "code",
   "execution_count": 8,
   "metadata": {},
   "outputs": [
    {
     "data": {
      "text/html": [
       "<div>\n",
       "<style scoped>\n",
       "    .dataframe tbody tr th:only-of-type {\n",
       "        vertical-align: middle;\n",
       "    }\n",
       "\n",
       "    .dataframe tbody tr th {\n",
       "        vertical-align: top;\n",
       "    }\n",
       "\n",
       "    .dataframe thead th {\n",
       "        text-align: right;\n",
       "    }\n",
       "</style>\n",
       "<table border=\"1\" class=\"dataframe\">\n",
       "  <thead>\n",
       "    <tr style=\"text-align: right;\">\n",
       "      <th></th>\n",
       "      <th>companyid</th>\n",
       "      <th>noticeid</th>\n",
       "      <th>host</th>\n",
       "      <th>companycountryid</th>\n",
       "      <th>requestquery</th>\n",
       "      <th>consentgiven</th>\n",
       "      <th>usercountry</th>\n",
       "      <th>actiontypeid</th>\n",
       "      <th>consenttypeid</th>\n",
       "      <th>accesstypeid</th>\n",
       "      <th>os</th>\n",
       "      <th>browser</th>\n",
       "      <th>usercorrelationkey</th>\n",
       "    </tr>\n",
       "  </thead>\n",
       "  <tbody>\n",
       "    <tr>\n",
       "      <th>7877</th>\n",
       "      <td>4141</td>\n",
       "      <td>8620</td>\n",
       "      <td>www.ramazzotti.de</td>\n",
       "      <td>8</td>\n",
       "      <td>consent=0</td>\n",
       "      <td>0</td>\n",
       "      <td>Netherlands</td>\n",
       "      <td>12</td>\n",
       "      <td>3</td>\n",
       "      <td>2</td>\n",
       "      <td>iOS</td>\n",
       "      <td>Google</td>\n",
       "      <td>a36f35ab866375d75769a17731561cbb2671381e081bef...</td>\n",
       "    </tr>\n",
       "  </tbody>\n",
       "</table>\n",
       "</div>"
      ],
      "text/plain": [
       "      companyid  noticeid               host  companycountryid requestquery  \\\n",
       "7877       4141      8620  www.ramazzotti.de                 8    consent=0   \n",
       "\n",
       "      consentgiven  usercountry  actiontypeid  consenttypeid  accesstypeid  \\\n",
       "7877             0  Netherlands            12              3             2   \n",
       "\n",
       "       os browser                                 usercorrelationkey  \n",
       "7877  iOS  Google  a36f35ab866375d75769a17731561cbb2671381e081bef...  "
      ]
     },
     "execution_count": 8,
     "metadata": {},
     "output_type": "execute_result"
    }
   ],
   "source": [
    "ucon.head()"
   ]
  },
  {
   "cell_type": "code",
   "execution_count": 9,
   "metadata": {},
   "outputs": [
    {
     "data": {
      "text/plain": [
       "1"
      ]
     },
     "execution_count": 9,
     "metadata": {},
     "output_type": "execute_result"
    }
   ],
   "source": [
    "len(ucon)"
   ]
  },
  {
   "cell_type": "code",
   "execution_count": null,
   "metadata": {},
   "outputs": [],
   "source": [
    "ucon = ucon.drop_duplicates(subset='usercorrelationkey', keep='first')"
   ]
  }
 ],
 "metadata": {
  "kernelspec": {
   "display_name": "Python 3",
   "language": "python",
   "name": "python3"
  },
  "language_info": {
   "codemirror_mode": {
    "name": "ipython",
    "version": 3
   },
   "file_extension": ".py",
   "mimetype": "text/x-python",
   "name": "python",
   "nbconvert_exporter": "python",
   "pygments_lexer": "ipython3",
   "version": "3.7.3"
  }
 },
 "nbformat": 4,
 "nbformat_minor": 2
}
