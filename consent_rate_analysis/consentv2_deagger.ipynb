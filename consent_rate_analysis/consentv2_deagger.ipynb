{
 "cells": [
  {
   "cell_type": "code",
   "execution_count": 2,
   "metadata": {},
   "outputs": [],
   "source": [
    "import pandas as pd"
   ]
  },
  {
   "cell_type": "code",
   "execution_count": 3,
   "metadata": {},
   "outputs": [],
   "source": [
    "df = pd.read_csv('c:/users/jacob.carey/Documents/consentv2/athena.csv', header=0,\n",
    "usecols={\n",
    "    'date', 'companyid', 'noticeid', 'countryname', 'countryid', 'domain',\n",
    "       'host', 'totalhits', 'consentgivencount', 'consentnotgivencount',\n",
    "       'uniqueusercount', 'impressions', 'consent', 'altconsent',\n",
    "       'countwindowsusers', 'countmacusers', 'countandroidusers',\n",
    "       'countiosusers'\n",
    "})"
   ]
  },
  {
   "cell_type": "code",
   "execution_count": null,
   "metadata": {},
   "outputs": [],
   "source": []
  }
 ],
 "metadata": {
  "kernelspec": {
   "display_name": "Python 3",
   "language": "python",
   "name": "python3"
  },
  "language_info": {
   "codemirror_mode": {
    "name": "ipython",
    "version": 3
   },
   "file_extension": ".py",
   "mimetype": "text/x-python",
   "name": "python",
   "nbconvert_exporter": "python",
   "pygments_lexer": "ipython3",
   "version": "3.7.3"
  }
 },
 "nbformat": 4,
 "nbformat_minor": 2
}
