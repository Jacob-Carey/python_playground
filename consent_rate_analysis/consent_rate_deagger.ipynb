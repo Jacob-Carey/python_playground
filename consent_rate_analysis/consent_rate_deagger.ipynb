{
 "cells": [
  {
   "cell_type": "code",
   "execution_count": 10,
   "metadata": {},
   "outputs": [],
   "source": [
    "import pandas as pd"
   ]
  },
  {
   "cell_type": "code",
   "execution_count": 11,
   "metadata": {},
   "outputs": [],
   "source": [
    "my_df = pd.read_csv(\"C:/Users/jacob.carey/Desktop/test.txt\", header=0, encoding='utf-8', \n",
    "                             usecols=['Country', \n",
    "                                      'Users', \n",
    "                                      'Consent', \n",
    "                                      'OnBrand', \n",
    "                                      'LanguageStyle', \n",
    "                                      'ConsentType', \n",
    "                                      'ConsentDurationMonths',\n",
    "                                      'ScrollConsentEnabled', \n",
    "                                      'PageClickConsentEnabled',\n",
    "                                      'NavigateConsentEnabled', \n",
    "                                      'ConsentRequired'])"
   ]
  },
  {
   "cell_type": "code",
   "execution_count": 12,
   "metadata": {},
   "outputs": [],
   "source": [
    "newlist = []\n",
    "sample_ratio = 100"
   ]
  },
  {
   "cell_type": "code",
   "execution_count": 16,
   "metadata": {},
   "outputs": [],
   "source": [
    "for row in my_df.iterrows():\n",
    "    my_dict = dict(row[1])\n",
    "    c_dict = my_dict.copy()\n",
    "    del c_dict['Users']\n",
    "    del c_dict['Consent']\n",
    "    c_dict['Consent_bool'] = 'true'\n",
    "    for idx in range(int(my_dict['Consent']/sample_ratio)):\n",
    "        newlist.append(c_dict)\n",
    "    nc_dict = c_dict.copy()\n",
    "    nc_dict['Consent_bool'] = 'false'\n",
    "    nc_count = my_dict['Users'] - my_dict['Consent']\n",
    "    for idx in range(int(nc_count/sample_ratio)):\n",
    "        newlist.append(nc_dict)\n"
   ]
  },
  {
   "cell_type": "code",
   "execution_count": 17,
   "metadata": {},
   "outputs": [],
   "source": [
    "new_df = pd.DataFrame(newlist)"
   ]
  },
  {
   "cell_type": "code",
   "execution_count": 18,
   "metadata": {},
   "outputs": [
    {
     "data": {
      "text/plain": [
       "ConsentDurationMonths      857909\n",
       "ConsentRequired            857909\n",
       "ConsentType                857909\n",
       "Consent_bool               857909\n",
       "Country                    857909\n",
       "LanguageStyle              857909\n",
       "NavigateConsentEnabled     857909\n",
       "OnBrand                    857909\n",
       "PageClickConsentEnabled    857909\n",
       "ScrollConsentEnabled       857909\n",
       "dtype: int64"
      ]
     },
     "execution_count": 18,
     "metadata": {},
     "output_type": "execute_result"
    }
   ],
   "source": [
    "#newdf.to_csv(\"C:/Users/jacob.carey/Desktop/\")\n",
    "new_df.count()"
   ]
  }
 ],
 "metadata": {
  "kernelspec": {
   "display_name": "Python 3",
   "language": "python",
   "name": "python3"
  },
  "language_info": {
   "codemirror_mode": {
    "name": "ipython",
    "version": 3
   },
   "file_extension": ".py",
   "mimetype": "text/x-python",
   "name": "python",
   "nbconvert_exporter": "python",
   "pygments_lexer": "ipython3",
   "version": "3.7.3"
  }
 },
 "nbformat": 4,
 "nbformat_minor": 2
}
