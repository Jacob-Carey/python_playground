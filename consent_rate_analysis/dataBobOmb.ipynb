{
 "cells": [
  {
   "cell_type": "code",
   "execution_count": 10,
   "metadata": {},
   "outputs": [],
   "source": [
    "import pandas as pd"
   ]
  },
  {
   "cell_type": "code",
   "execution_count": 11,
   "metadata": {},
   "outputs": [],
   "source": [
    "my_df = pd.read_csv(\"C:/Users/jacob.carey/Desktop/test.txt\", header=0, encoding='utf-8', \n",
    "                             usecols=['Country', \n",
    "                                      'Users', \n",
    "                                      'Consent', \n",
    "                                      'OnBrand', \n",
    "                                      'LanguageStyle', \n",
    "                                      'ConsentType', \n",
    "                                      'ConsentDurationMonths',\n",
    "                                      'ScrollConsentEnabled', \n",
    "                                      'PageClickConsentEnabled',\n",
    "                                      'NavigateConsentEnabled', \n",
    "                                      'ConsentRequired'])"
   ]
  },
  {
   "cell_type": "code",
   "execution_count": 13,
   "metadata": {},
   "outputs": [
    {
     "data": {
      "text/html": [
       "<div>\n",
       "<style scoped>\n",
       "    .dataframe tbody tr th:only-of-type {\n",
       "        vertical-align: middle;\n",
       "    }\n",
       "\n",
       "    .dataframe tbody tr th {\n",
       "        vertical-align: top;\n",
       "    }\n",
       "\n",
       "    .dataframe thead th {\n",
       "        text-align: right;\n",
       "    }\n",
       "</style>\n",
       "<table border=\"1\" class=\"dataframe\">\n",
       "  <thead>\n",
       "    <tr style=\"text-align: right;\">\n",
       "      <th></th>\n",
       "      <th>Country</th>\n",
       "      <th>Users</th>\n",
       "      <th>Consent</th>\n",
       "      <th>OnBrand</th>\n",
       "      <th>LanguageStyle</th>\n",
       "      <th>ConsentType</th>\n",
       "      <th>ConsentDurationMonths</th>\n",
       "      <th>ScrollConsentEnabled</th>\n",
       "      <th>PageClickConsentEnabled</th>\n",
       "      <th>NavigateConsentEnabled</th>\n",
       "      <th>ConsentRequired</th>\n",
       "    </tr>\n",
       "  </thead>\n",
       "  <tbody>\n",
       "    <tr>\n",
       "      <th>0</th>\n",
       "      <td>United Kingdom</td>\n",
       "      <td>74592</td>\n",
       "      <td>61856</td>\n",
       "      <td>Yes</td>\n",
       "      <td>Clear</td>\n",
       "      <td>2</td>\n",
       "      <td>13</td>\n",
       "      <td>0</td>\n",
       "      <td>0</td>\n",
       "      <td>0</td>\n",
       "      <td>1</td>\n",
       "    </tr>\n",
       "    <tr>\n",
       "      <th>1</th>\n",
       "      <td>United Kingdom</td>\n",
       "      <td>302870</td>\n",
       "      <td>238757</td>\n",
       "      <td>Yes</td>\n",
       "      <td>Clear</td>\n",
       "      <td>2</td>\n",
       "      <td>13</td>\n",
       "      <td>0</td>\n",
       "      <td>0</td>\n",
       "      <td>1</td>\n",
       "      <td>1</td>\n",
       "    </tr>\n",
       "    <tr>\n",
       "      <th>2</th>\n",
       "      <td>United Kingdom</td>\n",
       "      <td>229751</td>\n",
       "      <td>126105</td>\n",
       "      <td>Partial</td>\n",
       "      <td>Clear</td>\n",
       "      <td>2</td>\n",
       "      <td>13</td>\n",
       "      <td>0</td>\n",
       "      <td>0</td>\n",
       "      <td>1</td>\n",
       "      <td>1</td>\n",
       "    </tr>\n",
       "    <tr>\n",
       "      <th>3</th>\n",
       "      <td>United Kingdom</td>\n",
       "      <td>202540</td>\n",
       "      <td>122114</td>\n",
       "      <td>Partial</td>\n",
       "      <td>Clear</td>\n",
       "      <td>2</td>\n",
       "      <td>13</td>\n",
       "      <td>0</td>\n",
       "      <td>0</td>\n",
       "      <td>1</td>\n",
       "      <td>1</td>\n",
       "    </tr>\n",
       "    <tr>\n",
       "      <th>4</th>\n",
       "      <td>United Kingdom</td>\n",
       "      <td>410787</td>\n",
       "      <td>263955</td>\n",
       "      <td>Partial</td>\n",
       "      <td>Clear</td>\n",
       "      <td>2</td>\n",
       "      <td>13</td>\n",
       "      <td>0</td>\n",
       "      <td>0</td>\n",
       "      <td>1</td>\n",
       "      <td>1</td>\n",
       "    </tr>\n",
       "  </tbody>\n",
       "</table>\n",
       "</div>"
      ],
      "text/plain": [
       "          Country   Users  Consent  OnBrand LanguageStyle  ConsentType  \\\n",
       "0  United Kingdom   74592    61856      Yes         Clear            2   \n",
       "1  United Kingdom  302870   238757      Yes         Clear            2   \n",
       "2  United Kingdom  229751   126105  Partial         Clear            2   \n",
       "3  United Kingdom  202540   122114  Partial         Clear            2   \n",
       "4  United Kingdom  410787   263955  Partial         Clear            2   \n",
       "\n",
       "   ConsentDurationMonths  ScrollConsentEnabled  PageClickConsentEnabled  \\\n",
       "0                     13                     0                        0   \n",
       "1                     13                     0                        0   \n",
       "2                     13                     0                        0   \n",
       "3                     13                     0                        0   \n",
       "4                     13                     0                        0   \n",
       "\n",
       "   NavigateConsentEnabled  ConsentRequired  \n",
       "0                       0                1  \n",
       "1                       1                1  \n",
       "2                       1                1  \n",
       "3                       1                1  \n",
       "4                       1                1  "
      ]
     },
     "execution_count": 13,
     "metadata": {},
     "output_type": "execute_result"
    }
   ],
   "source": [
    "my_df.head()"
   ]
  },
  {
   "cell_type": "code",
   "execution_count": 7,
   "metadata": {},
   "outputs": [],
   "source": [
    "newlist = []\n",
    "sample_ratio = 100000"
   ]
  },
  {
   "cell_type": "code",
   "execution_count": 4,
   "metadata": {},
   "outputs": [],
   "source": [
    "for row in my_df.iterrows():\n",
    "    my_dict = dict(row[1])\n",
    "    \n",
    "    #Cleaning up data types and data values\n",
    "    \n",
    "    #formats uk to = united kingdom to fit the rest of the data set\n",
    "    if my_dict.get('Country', 0).lower() == 'uk': \n",
    "        my_dict['Country'] = 'United Kingdom'\n",
    "    \n",
    "    #formats ? to unknown\n",
    "    if my_dict.get('LanguageStyle', 0) == '?': \n",
    "        my_dict['LanguageStyle'] = 'Unknown'\n",
    "    \n",
    "    my_dict['LanguageStyle'] = my_dict['LanguageStyle'].lower()\n",
    "        \n",
    "    #formats 0 or 1 values to True or False    \n",
    "    for item in ['ScrollConsentEnabled', 'PageClickConsentEnabled', 'NavigateConsentEnabled', 'ConsentRequired']: \n",
    "        if my_dict.get(item, 3) == 0:\n",
    "            my_dict[item] = False\n",
    "        elif my_dict.get(item, 3) == 1:\n",
    "            my_dict[item] = True\n",
    "    \n",
    "    #creates copies to use as Consent dict and Nonconsent dict\n",
    "    c_dict = my_dict.copy()\n",
    "    del c_dict['Users']\n",
    "    del c_dict['Consent']\n",
    "    c_dict['Consent_bool'] = True\n",
    "    for idx in range(int(my_dict['Consent']/sample_ratio)):     \n",
    "        newlist.append(c_dict)\n",
    "    nc_dict = c_dict.copy()\n",
    "    nc_dict['Consent_bool'] = False\n",
    "    nc_count = my_dict['Users'] - my_dict['Consent']\n",
    "    for idx in range(int(nc_count/sample_ratio)):\n",
    "        newlist.append(nc_dict)\n"
   ]
  },
  {
   "cell_type": "code",
   "execution_count": 5,
   "metadata": {},
   "outputs": [],
   "source": [
    "new_df = pd.DataFrame(newlist)"
   ]
  },
  {
   "cell_type": "code",
   "execution_count": 6,
   "metadata": {},
   "outputs": [],
   "source": [
    "new_df.to_csv(path_or_buf=\"C:/Users/jacob.carey/Desktop/giantDataOutput_{0}.csv\".format(sample_ratio))"
   ]
  },
  {
   "cell_type": "code",
   "execution_count": 7,
   "metadata": {},
   "outputs": [
    {
     "data": {
      "text/plain": [
       "ConsentDurationMonths      653\n",
       "ConsentRequired            653\n",
       "ConsentType                653\n",
       "Consent_bool               653\n",
       "Country                    653\n",
       "LanguageStyle              653\n",
       "NavigateConsentEnabled     653\n",
       "OnBrand                    653\n",
       "PageClickConsentEnabled    653\n",
       "ScrollConsentEnabled       653\n",
       "dtype: int64"
      ]
     },
     "execution_count": 7,
     "metadata": {},
     "output_type": "execute_result"
    }
   ],
   "source": [
    "new_df.count()"
   ]
  },
  {
   "cell_type": "code",
   "execution_count": null,
   "metadata": {},
   "outputs": [],
   "source": []
  }
 ],
 "metadata": {
  "kernelspec": {
   "display_name": "Python 3",
   "language": "python",
   "name": "python3"
  },
  "language_info": {
   "codemirror_mode": {
    "name": "ipython",
    "version": 3
   },
   "file_extension": ".py",
   "mimetype": "text/x-python",
   "name": "python",
   "nbconvert_exporter": "python",
   "pygments_lexer": "ipython3",
   "version": "3.7.3"
  }
 },
 "nbformat": 4,
 "nbformat_minor": 2
}
