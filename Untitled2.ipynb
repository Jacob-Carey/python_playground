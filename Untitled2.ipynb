{
 "cells": [
  {
   "cell_type": "code",
   "execution_count": 27,
   "metadata": {},
   "outputs": [],
   "source": [
    "import pandas as pd\n",
    "df = df = pd.read_csv(\"C:/Users/jacob.carey/Documents/consentv2/ba_pull.csv\")\n",
    "df1 = pd.read_csv(\"C:/Users/jacob.carey/Documents/consentv2/ba_pull.csv\", \n",
    "                  usecols={'Id', 'company_name', 'Domain', \n",
    "                           'Industry', 'CountryId', 'country_name','Screenshot'})\n",
    "text = pd.read_csv(\"C:/Users/jacob.carey/Documents/consentv2/ba_text.csv\", encoding='latin-1')"
   ]
  },
  {
   "cell_type": "code",
   "execution_count": 28,
   "metadata": {},
   "outputs": [
    {
     "data": {
      "text/html": [
       "<div>\n",
       "<style scoped>\n",
       "    .dataframe tbody tr th:only-of-type {\n",
       "        vertical-align: middle;\n",
       "    }\n",
       "\n",
       "    .dataframe tbody tr th {\n",
       "        vertical-align: top;\n",
       "    }\n",
       "\n",
       "    .dataframe thead th {\n",
       "        text-align: right;\n",
       "    }\n",
       "</style>\n",
       "<table border=\"1\" class=\"dataframe\">\n",
       "  <thead>\n",
       "    <tr style=\"text-align: right;\">\n",
       "      <th></th>\n",
       "      <th>Id</th>\n",
       "      <th>TranslatedText</th>\n",
       "    </tr>\n",
       "  </thead>\n",
       "  <tbody>\n",
       "    <tr>\n",
       "      <th>0</th>\n",
       "      <td>118</td>\n",
       "      <td>Our site uses cookies and other technologies t...</td>\n",
       "    </tr>\n",
       "    <tr>\n",
       "      <th>1</th>\n",
       "      <td>134</td>\n",
       "      <td>Our site uses cookies and other technologies t...</td>\n",
       "    </tr>\n",
       "    <tr>\n",
       "      <th>2</th>\n",
       "      <td>143</td>\n",
       "      <td>Our site uses cookies and other technologies t...</td>\n",
       "    </tr>\n",
       "    <tr>\n",
       "      <th>3</th>\n",
       "      <td>145</td>\n",
       "      <td>Our site uses cookies and other technologies t...</td>\n",
       "    </tr>\n",
       "    <tr>\n",
       "      <th>4</th>\n",
       "      <td>146</td>\n",
       "      <td>Our site uses cookies and other technologies t...</td>\n",
       "    </tr>\n",
       "  </tbody>\n",
       "</table>\n",
       "</div>"
      ],
      "text/plain": [
       "    Id                                     TranslatedText\n",
       "0  118  Our site uses cookies and other technologies t...\n",
       "1  134  Our site uses cookies and other technologies t...\n",
       "2  143  Our site uses cookies and other technologies t...\n",
       "3  145  Our site uses cookies and other technologies t...\n",
       "4  146  Our site uses cookies and other technologies t..."
      ]
     },
     "execution_count": 28,
     "metadata": {},
     "output_type": "execute_result"
    }
   ],
   "source": [
    "text.head()"
   ]
  },
  {
   "cell_type": "code",
   "execution_count": 23,
   "metadata": {},
   "outputs": [],
   "source": [
    "df1.to_csv(\"C:/Users/jacob.carey/Documents/consentv2/tam_copy.csv\")"
   ]
  },
  {
   "cell_type": "code",
   "execution_count": 29,
   "metadata": {},
   "outputs": [],
   "source": [
    "merged = df1.merge(text, right_on='Id', left_on='Id')"
   ]
  },
  {
   "cell_type": "code",
   "execution_count": 30,
   "metadata": {},
   "outputs": [
    {
     "data": {
      "text/html": [
       "<div>\n",
       "<style scoped>\n",
       "    .dataframe tbody tr th:only-of-type {\n",
       "        vertical-align: middle;\n",
       "    }\n",
       "\n",
       "    .dataframe tbody tr th {\n",
       "        vertical-align: top;\n",
       "    }\n",
       "\n",
       "    .dataframe thead th {\n",
       "        text-align: right;\n",
       "    }\n",
       "</style>\n",
       "<table border=\"1\" class=\"dataframe\">\n",
       "  <thead>\n",
       "    <tr style=\"text-align: right;\">\n",
       "      <th></th>\n",
       "      <th>CountryId</th>\n",
       "      <th>Domain</th>\n",
       "      <th>Id</th>\n",
       "      <th>Industry</th>\n",
       "      <th>Screenshot</th>\n",
       "      <th>company_name</th>\n",
       "      <th>country_name</th>\n",
       "      <th>TranslatedText</th>\n",
       "    </tr>\n",
       "  </thead>\n",
       "  <tbody>\n",
       "    <tr>\n",
       "      <th>0</th>\n",
       "      <td>9</td>\n",
       "      <td>echosignawspreview.com</td>\n",
       "      <td>11131</td>\n",
       "      <td>5.0</td>\n",
       "      <td>https://crownpeakgroup.sharepoint.com/sites/Co...</td>\n",
       "      <td>Adobe</td>\n",
       "      <td>Canada</td>\n",
       "      <td>By clicking Accept, you agree to the use of Ad...</td>\n",
       "    </tr>\n",
       "    <tr>\n",
       "      <th>1</th>\n",
       "      <td>9</td>\n",
       "      <td>mycreativetype.com</td>\n",
       "      <td>15244</td>\n",
       "      <td>5.0</td>\n",
       "      <td>https://crownpeakgroup.sharepoint.com/sites/Co...</td>\n",
       "      <td>Adobe</td>\n",
       "      <td>Canada</td>\n",
       "      <td>By clicking Accept, you agree to the use of Ad...</td>\n",
       "    </tr>\n",
       "    <tr>\n",
       "      <th>2</th>\n",
       "      <td>9</td>\n",
       "      <td>portfolio.ccpsx.com</td>\n",
       "      <td>15628</td>\n",
       "      <td>5.0</td>\n",
       "      <td>https://crownpeakgroup.sharepoint.com/sites/Co...</td>\n",
       "      <td>Adobe</td>\n",
       "      <td>Canada</td>\n",
       "      <td>By clicking Accept, you agree to the use of Ad...</td>\n",
       "    </tr>\n",
       "    <tr>\n",
       "      <th>3</th>\n",
       "      <td>1</td>\n",
       "      <td>www.bostonscientific.com</td>\n",
       "      <td>8014</td>\n",
       "      <td>4.0</td>\n",
       "      <td>https://crownpeakgroup.sharepoint.com/sites/Co...</td>\n",
       "      <td>Boston Scientific</td>\n",
       "      <td>United States</td>\n",
       "      <td>Our site uses cookies and other technologies t...</td>\n",
       "    </tr>\n",
       "    <tr>\n",
       "      <th>4</th>\n",
       "      <td>9</td>\n",
       "      <td>www.ed-behandlungen.de</td>\n",
       "      <td>15061</td>\n",
       "      <td>4.0</td>\n",
       "      <td>https://crownpeakgroup.sharepoint.com/sites/Co...</td>\n",
       "      <td>Boston Scientific</td>\n",
       "      <td>Canada</td>\n",
       "      <td>Our site uses cookies and other technologies t...</td>\n",
       "    </tr>\n",
       "  </tbody>\n",
       "</table>\n",
       "</div>"
      ],
      "text/plain": [
       "   CountryId                    Domain     Id  Industry  \\\n",
       "0          9    echosignawspreview.com  11131       5.0   \n",
       "1          9        mycreativetype.com  15244       5.0   \n",
       "2          9       portfolio.ccpsx.com  15628       5.0   \n",
       "3          1  www.bostonscientific.com   8014       4.0   \n",
       "4          9    www.ed-behandlungen.de  15061       4.0   \n",
       "\n",
       "                                          Screenshot       company_name  \\\n",
       "0  https://crownpeakgroup.sharepoint.com/sites/Co...              Adobe   \n",
       "1  https://crownpeakgroup.sharepoint.com/sites/Co...              Adobe   \n",
       "2  https://crownpeakgroup.sharepoint.com/sites/Co...              Adobe   \n",
       "3  https://crownpeakgroup.sharepoint.com/sites/Co...  Boston Scientific   \n",
       "4  https://crownpeakgroup.sharepoint.com/sites/Co...  Boston Scientific   \n",
       "\n",
       "    country_name                                     TranslatedText  \n",
       "0         Canada  By clicking Accept, you agree to the use of Ad...  \n",
       "1         Canada  By clicking Accept, you agree to the use of Ad...  \n",
       "2         Canada  By clicking Accept, you agree to the use of Ad...  \n",
       "3  United States  Our site uses cookies and other technologies t...  \n",
       "4         Canada  Our site uses cookies and other technologies t...  "
      ]
     },
     "execution_count": 30,
     "metadata": {},
     "output_type": "execute_result"
    }
   ],
   "source": [
    "merged.head()"
   ]
  },
  {
   "cell_type": "code",
   "execution_count": 31,
   "metadata": {},
   "outputs": [
    {
     "data": {
      "text/plain": [
       "Int64Index([  0,   1,   2,   3,   4,   5,   6,   7,   8,   9,\n",
       "            ...\n",
       "            729, 730, 731, 732, 733, 734, 735, 736, 737, 738],\n",
       "           dtype='int64', length=739)"
      ]
     },
     "execution_count": 31,
     "metadata": {},
     "output_type": "execute_result"
    }
   ],
   "source": [
    "merged.index"
   ]
  },
  {
   "cell_type": "code",
   "execution_count": 32,
   "metadata": {},
   "outputs": [],
   "source": [
    "merged.to_csv(\"C:/Users/jacob.carey/Documents/consentv2/tam_copy.csv\")"
   ]
  }
 ],
 "metadata": {
  "kernelspec": {
   "display_name": "Python 3",
   "language": "python",
   "name": "python3"
  },
  "language_info": {
   "codemirror_mode": {
    "name": "ipython",
    "version": 3
   },
   "file_extension": ".py",
   "mimetype": "text/x-python",
   "name": "python",
   "nbconvert_exporter": "python",
   "pygments_lexer": "ipython3",
   "version": "3.7.3"
  }
 },
 "nbformat": 4,
 "nbformat_minor": 2
}
