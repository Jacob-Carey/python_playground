{
 "cells": [
  {
   "cell_type": "code",
   "execution_count": 1,
   "metadata": {},
   "outputs": [
    {
     "data": {
      "text/plain": [
       "Index(['companyid', 'noticeid', 'countryname', 'countryid', 'host',\n",
       "       'totalhits', 'consentgivencount', 'impressions', 'consent',\n",
       "       'priorconsent', 'nodisplaycount', 'bannercount', 'barriercount'],\n",
       "      dtype='object')"
      ]
     },
     "execution_count": 1,
     "metadata": {},
     "output_type": "execute_result"
    }
   ],
   "source": [
    "import pandas as pd\n",
    "df = pd.read_csv(\"C:/Users/jacob.carey/Desktop/angela_ucp/financial_ucp.csv\")\n",
    "us = []\n",
    "eu = []\n",
    "\n",
    "for row in df.iterrows():\n",
    "    my_dict = dict(row[1])\n",
    "    test_val = my_dict.get('countryid')\n",
    "    \n",
    "    if test_val == 1:\n",
    "        us.append(my_dict)\n",
    "    else:\n",
    "        eu.append(my_dict)\n",
    "\n",
    "us = pd.DataFrame(us)\n",
    "eu = pd.DataFrame(eu)\n",
    "df.columns"
   ]
  },
  {
   "cell_type": "code",
   "execution_count": 5,
   "metadata": {},
   "outputs": [],
   "source": [
    "consent_us = us['priorconsent'].sum() + us['consent'].sum()\n",
    "consent_eu = eu['priorconsent'].sum() + eu['consent'].sum()\n",
    "consent_total = df['priorconsent'].sum() + df['consent'].sum()\n",
    "totalhitsconsent_us = us['consentgivencount'].sum() / us['totalhits'].sum() * 100\n",
    "totalhitsconsent_eu = eu['consentgivencount'].sum() / eu['totalhits'].sum() * 100\n",
    "totalhitsconsent_df = df['consentgivencount'].sum() / df['totalhits'].sum() * 100\n",
    "impressionsconsent_us = consent_us / us['impressions'].sum() * 100\n",
    "impressionsconsent_eu = consent_eu / eu['impressions'].sum() * 100\n",
    "impressionsconsent_df = consent_total / df['impressions'].sum() * 100"
   ]
  },
  {
   "cell_type": "code",
   "execution_count": 7,
   "metadata": {},
   "outputs": [
    {
     "name": "stdout",
     "output_type": "stream",
     "text": [
      "consent_us = 7908111\n",
      "consent_eu = 1177728\n",
      "consent_total = 9085839\n",
      "totalhitsconsent_us = 29.6977391135914\n",
      "totalhitsconsent_eu = 41.616110881652766\n",
      "totalhitsconsent_df = 30.57356862614908\n",
      "impressionsconsent_us = 26.04326632116462\n",
      "impressionsconsent_eu = 40.837253008455406\n",
      "impressionsconsent_df = 27.3264594711289\n"
     ]
    }
   ],
   "source": [
    "print('consent_us = {0}'.format(consent_us))\n",
    "print('consent_eu = {0}'.format(consent_eu))\n",
    "print('consent_total = {0}'.format(consent_total))\n",
    "print('totalhitsconsent_us = {0}'.format(totalhitsconsent_us))\n",
    "print('totalhitsconsent_eu = {0}'.format(totalhitsconsent_eu))\n",
    "print('totalhitsconsent_df = {0}'.format(totalhitsconsent_df))\n",
    "print('impressionsconsent_us = {0}'.format(impressionsconsent_us))\n",
    "print('impressionsconsent_eu = {0}'.format(impressionsconsent_eu))\n",
    "print('impressionsconsent_df = {0}'.format(impressionsconsent_df))"
   ]
  },
  {
   "cell_type": "code",
   "execution_count": 4,
   "metadata": {},
   "outputs": [
    {
     "name": "stdout",
     "output_type": "stream",
     "text": [
      "90.64373200006891 0.0 9.356267999931086\n"
     ]
    }
   ],
   "source": [
    "usban = us['bannercount'].sum()\n",
    "usbar = us['barriercount'].sum()\n",
    "usno = us['nodisplaycount'].sum()\n",
    "ustotal = usban + usbar + usno\n",
    "usbanavg = usban / ustotal * 100\n",
    "usbaravg = usbar / ustotal * 100\n",
    "usnoavg = usno / ustotal * 100\n",
    "euban = eu['bannercount'].sum()\n",
    "eubar = eu['barriercount'].sum()\n",
    "euno = eu['nodisplaycount'].sum()\n",
    "eutotal = euban + eubar + euno\n",
    "eubanavg = euban / eutotal * 100\n",
    "eubaravg = eubar / eutotal * 100\n",
    "eunoavg = euno / eutotal * 100\n",
    "dfban = df['bannercount'].sum()\n",
    "dfbar = df['barriercount'].sum()\n",
    "dfno = df['nodisplaycount'].sum()\n",
    "dftotal = dfban + dfbar + dfno\n",
    "dfbanavg = dfban / dftotal * 100\n",
    "dfbaravg = dfbar / dftotal * 100\n",
    "dfnoavg = dfno / dftotal * 100\n",
    "print(usbanavg, usbaravg, usnoavg)"
   ]
  },
  {
   "cell_type": "code",
   "execution_count": null,
   "metadata": {},
   "outputs": [],
   "source": []
  }
 ],
 "metadata": {
  "kernelspec": {
   "display_name": "Python 3",
   "language": "python",
   "name": "python3"
  },
  "language_info": {
   "codemirror_mode": {
    "name": "ipython",
    "version": 3
   },
   "file_extension": ".py",
   "mimetype": "text/x-python",
   "name": "python",
   "nbconvert_exporter": "python",
   "pygments_lexer": "ipython3",
   "version": "3.7.3"
  }
 },
 "nbformat": 4,
 "nbformat_minor": 2
}
