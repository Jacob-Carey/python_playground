{
 "cells": [
  {
   "cell_type": "code",
   "execution_count": 2,
   "metadata": {},
   "outputs": [],
   "source": [
    "import pandas as pd"
   ]
  },
  {
   "cell_type": "code",
   "execution_count": 3,
   "metadata": {},
   "outputs": [],
   "source": [
    "df = pd.read_csv(\"C:/Users/jacob.carey/Desktop/SiteNoticeConsentRateV2/data/ba_athena_final_merged.csv\", header=0,\n",
    "usecols={\n",
    "    \"id\",\n",
    "    \"date\",\n",
    "    \"companyid\",\n",
    "    \"noticeid\",\n",
    "    \"countryname\",\n",
    "    \"countryid\",\n",
    "    \"domain\",\n",
    "    \"host\",\n",
    "    \"totalhits\",\n",
    "    \"consentgivencount\",\n",
    "    \"consentnotgivencount\",\n",
    "    \"uniqueusercount\",\n",
    "    \"impressions\",\n",
    "    \"consent\",\n",
    "    \"altconsent\",\n",
    "    \"countwindowsusers\",\n",
    "    \"countmacusers\",\n",
    "    \"countandroidusers\",\n",
    "    \"countiosusers\",\n",
    "    \"Id\",\n",
    "    \"company_name\",\n",
    "    \"Domain\",\n",
    "    \"SiteNoticeThemeId\",\n",
    "    \"ConsentToolThemeId\",\n",
    "    \"ConsentDisplayTypeId\",\n",
    "    \"IncludeSubdomains\",\n",
    "    \"ConsentTypeId\",\n",
    "    \"PrivacyAccessTypeId\",\n",
    "    \"ConsentDurationMonths\",\n",
    "    \"L2Enabled\",\n",
    "    \"GDPREnabled\",\n",
    "    \"IABEnabled\",\n",
    "    \"ConsentDetailCategories\",\n",
    "    \"ConsentDetailVendors\",\n",
    "    \"AdChoicesEnabled\",\n",
    "    \"CountryId\",\n",
    "    \"country_name\",\n",
    "    \"Identifier\",\n",
    "    \"TranslatedText\",\n",
    "    \"snid\",\n",
    "    \"url\",\n",
    "    \"country\",\n",
    "    \"lat\",\n",
    "    \"long\",\n",
    "    \"screenshot\"\n",
    "})"
   ]
  },
  {
   "cell_type": "code",
   "execution_count": 4,
   "metadata": {},
   "outputs": [
    {
     "data": {
      "text/plain": [
       "256"
      ]
     },
     "execution_count": 4,
     "metadata": {},
     "output_type": "execute_result"
    }
   ],
   "source": [
    "df[\"url\"].nunique()"
   ]
  },
  {
   "cell_type": "code",
   "execution_count": 5,
   "metadata": {},
   "outputs": [
    {
     "data": {
      "text/plain": [
       "RangeIndex(start=0, stop=52646, step=1)"
      ]
     },
     "execution_count": 5,
     "metadata": {},
     "output_type": "execute_result"
    }
   ],
   "source": [
    "df.index"
   ]
  },
  {
   "cell_type": "code",
   "execution_count": 6,
   "metadata": {},
   "outputs": [
    {
     "data": {
      "text/plain": [
       "2600279109"
      ]
     },
     "execution_count": 6,
     "metadata": {},
     "output_type": "execute_result"
    }
   ],
   "source": [
    "df[\"impressions\"].sum()"
   ]
  },
  {
   "cell_type": "code",
   "execution_count": null,
   "metadata": {},
   "outputs": [],
   "source": []
  }
 ],
 "metadata": {
  "kernelspec": {
   "display_name": "Python 3",
   "language": "python",
   "name": "python3"
  },
  "language_info": {
   "codemirror_mode": {
    "name": "ipython",
    "version": 3
   },
   "file_extension": ".py",
   "mimetype": "text/x-python",
   "name": "python",
   "nbconvert_exporter": "python",
   "pygments_lexer": "ipython3",
   "version": "3.7.3"
  }
 },
 "nbformat": 4,
 "nbformat_minor": 2
}
