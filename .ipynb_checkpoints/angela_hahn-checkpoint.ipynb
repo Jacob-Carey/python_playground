{
 "cells": [
  {
   "cell_type": "code",
   "execution_count": 1,
   "metadata": {},
   "outputs": [],
   "source": [
    "import pandas as pd"
   ]
  },
  {
   "cell_type": "code",
   "execution_count": 2,
   "metadata": {},
   "outputs": [],
   "source": [
    "df = pd.read_csv(\"C:/Users/jacob.carey/Desktop/angela_ucp/financial_ucp.csv\")"
   ]
  },
  {
   "cell_type": "code",
   "execution_count": 3,
   "metadata": {},
   "outputs": [],
   "source": [
    "us = []\n",
    "eu = []"
   ]
  },
  {
   "cell_type": "code",
   "execution_count": 4,
   "metadata": {},
   "outputs": [],
   "source": [
    "for row in df.iterrows():\n",
    "    my_dict = dict(row[1])\n",
    "    test_val = my_dict.get('countryid')\n",
    "    \n",
    "    if test_val == 1:\n",
    "        us.append(my_dict)\n",
    "        \n",
    "    else:\n",
    "        eu.append(my_dict)"
   ]
  },
  {
   "cell_type": "code",
   "execution_count": 5,
   "metadata": {},
   "outputs": [],
   "source": [
    "us = pd.DataFrame(us)\n",
    "eu = pd.DataFrame(eu)"
   ]
  },
  {
   "cell_type": "code",
   "execution_count": 6,
   "metadata": {},
   "outputs": [
    {
     "data": {
      "text/plain": [
       "Index(['bannercount', 'barriercount', 'companyid', 'consent',\n",
       "       'consentgivencount', 'countryid', 'countryname', 'host', 'impressions',\n",
       "       'nodisplaycount', 'noticeid', 'priorconsent', 'totalhits'],\n",
       "      dtype='object')"
      ]
     },
     "execution_count": 6,
     "metadata": {},
     "output_type": "execute_result"
    }
   ],
   "source": [
    "us.columns"
   ]
  },
  {
   "cell_type": "code",
   "execution_count": 23,
   "metadata": {},
   "outputs": [],
   "source": [
    "total_us_consent = us['consentgivencount'].sum() / us['totalhits'].sum()\n",
    "total_eu_consent = eu['consentgivencount'].sum() / eu['totalhits'].sum()"
   ]
  },
  {
   "cell_type": "code",
   "execution_count": 30,
   "metadata": {},
   "outputs": [
    {
     "data": {
      "text/plain": [
       "bannercount                                                   66030120\n",
       "barriercount                                                         0\n",
       "companyid                                                      4668291\n",
       "consent                                                        3210399\n",
       "consentgivencount                                             21648651\n",
       "countryid                                                         1151\n",
       "host                 www.discoverglobalnetwork.comwww.discovergloba...\n",
       "impressions                                                   30365281\n",
       "nodisplaycount                                                 6815645\n",
       "noticeid                                                      11837079\n",
       "priorconsent                                                   4697712\n",
       "totalhits                                                     72896630\n",
       "dtype: object"
      ]
     },
     "execution_count": 30,
     "metadata": {},
     "output_type": "execute_result"
    }
   ],
   "source": [
    "us.sum()"
   ]
  },
  {
   "cell_type": "code",
   "execution_count": 34,
   "metadata": {},
   "outputs": [],
   "source": [
    "consent = us['priorconsent'].sum() + us['consent'].sum()"
   ]
  },
  {
   "cell_type": "code",
   "execution_count": null,
   "metadata": {
    "collapsed": true
   },
   "outputs": [],
   "source": []
  },
  {
   "cell_type": "code",
   "execution_count": 33,
   "metadata": {},
   "outputs": [
    {
     "data": {
      "text/plain": [
       "0.2604326632116462"
      ]
     },
     "execution_count": 33,
     "metadata": {},
     "output_type": "execute_result"
    }
   ],
   "source": [
    "consent / us['impressions'].sum()"
   ]
  },
  {
   "cell_type": "code",
   "execution_count": 13,
   "metadata": {},
   "outputs": [
    {
     "data": {
      "text/plain": [
       "30365281"
      ]
     },
     "execution_count": 13,
     "metadata": {},
     "output_type": "execute_result"
    }
   ],
   "source": [
    "us['impressions'].sum()"
   ]
  },
  {
   "cell_type": "code",
   "execution_count": null,
   "metadata": {},
   "outputs": [],
   "source": [
    "us[]"
   ]
  },
  {
   "cell_type": "code",
   "execution_count": 7,
   "metadata": {},
   "outputs": [],
   "source": [
    "us_users = us['totalhits'].sum()\n",
    "eu_users = eu['totalhits'].sum()\n",
    "total_users = eu_users + us_users\n",
    "us_consent = us['consent'].sum()\n",
    "eu_consent = eu['consent'].sum()\n",
    "total_consent = us_consent + eu_consent\n",
    "usavg = us_consent/us_users\n",
    "euavg = eu_consent/eu_users\n",
    "totalavg = total_consent / total_users"
   ]
  },
  {
   "cell_type": "code",
   "execution_count": 8,
   "metadata": {},
   "outputs": [],
   "source": [
    "us_types = us['bannercount'].sum() + us['barriercount'].sum()"
   ]
  },
  {
   "cell_type": "code",
   "execution_count": 27,
   "metadata": {},
   "outputs": [
    {
     "data": {
      "text/plain": [
       "0.04404043094996298"
      ]
     },
     "execution_count": 27,
     "metadata": {},
     "output_type": "execute_result"
    }
   ],
   "source": [
    "usavg"
   ]
  },
  {
   "cell_type": "code",
   "execution_count": null,
   "metadata": {},
   "outputs": [],
   "source": []
  }
 ],
 "metadata": {
  "kernelspec": {
   "display_name": "Python 3",
   "language": "python",
   "name": "python3"
  },
  "language_info": {
   "codemirror_mode": {
    "name": "ipython",
    "version": 3
   },
   "file_extension": ".py",
   "mimetype": "text/x-python",
   "name": "python",
   "nbconvert_exporter": "python",
   "pygments_lexer": "ipython3",
   "version": "3.7.3"
  }
 },
 "nbformat": 4,
 "nbformat_minor": 2
}
