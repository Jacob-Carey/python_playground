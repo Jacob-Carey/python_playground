{
 "cells": [
  {
   "cell_type": "code",
   "execution_count": 1,
   "metadata": {},
   "outputs": [],
   "source": [
    "import pandas as pd \n",
    "import numpy as np\n",
    "path1 = \"C:/Users/jacob.carey/Desktop/Projects/ConsentRateProjects/user_level_consentv1/data_prep/mass_athena/mass_athena_original.csv\"\n",
    "chunks = []"
   ]
  },
  {
   "cell_type": "code",
   "execution_count": 2,
   "metadata": {},
   "outputs": [
    {
     "ename": "ValueError",
     "evalue": "The truth value of a Series is ambiguous. Use a.empty, a.bool(), a.item(), a.any() or a.all().",
     "output_type": "error",
     "traceback": [
      "\u001b[1;31m---------------------------------------------------------------------------\u001b[0m",
      "\u001b[1;31mValueError\u001b[0m                                Traceback (most recent call last)",
      "\u001b[1;32m<ipython-input-2-5722f2cd411a>\u001b[0m in \u001b[0;36m<module>\u001b[1;34m\u001b[0m\n\u001b[0;32m      5\u001b[0m                               'actiontypeid': np.int8,'consenttypeid': np.int8,'accesstypeid': np.int8}, \n\u001b[0;32m      6\u001b[0m                        chunksize=1000000):\n\u001b[1;32m----> 7\u001b[1;33m     \u001b[1;32mif\u001b[0m \u001b[0mchunk\u001b[0m\u001b[1;33m[\u001b[0m\u001b[1;34m'requestquery'\u001b[0m\u001b[1;33m]\u001b[0m \u001b[1;33m==\u001b[0m \u001b[1;34m'consent=0'\u001b[0m\u001b[1;33m:\u001b[0m\u001b[1;33m\u001b[0m\u001b[1;33m\u001b[0m\u001b[0m\n\u001b[0m\u001b[0;32m      8\u001b[0m         \u001b[0mchunk\u001b[0m\u001b[1;33m[\u001b[0m\u001b[1;34m'requestquery'\u001b[0m\u001b[1;33m]\u001b[0m \u001b[1;33m=\u001b[0m \u001b[1;36m0\u001b[0m\u001b[1;33m\u001b[0m\u001b[1;33m\u001b[0m\u001b[0m\n\u001b[0;32m      9\u001b[0m     \u001b[1;32melif\u001b[0m \u001b[0mchunk\u001b[0m\u001b[1;33m[\u001b[0m\u001b[1;34m'requestquery'\u001b[0m\u001b[1;33m]\u001b[0m \u001b[1;33m==\u001b[0m \u001b[1;34m'consent=1'\u001b[0m\u001b[1;33m:\u001b[0m\u001b[1;33m\u001b[0m\u001b[1;33m\u001b[0m\u001b[0m\n",
      "\u001b[1;32m~\\AppData\\Local\\Continuum\\anaconda3\\lib\\site-packages\\pandas\\core\\generic.py\u001b[0m in \u001b[0;36m__nonzero__\u001b[1;34m(self)\u001b[0m\n\u001b[0;32m   1476\u001b[0m         raise ValueError(\"The truth value of a {0} is ambiguous. \"\n\u001b[0;32m   1477\u001b[0m                          \u001b[1;34m\"Use a.empty, a.bool(), a.item(), a.any() or a.all().\"\u001b[0m\u001b[1;33m\u001b[0m\u001b[1;33m\u001b[0m\u001b[0m\n\u001b[1;32m-> 1478\u001b[1;33m                          .format(self.__class__.__name__))\n\u001b[0m\u001b[0;32m   1479\u001b[0m \u001b[1;33m\u001b[0m\u001b[0m\n\u001b[0;32m   1480\u001b[0m     \u001b[0m__bool__\u001b[0m \u001b[1;33m=\u001b[0m \u001b[0m__nonzero__\u001b[0m\u001b[1;33m\u001b[0m\u001b[1;33m\u001b[0m\u001b[0m\n",
      "\u001b[1;31mValueError\u001b[0m: The truth value of a Series is ambiguous. Use a.empty, a.bool(), a.item(), a.any() or a.all()."
     ]
    }
   ],
   "source": [
    "for chunk in pd.read_csv(path1, \n",
    "                       usecols=['noticeid','host','companycountryid','requestquery','consentgiven','usercountry',\n",
    "                                'actiontypeid','consenttypeid','accesstypeid','os','browser','usercorrelationkey'], \n",
    "                       dtype={'companyid': np.int8,'noticeid': np.int8,'companycountryid': np.int8,'consentgiven': np.int8,\n",
    "                              'actiontypeid': np.int8,'consenttypeid': np.int8,'accesstypeid': np.int8}, \n",
    "                       chunksize=1000000):\n",
    "    if chunk['requestquery'] == 'consent=0':\n",
    "        chunk['requestquery'] = 0\n",
    "    elif chunk['requestquery'] == 'consent=1':\n",
    "        chunk['requestquery'] = 1\n",
    "chunks.append(chunk)"
   ]
  },
  {
   "cell_type": "code",
   "execution_count": null,
   "metadata": {},
   "outputs": [],
   "source": []
  },
  {
   "cell_type": "code",
   "execution_count": null,
   "metadata": {},
   "outputs": [],
   "source": [
    "df_chunk = pd.read_csv(path1, \n",
    "                       usecols=[noticeid','host','companycountryid','requestquery','consentgiven','usercountry',\n",
    "                                'actiontypeid','consenttypeid','accesstypeid','os','browser','usercorrelationkey'], \n",
    "                       dtype={'companyid': np.int8,'noticeid': np.int8,'companycountryid': np.int8,'consentgiven': np.int8,\n",
    "                              'actiontypeid': np.int8,'consenttypeid': np.int8,'accesstypeid': np.int8}, \n",
    "                       chunksize=1000000)"
   ]
  }
 ],
 "metadata": {
  "kernelspec": {
   "display_name": "Python 3",
   "language": "python",
   "name": "python3"
  },
  "language_info": {
   "codemirror_mode": {
    "name": "ipython",
    "version": 3
   },
   "file_extension": ".py",
   "mimetype": "text/x-python",
   "name": "python",
   "nbconvert_exporter": "python",
   "pygments_lexer": "ipython3",
   "version": "3.7.3"
  }
 },
 "nbformat": 4,
 "nbformat_minor": 2
}
