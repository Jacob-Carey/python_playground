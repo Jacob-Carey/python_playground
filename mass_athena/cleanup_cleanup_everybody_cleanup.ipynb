{
 "cells": [
  {
   "cell_type": "code",
   "execution_count": null,
   "metadata": {},
   "outputs": [],
   "source": [
    "import pandas as pd\n",
    "import numpy as np\n",
    "from datetime import datetime\n",
    "path = \"C:/Users/jacob.carey/Desktop/Projects/ConsentRateProjects/user_level_consentv1/data_prep/mass_athena/mass_athena_ba_merged_v2.csv\"\n",
    "columns = [\n",
    "    #'companyid', \n",
    "    #'noticeid', \n",
    "    #'host', \n",
    "    #'companycountryid',\n",
    "    'consentgiven', \n",
    "    #'usercountry', \n",
    "    #'actiontypeid', \n",
    "    'consenttypeid',\n",
    "    'accesstypeid', \n",
    "    'os', \n",
    "    'browser', \n",
    "    #'usercorrelationkey', \n",
    "    'clearlanguage',\n",
    "    #'CompanyName', \n",
    "    #'industry', \n",
    "    'onbrand', \n",
    "    #'snid'\n",
    "]\n",
    "dtypes = {\n",
    "    #'companyid': np.int8, \n",
    "    #'noticeid': np.int8, \n",
    "    #'host', \n",
    "    #'companycountryid': np.int8,\n",
    "    'consentgiven': np.int8, \n",
    "    #'usercountry', \n",
    "    #'actiontypeid': np.int8, \n",
    "    'consenttypeid': np.int8,\n",
    "    'accesstypeid': np.int8, \n",
    "    #'os', \n",
    "    #'browser', \n",
    "    #'usercorrelationkey', \n",
    "    'clearlanguage': np.int8,\n",
    "    #'CompanyName', \n",
    "    #'industry', \n",
    "    'onbrand': np.int8, \n",
    "    #'snid'\n",
    "}"
   ]
  },
  {
   "cell_type": "code",
   "execution_count": null,
   "metadata": {},
   "outputs": [],
   "source": [
    "df = pd.read_csv(path)"
   ]
  },
  {
   "cell_type": "code",
   "execution_count": null,
   "metadata": {},
   "outputs": [],
   "source": [
    "df.columns"
   ]
  },
  {
   "cell_type": "code",
   "execution_count": null,
   "metadata": {},
   "outputs": [],
   "source": [
    "df = df[df.consenttypeid != 1]\n",
    "%reset Out\n",
    "df = df[df.consenttypeid != 0]\n",
    "%reset Out\n",
    "df = df[df.accesstypeid != 0]"
   ]
  },
  {
   "cell_type": "code",
   "execution_count": null,
   "metadata": {},
   "outputs": [],
   "source": [
    "%reset Out"
   ]
  },
  {
   "cell_type": "code",
   "execution_count": null,
   "metadata": {
    "scrolled": true
   },
   "outputs": [],
   "source": [
    "df['usercorrelationkey'].nunique()"
   ]
  },
  {
   "cell_type": "code",
   "execution_count": null,
   "metadata": {},
   "outputs": [],
   "source": [
    "df.to_csv(\"C:/Users/jacob.carey/Desktop/Projects/ConsentRateProjects/user_level_consentv1/data_prep/mass_athena/mass_athena_ba_merged_v4.csv\")"
   ]
  },
  {
   "cell_type": "code",
   "execution_count": null,
   "metadata": {},
   "outputs": [],
   "source": [
    "df.head()"
   ]
  },
  {
   "cell_type": "code",
   "execution_count": null,
   "metadata": {},
   "outputs": [],
   "source": [
    "dir()"
   ]
  },
  {
   "cell_type": "code",
   "execution_count": null,
   "metadata": {},
   "outputs": [],
   "source": [
    "df.columns"
   ]
  },
  {
   "cell_type": "code",
   "execution_count": null,
   "metadata": {},
   "outputs": [],
   "source": []
  }
 ],
 "metadata": {
  "kernelspec": {
   "display_name": "Python 3",
   "language": "python",
   "name": "python3"
  },
  "language_info": {
   "codemirror_mode": {
    "name": "ipython",
    "version": 3
   },
   "file_extension": ".py",
   "mimetype": "text/x-python",
   "name": "python",
   "nbconvert_exporter": "python",
   "pygments_lexer": "ipython3",
   "version": "3.7.3"
  }
 },
 "nbformat": 4,
 "nbformat_minor": 2
}
