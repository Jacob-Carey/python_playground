{
 "cells": [
  {
   "cell_type": "code",
   "execution_count": 1,
   "metadata": {},
   "outputs": [],
   "source": [
    "import pandas as pd \n",
    "import numpy as np\n",
    "from tqdm import tnrange, tqdm_notebook\n",
    "path = \"C:/Users/jacob.carey/Desktop/Projects/ConsentRateProjects/user_level_consentv1/data_prep/mass_athena/mass_athena_ba_merged_v2.csv\""
   ]
  },
  {
   "cell_type": "code",
   "execution_count": 2,
   "metadata": {},
   "outputs": [],
   "source": [
    "df =  pd.read_csv(path, \n",
    "                usecols = [\n",
    "                    'companyid', 'noticeid', 'host', 'companycountryid', 'consentgiven',\n",
    "                    'usercountry', 'actiontypeid', 'consenttypeid', 'accesstypeid', 'os',\n",
    "                    'browser', 'usercorrelationkey', 'clearlanguage', 'industry', 'onbrand'\n",
    "                ], dtype={\n",
    "                    'companyid': np.int8, \n",
    "                    'noticeid': np.int8,  \n",
    "                    'companycountryid': np.int8, \n",
    "                    'consentgiven': np.int8,\n",
    "                    'actiontypeid': np.int8, \n",
    "                    'consenttypeid': np.int8, \n",
    "                    'accesstypeid': np.int8, \n",
    "                    'clearlanguage': np.int8, \n",
    "                    'industry': np.int8, \n",
    "                    'onbrand': np.int8\n",
    "                })"
   ]
  },
  {
   "cell_type": "code",
   "execution_count": 3,
   "metadata": {},
   "outputs": [
    {
     "data": {
      "text/plain": [
       "array(['Chrome', 'Firefox', 'Chrome Mobile iOS', 'Mobile Safari',\n",
       "       'Chrome Mobile', 'Safari', 'Edge', 'IE', 'moatbot',\n",
       "       'Chrome Mobile WebView', 'Mobile Safari UI/WKWebView',\n",
       "       'Samsung Internet', 'Flipboard', 'Opera Mobile', 'Google',\n",
       "       'Firefox Mobile', 'Facebook', 'Amazon Silk', 'Opera', 'Other',\n",
       "       'Pinterest', 'Vivaldi', 'Chromium', 'Exabot', 'Yandex Browser',\n",
       "       'IE Mobile', 'Edge Mobile', 'HeadlessChrome', 'Flipboard-Briefing',\n",
       "       'Maxthon', 'Waterfox', 'Puffin', 'Kindle', 'Iron', 'Pale Moon',\n",
       "       'Firefox iOS', 'UC Browser', 'MiuiBrowser', 'Electron',\n",
       "       'Apple Mail', 'PagePeeker', 'Android', 'Seznam prohlížeč',\n",
       "       'SeaMonkey', 'Instagram', 'uk_lddc_renderbot', 'Dragon',\n",
       "       'Screaming Frog SEO Spider', 'Opera Mini', 'PhantomJS', 'pingbot',\n",
       "       'BlackBerry WebKit', 'Mint Browser', 'LINE', 'Crosswalk',\n",
       "       'QQ Browser', 'Sogou Explorer', 'NetFront NX', 'Sleipnir',\n",
       "       'Opera Coast', 'Epiphany', 'Sailfish Browser', 'Coc Coc', 'HbbTV',\n",
       "       'Snapchat', 'WebKit Nightly', 'Basilisk',\n",
       "       'Mail.ru Chromium Browser', 'WebPageTest.org bot', 'Avant',\n",
       "       'Whale', 'Midori', 'Chrome Frame', 'MobileIron', 'Iceweasel',\n",
       "       'GoogleBot', 'K-Meleon', 'Facebook Messenger', 'M bot',\n",
       "       'Konqueror', 'Firefox Alpha', 'VerticalLeap-LighthouseBot',\n",
       "       'Nokia Browser', 'DuckDuckBot', 'AdsBot-Google', 'BingPreview',\n",
       "       'Yeti', 'YandexSearch', 'QQ Browser Mobile', 'Catchpoint',\n",
       "       'GomezAgent', 'Outlook', 'SiteCon', 'SiteCheck-sitecrawl',\n",
       "       'SeobilityBot', 'ID bot', 'Salesforce', 'Zune', 'Jasmine', 'Otter',\n",
       "       'Rekonq', 'VoilaBot', 'Googlebot', 'Opera Neon', 'Onefootball',\n",
       "       'AOL', 'angebot', 'QtWeb', 'Outlook-iOS', 'screeenly-bot',\n",
       "       'Vienna', 'QupZilla', 'GranParadiso', 'AdobeAIR', 'Netscape',\n",
       "       'Baiduspider-render', 'Mediapartners-Google', 'Rival IQ',\n",
       "       'Webcrawler', 'QtCarBrowser', 'Investment Crawler', 'net/bot',\n",
       "       'WordPress', 'SEOmonitorBot', 'Lunascape', 'Scrapy', 'Datanyze',\n",
       "       'WIRE', 'Jooblebot', 'Alignabot', ' dbot', 'Syncbot'], dtype=object)"
      ]
     },
     "execution_count": 3,
     "metadata": {},
     "output_type": "execute_result"
    }
   ],
   "source": [
    "df['browser'].unique()"
   ]
  },
  {
   "cell_type": "code",
   "execution_count": 4,
   "metadata": {},
   "outputs": [
    {
     "data": {
      "text/plain": [
       "array(['Windows', 'iOS', 'Android', 'Mac OS X', 'Linux', 'Ubuntu',\n",
       "       'Chrome OS', 'Windows Phone', 'Other', 'Kindle', 'Fedora', 'Tizen',\n",
       "       'FreeBSD', 'BlackBerry OS', 'OpenBSD', 'Symbian OS', 'Sailfish',\n",
       "       'TOSHIBA', 'Chromecast', 'PANASONIC', 'NetBSD', 'Debian', 'WALKER',\n",
       "       'Windows Mobile', 'openSUSE', 'Solaris', 'SUSE', 'VRE',\n",
       "       'Firefox OS', 'TELEFUNKEN', 'HITACHI', 'FINLUX', 'NEO', 'CROWN',\n",
       "       'HORIZON', 'JVC', 'WELLINGTON'], dtype=object)"
      ]
     },
     "execution_count": 4,
     "metadata": {},
     "output_type": "execute_result"
    }
   ],
   "source": [
    "df['os'].unique()"
   ]
  },
  {
   "cell_type": "code",
   "execution_count": 5,
   "metadata": {},
   "outputs": [
    {
     "data": {
      "text/plain": [
       "array(['Sweden', 'France', 'Ireland', 'Italy', 'Belgium',\n",
       "       'United Kingdom', 'Poland', 'United States', 'Bulgaria', 'Germany',\n",
       "       'Spain', 'Finland', 'Netherlands', 'Romania', 'Austria',\n",
       "       'Australia', 'Portugal', 'Russia', nan, 'Denmark', 'Greece',\n",
       "       'Switzerland', 'Czechia', 'Hungary', 'Canada', 'Latvia',\n",
       "       'Luxembourg', 'Martinique', 'Israel', 'United Arab Emirates',\n",
       "       'Norway', 'Serbia', 'Iran', 'Afghanistan', 'Uganda', 'Malta',\n",
       "       'Cameroon', 'Indonesia', 'Guadeloupe', 'Kenya', 'Jersey',\n",
       "       'Belarus', 'Qatar', 'Saudi Arabia', 'India', 'Slovakia', 'China',\n",
       "       'Malaysia', 'South Africa', 'Bangladesh',\n",
       "       'Hashemite Kingdom of Jordan', 'Republic of Lithuania', 'Oman',\n",
       "       'Philippines', 'Albania', 'Ukraine', 'North Macedonia', 'Nigeria',\n",
       "       'Estonia', 'Ivory Coast', 'Georgia', 'Pakistan', 'Ghana',\n",
       "       'Réunion', 'Åland', 'Liberia', 'Turkey', 'Ethiopia', 'Armenia',\n",
       "       'Montenegro', 'Thailand', 'Cyprus', 'Bosnia and Herzegovina',\n",
       "       'Namibia', 'Guernsey', 'Syria', 'Morocco', 'Kuwait', 'Isle of Man',\n",
       "       'Zimbabwe', 'Mexico', 'Congo', 'Ecuador', 'Colombia', 'Kazakhstan',\n",
       "       'Singapore', 'Taiwan', 'South Korea',\n",
       "       'Bonaire, Sint Eustatius, and Saba', 'Croatia',\n",
       "       'Republic of Moldova', 'Palestine', 'Lebanon', 'Monaco',\n",
       "       'Barbados', 'Mozambique', 'Vietnam', 'Argentina', 'Japan', 'Chile',\n",
       "       'Liechtenstein', 'Hong Kong', 'New Zealand', 'Tanzania', 'Iceland',\n",
       "       'Angola', 'Zambia', 'Sudan', 'Mauritius', 'Sri Lanka', 'Slovenia',\n",
       "       'Republic of the Congo', 'Tunisia', 'Rwanda', 'Egypt', 'Brazil',\n",
       "       'Puerto Rico', 'Madagascar', 'Kyrgyzstan', 'Uzbekistan', 'Algeria',\n",
       "       'Iraq', 'Faroe Islands', 'Antigua and Barbuda', 'French Guiana',\n",
       "       'Seychelles', 'Malawi', 'Azerbaijan', 'Botswana', 'Panama',\n",
       "       'Yemen', 'Myanmar', 'Costa Rica', 'Uruguay', 'Libya', 'Mayotte',\n",
       "       'Saint Martin', 'Peru', 'Bahrain', 'Nepal', 'Gibraltar', 'Benin',\n",
       "       'Mali', 'Sierra Leone', 'Greenland', 'Burkina Faso', 'Eswatini',\n",
       "       'Mauritania', 'Lesotho', 'Somalia', 'Belize', 'Andorra',\n",
       "       'Cabo Verde', 'South Sudan', 'Bolivia', 'Dominican Republic',\n",
       "       'Trinidad and Tobago', 'Falkland Islands', 'Djibouti',\n",
       "       'Turkmenistan', 'Venezuela', 'Cambodia', 'Suriname', 'Gambia',\n",
       "       'Honduras', 'Anguilla', 'Bermuda', 'Dominica', 'El Salvador',\n",
       "       'Cayman Islands', 'Sint Maarten', 'Jamaica', 'Curaçao', 'Niger',\n",
       "       'Guam', 'Tajikistan', 'Guyana', 'Chad', 'Cuba', 'Aruba',\n",
       "       'Paraguay', 'British Virgin Islands', 'Bahamas', 'Guatemala',\n",
       "       'Nicaragua', 'Equatorial Guinea', 'Laos', 'Senegal',\n",
       "       'Turks and Caicos Islands', 'St Kitts and Nevis',\n",
       "       'French Polynesia', 'Kosovo', 'San Marino', 'Haiti', 'Mongolia',\n",
       "       'Gabon', 'Vatican City', 'New Caledonia', 'Bhutan', 'Macao',\n",
       "       'Maldives', 'Burundi', 'Togo', 'Brunei', 'São Tomé and Príncipe',\n",
       "       'Fiji', 'Saint Lucia', 'U.S. Virgin Islands', 'North Korea',\n",
       "       'Guinea', 'Saint Barthélemy', 'Saint Vincent and the Grenadines',\n",
       "       'Saint Pierre and Miquelon', 'Comoros', 'Central African Republic',\n",
       "       'Wallis and Futuna', 'Vanuatu', 'Papua New Guinea', 'Saint Helena',\n",
       "       'Solomon Islands', 'Grenada', 'Norfolk Island',\n",
       "       'Federated States of Micronesia'], dtype=object)"
      ]
     },
     "execution_count": 5,
     "metadata": {},
     "output_type": "execute_result"
    }
   ],
   "source": [
    "df['usercountry'].unique()"
   ]
  },
  {
   "cell_type": "code",
   "execution_count": 6,
   "metadata": {},
   "outputs": [
    {
     "data": {
      "text/plain": [
       "array([22,  5, 16,  7, 20,  6, 18,  3, 30,  4, 25,  8, 31, 19, 26, 15, 29,\n",
       "       27, 24, 28], dtype=int64)"
      ]
     },
     "execution_count": 6,
     "metadata": {},
     "output_type": "execute_result"
    }
   ],
   "source": [
    "df['companycountryid'].unique()"
   ]
  },
  {
   "cell_type": "code",
   "execution_count": 7,
   "metadata": {},
   "outputs": [
    {
     "data": {
      "text/plain": [
       "array([ 1,  5, 12,  3,  6, 14, 16, 32, 24,  7, 23, 26,  4, 21, 11, 31,  2,\n",
       "       22, 15, 13, 10, 30], dtype=int64)"
      ]
     },
     "execution_count": 7,
     "metadata": {},
     "output_type": "execute_result"
    }
   ],
   "source": [
    "df['actiontypeid'].unique()"
   ]
  },
  {
   "cell_type": "code",
   "execution_count": null,
   "metadata": {},
   "outputs": [],
   "source": []
  }
 ],
 "metadata": {
  "kernelspec": {
   "display_name": "Python 3",
   "language": "python",
   "name": "python3"
  },
  "language_info": {
   "codemirror_mode": {
    "name": "ipython",
    "version": 3
   },
   "file_extension": ".py",
   "mimetype": "text/x-python",
   "name": "python",
   "nbconvert_exporter": "python",
   "pygments_lexer": "ipython3",
   "version": "3.7.3"
  }
 },
 "nbformat": 4,
 "nbformat_minor": 2
}
