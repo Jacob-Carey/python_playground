{
 "cells": [
  {
   "cell_type": "code",
   "execution_count": 1,
   "metadata": {},
   "outputs": [],
   "source": [
    "import pandas as pd \n",
    "import numpy as np\n",
    "path1 = \"C:/Users/jacob.carey/Desktop/Projects/ConsentRateProjects/user_level_consentv1/data_prep/misc/eu_notices.csv\"\n",
    "path2 = \"C:/Users/jacob.carey/Desktop/Projects/ConsentRateProjects/user_level_consentv1/data_prep/mass_athena/mass_athena_original.csv\""
   ]
  },
  {
   "cell_type": "code",
   "execution_count": 2,
   "metadata": {},
   "outputs": [],
   "source": [
    "athena = pd.read_csv(path2, usecols=\n",
    "                     ['companyid', 'noticeid', 'host', 'companycountryid',\n",
    "                      'consentgiven', 'usercountry', 'actiontypeid', 'consenttypeid',\n",
    "                      'accesstypeid', 'os', 'browser', 'usercorrelationkey'], \n",
    "                     dtype={\n",
    "                         'companyid': np.int8, \n",
    "                         'companycountryid': np.int8,\n",
    "                         'consentgiven': np.int8, \n",
    "                         'actiontypeid': np.int8, \n",
    "                         'consenttypeid': np.int8,\n",
    "                         'accesstypeid': np.int8\n",
    "                     })"
   ]
  },
  {
   "cell_type": "code",
   "execution_count": 3,
   "metadata": {},
   "outputs": [
    {
     "data": {
      "text/plain": [
       "array([  118, 10858, 15446,   547, 16335, 17575, 15534, 15539, 15536,\n",
       "       17562, 15815, 14497,  3426,  7710, 12550, 15540, 15213, 15541,\n",
       "       14496, 15542, 17573,   399,  3419, 16340, 15210, 14327,  3273,\n",
       "       16041, 15533, 14040, 15950, 16336,  8620, 15558, 14689,  6570,\n",
       "       13230, 17134, 14728, 15556,  8877, 15577, 14093, 16066, 14355,\n",
       "       14353,  3424, 14817, 18223, 14477, 15569, 15995, 12794, 15570,\n",
       "       10756, 16356,  6284,  6833, 14571, 15137, 14590, 17385, 18998,\n",
       "       14629, 14662, 16245, 17563, 15557, 14587,  1006, 17084, 17722,\n",
       "       15148, 12779, 14681, 14609, 15988,  8835, 14732, 16039, 16133,\n",
       "       15204, 14898, 14227, 14324, 15245], dtype=int64)"
      ]
     },
     "execution_count": 3,
     "metadata": {},
     "output_type": "execute_result"
    }
   ],
   "source": [
    "athena['noticeid'].unique()"
   ]
  },
  {
   "cell_type": "code",
   "execution_count": 4,
   "metadata": {},
   "outputs": [],
   "source": [
    "ba = pd.read_csv(path1, usecols=['ClearLanguage', 'CompanyName', 'Industry', 'OnBrand', 'snid'], dtype={\n",
    "    'ClearLanguage': np.int8,\n",
    "    'Industry': np.int8,\n",
    "    'OnBrand': np.int8\n",
    "})"
   ]
  },
  {
   "cell_type": "code",
   "execution_count": 5,
   "metadata": {},
   "outputs": [
    {
     "data": {
      "text/plain": [
       "array([  547,   399, 15533, 15534, 15536, 15539, 15540, 15541, 15542,\n",
       "       15547, 15549, 15551, 15553, 15555, 15556, 15557, 15558, 15559,\n",
       "       15574, 15576, 15577, 15578, 15579, 15580, 15582, 15586, 15589,\n",
       "       16335, 16336, 16337, 16338, 16340, 16341, 17421, 12779, 13197,\n",
       "       13292, 14324, 14401, 14402, 14403, 14404, 14433, 14434, 14436,\n",
       "       14439, 14448, 14449, 14711, 14712, 14734, 14768, 14817, 14826,\n",
       "       16324, 16356, 17569, 17579, 17580, 17583, 17584, 17585,  8620,\n",
       "       15137, 15826, 16078, 14457, 16116, 16125, 16421, 16434, 16436,\n",
       "       16453, 17459, 18690, 11478, 13067, 13834, 15224, 15672, 15673,\n",
       "       17453, 19161,  6572, 14662, 14663, 14696, 14866, 14884, 14911,\n",
       "       15398, 15402, 15642, 15824, 15825, 15843, 15983, 16060, 16061,\n",
       "       16062, 16130, 16131, 16142, 16176, 16405, 16627, 17232, 17236,\n",
       "       17348, 17397, 17399, 17491, 17892, 18312, 18314, 18318, 18618,\n",
       "       18625, 18627, 18636, 18639, 18643, 18686, 18694, 18882,   118,\n",
       "         134,   143,   145,   146,   147,   149,   156,   160,   190,\n",
       "         191,   292,  3419,  3421,  3422,  3424,  3428,  3429,  3440,\n",
       "        8835, 12784, 12794, 12795, 12796, 12797, 12798, 12928, 14227,\n",
       "       14235, 14236, 14237, 14238, 14239, 14249, 14250, 14251, 14252,\n",
       "       14253, 14254, 14255, 14256, 14257, 14258, 14259, 14260, 14261,\n",
       "       14262, 14263, 14264, 14265, 14266, 14267, 14268, 14269, 14270,\n",
       "       14271, 14272, 14273, 14274, 14275, 14276, 14277, 14278, 14279,\n",
       "       14280, 14281, 14282, 14283, 14284, 14492, 15520, 17385, 12550,\n",
       "       13013, 13014, 13016, 14629, 14677, 14385, 15202, 15585, 15897,\n",
       "       16383, 17568, 14681, 14728, 15988, 15990, 16489, 16491, 16493,\n",
       "        4007,  4008,  4014,  4217,  5354,  6324, 10540, 10898, 14488,\n",
       "       14673, 15015, 15147, 15214, 15216, 15218, 15220, 15222, 15226,\n",
       "       15230, 15234, 15455, 15456, 15457, 15458, 15500, 15725, 15898,\n",
       "       15939, 15941, 15942, 15943, 16023, 16036, 16037, 16091, 16093,\n",
       "       16096, 16126, 16127, 16128, 16129, 16180, 16181, 16182, 16280,\n",
       "       16457, 16589, 16590, 16596, 16597, 16599, 16614, 16615, 16616,\n",
       "       16953, 17101, 17110, 17111, 17448, 17504, 17540, 17869, 18105,\n",
       "       18971, 19043, 19118, 18634,   158,  3426,  3427, 12743, 12781,\n",
       "       12782, 12785, 12787, 12788, 12790, 12791, 14205, 15240, 16509,\n",
       "       16510, 16511, 16512, 16513, 16514, 16515, 16516, 16517, 16518,\n",
       "       16519, 16520, 16521, 16522, 16523, 16524, 16525, 16526, 16527,\n",
       "       16528, 16529, 16530, 16531, 16532, 17351, 17426, 17427, 17428,\n",
       "       17429, 17430, 17431, 17433, 17435, 17437, 17438, 17439, 17440,\n",
       "       17739, 17854, 14872, 14898, 15196, 15423, 13230,  3273, 10756,\n",
       "       10858, 15815,  1133,  1680, 15569, 15570, 15583, 15588, 17423,\n",
       "       14057, 14325, 14327, 14330, 14332, 14335, 14337, 14355, 14379,\n",
       "       14609, 14610, 14611, 14623, 14630, 14814, 15204, 15205, 15446,\n",
       "       15501, 15754, 15870, 15932, 15950, 16074, 16187, 16554, 16938,\n",
       "       16939, 16944, 17084, 17562, 17571, 17573, 17577, 17578, 17581,\n",
       "       17586, 18710, 18998, 14494, 15639, 15641, 16250, 16251, 16255,\n",
       "       16957, 17138, 17176, 16133, 16245, 17532, 18223, 17722, 16005,\n",
       "       16006, 16007, 16008, 16009, 16013, 16016,  8877,  6570, 15213,\n",
       "       15245, 15394, 15395, 15396, 15397, 15399, 16024, 18972, 18973,\n",
       "       18975, 14244, 14245, 14246, 14247, 14248, 15313, 16409, 15995,\n",
       "       14093, 14477, 14040, 14496, 14497, 16041, 16065, 16066, 16039,\n",
       "        1006,  1024,  1590,  1723,  2345,  3161,  6833, 14376, 14331,\n",
       "       14823, 15210, 15886, 16021, 16059, 16099, 17563, 17570, 17575,\n",
       "       14353, 14571, 14587, 14590, 14689, 17134, 14732, 15148, 15154,\n",
       "        3914,  6284,  7710, 12449, 16097, 18196, 12786, 16488, 16500],\n",
       "      dtype=int64)"
      ]
     },
     "execution_count": 5,
     "metadata": {},
     "output_type": "execute_result"
    }
   ],
   "source": [
    "ba['snid'].unique()"
   ]
  },
  {
   "cell_type": "code",
   "execution_count": 6,
   "metadata": {},
   "outputs": [],
   "source": [
    "merged = athena.merge(ba, right_on='snid', left_on='noticeid')"
   ]
  },
  {
   "cell_type": "code",
   "execution_count": 7,
   "metadata": {},
   "outputs": [
    {
     "data": {
      "text/plain": [
       "array([  118, 10858, 15446,   547, 16335, 17575, 15534, 15539, 15536,\n",
       "       17562, 15815, 14497,  3426,  7710, 12550, 15540, 15213, 15541,\n",
       "       14496, 15542, 17573,   399,  3419, 16340, 15210, 14327,  3273,\n",
       "       16041, 15533, 14040, 15950, 16336,  8620, 15558, 14689,  6570,\n",
       "       13230, 17134, 14728, 15556,  8877, 15577, 14093, 16066, 14355,\n",
       "       14353,  3424, 14817, 18223, 14477, 15569, 15995, 12794, 15570,\n",
       "       10756, 16356,  6284,  6833, 14571, 15137, 14590, 17385, 18998,\n",
       "       14629, 14662, 16245, 17563, 15557, 14587,  1006, 17084, 17722,\n",
       "       15148, 12779, 14681, 14609, 15988,  8835, 14732, 16039, 16133,\n",
       "       15204, 14898, 14227, 14324, 15245], dtype=int64)"
      ]
     },
     "execution_count": 7,
     "metadata": {},
     "output_type": "execute_result"
    }
   ],
   "source": [
    "merged['snid'].unique()"
   ]
  },
  {
   "cell_type": "code",
   "execution_count": 8,
   "metadata": {},
   "outputs": [
    {
     "data": {
      "text/plain": [
       "95886230"
      ]
     },
     "execution_count": 8,
     "metadata": {},
     "output_type": "execute_result"
    }
   ],
   "source": [
    "len(merged)"
   ]
  },
  {
   "cell_type": "code",
   "execution_count": 11,
   "metadata": {},
   "outputs": [
    {
     "data": {
      "text/plain": [
       "Index(['companyid', 'noticeid', 'host', 'companycountryid', 'consentgiven',\n",
       "       'usercountry', 'actiontypeid', 'consenttypeid', 'accesstypeid', 'os',\n",
       "       'browser', 'usercorrelationkey', 'ClearLanguage', 'CompanyName',\n",
       "       'Industry', 'OnBrand', 'snid'],\n",
       "      dtype='object')"
      ]
     },
     "execution_count": 11,
     "metadata": {},
     "output_type": "execute_result"
    }
   ],
   "source": [
    "merged.columns"
   ]
  },
  {
   "cell_type": "code",
   "execution_count": 9,
   "metadata": {},
   "outputs": [],
   "source": [
    "del ba"
   ]
  },
  {
   "cell_type": "code",
   "execution_count": 10,
   "metadata": {},
   "outputs": [],
   "source": [
    "del athena"
   ]
  },
  {
   "cell_type": "code",
   "execution_count": 13,
   "metadata": {},
   "outputs": [],
   "source": [
    "master = merged.rename(index=str, columns={\n",
    "    'ClearLanguage': 'clearlanguage',\n",
    "    'OnBrand': 'onbrand',\n",
    "    'Industry': 'industry'\n",
    "})"
   ]
  },
  {
   "cell_type": "code",
   "execution_count": 14,
   "metadata": {},
   "outputs": [],
   "source": [
    "master.to_csv(\"C:/Users/jacob.carey/Desktop/Projects/ConsentRateProjects/user_level_consentv1/data_prep/mass_athena/mass_athena_ba_merged_v2.csv\")"
   ]
  },
  {
   "cell_type": "code",
   "execution_count": null,
   "metadata": {},
   "outputs": [],
   "source": []
  }
 ],
 "metadata": {
  "kernelspec": {
   "display_name": "Python 3",
   "language": "python",
   "name": "python3"
  },
  "language_info": {
   "codemirror_mode": {
    "name": "ipython",
    "version": 3
   },
   "file_extension": ".py",
   "mimetype": "text/x-python",
   "name": "python",
   "nbconvert_exporter": "python",
   "pygments_lexer": "ipython3",
   "version": "3.7.3"
  }
 },
 "nbformat": 4,
 "nbformat_minor": 2
}
