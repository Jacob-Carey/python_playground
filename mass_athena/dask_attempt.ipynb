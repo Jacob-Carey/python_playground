{
 "cells": [
  {
   "cell_type": "code",
   "execution_count": 1,
   "metadata": {},
   "outputs": [],
   "source": [
    "import pandas as pd \n",
    "import numpy as np\n",
    "import dask.dataframe as dd\n",
    "from tqdm import tnrange, tqdm_notebook, tqdm\n",
    "path1 = \"C:/Users/jacob.carey/Desktop/Projects/ConsentRateProjects/user_level_consentv1/data_prep/misc/eu_notices.csv\"\n",
    "path2 = \"C:/Users/jacob.carey/Desktop/Projects/ConsentRateProjects/user_level_consentv1/data_prep/mass_athena/mass_athena_original.csv\""
   ]
  },
  {
   "cell_type": "code",
   "execution_count": 3,
   "metadata": {},
   "outputs": [
    {
     "data": {
      "text/plain": [
       "Index(['ClearLanguage', 'Industry', 'OnBrand', 'snid'], dtype='object')"
      ]
     },
     "execution_count": 3,
     "metadata": {},
     "output_type": "execute_result"
    }
   ],
   "source": [
    "df1 = pd.read_csv(path1, usecols=['ClearLanguage','Industry', 'OnBrand', 'snid'], dtype={'ClearLanguage': np.int8, 'Industry': np.int8,\n",
    "                                                                                        'OnBrand': np.int8})\n",
    "df1.columns"
   ]
  },
  {
   "cell_type": "code",
   "execution_count": 4,
   "metadata": {},
   "outputs": [],
   "source": [
    "df2 = pd.read_csv(path2, usecols=['noticeid','host','companycountryid','consentgiven','usercountry',\n",
    "                                'actiontypeid','consenttypeid','accesstypeid','os','browser','usercorrelationkey'], \n",
    "                       dtype={'companyid': np.int8,'noticeid': np.int8,'companycountryid': np.int8,'consentgiven': np.int8,\n",
    "                              'actiontypeid': np.int8,'consenttypeid': np.int8,'accesstypeid': np.int8})\n",
    "#.compute()\n",
    "\n",
    "#df2.index = pd.RangeIndex(start=0, stop=len(df2)) "
   ]
  },
  {
   "cell_type": "code",
   "execution_count": 5,
   "metadata": {},
   "outputs": [
    {
     "data": {
      "text/plain": [
       "477"
      ]
     },
     "execution_count": 5,
     "metadata": {},
     "output_type": "execute_result"
    }
   ],
   "source": [
    "df1['snid'].nunique()"
   ]
  },
  {
   "cell_type": "code",
   "execution_count": 11,
   "metadata": {},
   "outputs": [
    {
     "data": {
      "text/plain": [
       "array([ 118,  106,   86,   35,  -49,  -89,  -82,  -77,  -80, -102,  -57,\n",
       "        -95,   98,   30,    6,  -76,  109,  -75,  -96,  -74,  -91, -113,\n",
       "         91,  -44,   -9,  -55,  -87,  -83,  -40,   78,  -48,  -84,  -58,\n",
       "         97,  -86,  -18, -120,  -60,  -39,   13,  -62,   19,   17,   96,\n",
       "        -31,   47, -115,  -47,  123,   -6,  -46,    4,  -28, -116,  -79,\n",
       "        -21,   33,   -2,  -23,   54,   37,   70,  117, -101,  -59,   -5,\n",
       "        -68,   58,   44,   89,  116, -125,    5,  100,   50, -109,  -12],\n",
       "      dtype=int64)"
      ]
     },
     "execution_count": 11,
     "metadata": {},
     "output_type": "execute_result"
    }
   ],
   "source": [
    "df2['noticeid'].unique()"
   ]
  },
  {
   "cell_type": "code",
   "execution_count": 6,
   "metadata": {},
   "outputs": [],
   "source": [
    "merged = df1.merge(df2, right_on='noticeid', left_on='snid')"
   ]
  },
  {
   "cell_type": "code",
   "execution_count": 9,
   "metadata": {},
   "outputs": [
    {
     "data": {
      "text/plain": [
       "array([118], dtype=int64)"
      ]
     },
     "execution_count": 9,
     "metadata": {},
     "output_type": "execute_result"
    }
   ],
   "source": [
    "merged['snid'].unique()"
   ]
  },
  {
   "cell_type": "code",
   "execution_count": null,
   "metadata": {},
   "outputs": [],
   "source": [
    "dropped = merged.drop(columns=['snid'])"
   ]
  },
  {
   "cell_type": "code",
   "execution_count": null,
   "metadata": {},
   "outputs": [],
   "source": [
    "master = dropped.rename(index=str, columns={'ClearLanguage': 'clearlanguage', 'Industry': 'industry', 'OnBrand': 'onbrand'})\n",
    "master.columns"
   ]
  },
  {
   "cell_type": "code",
   "execution_count": null,
   "metadata": {},
   "outputs": [],
   "source": [
    "master.to_csv(\"C:/Users/jacob.carey/Desktop/Projects/ConsentRateProjects/user_level_consentv1/data_prep/mass_athena/mass_athena_ba_merged.csv\")"
   ]
  },
  {
   "cell_type": "code",
   "execution_count": null,
   "metadata": {},
   "outputs": [],
   "source": [
    "len(master)"
   ]
  },
  {
   "cell_type": "code",
   "execution_count": null,
   "metadata": {},
   "outputs": [],
   "source": []
  }
 ],
 "metadata": {
  "kernelspec": {
   "display_name": "Python 3",
   "language": "python",
   "name": "python3"
  },
  "language_info": {
   "codemirror_mode": {
    "name": "ipython",
    "version": 3
   },
   "file_extension": ".py",
   "mimetype": "text/x-python",
   "name": "python",
   "nbconvert_exporter": "python",
   "pygments_lexer": "ipython3",
   "version": "3.7.3"
  }
 },
 "nbformat": 4,
 "nbformat_minor": 2
}
