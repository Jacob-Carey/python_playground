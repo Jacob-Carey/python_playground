{
 "cells": [
  {
   "cell_type": "code",
   "execution_count": 1,
   "metadata": {},
   "outputs": [],
   "source": [
    "import pandas as pd \n",
    "import numpy as np\n",
    "from tqdm import tnrange, tqdm_notebook\n",
    "path = \"C:/Users/jacob.carey/Desktop/Projects/ConsentRateProjects/user_level_consentv1/data_prep/mass_athena/mass_athena_ba_merged_v2.csv\"\n",
    "columns = []\n",
    "dtypes = {}\n",
    "newlist = []"
   ]
  },
  {
   "cell_type": "code",
   "execution_count": 2,
   "metadata": {},
   "outputs": [],
   "source": [
    "df = pd.read_csv(path, \n",
    "                usecols = [\n",
    "                    'companyid', 'noticeid', 'companycountryid', 'consentgiven',\n",
    "                    'actiontypeid', 'consenttypeid', 'accesstypeid', 'os','browser', 'usercorrelationkey', \n",
    "                    'clearlanguage', 'industry', 'onbrand'],\n",
    "                 dtype={\n",
    "                    'companyid': np.int8, \n",
    "                    'noticeid': np.int8,  \n",
    "                    'companycountryid': np.int8, \n",
    "                    'consentgiven': np.int8,\n",
    "                    'actiontypeid': np.int8, \n",
    "                    'consenttypeid': np.int8, \n",
    "                    'accesstypeid': np.int8, \n",
    "                    'clearlanguage': np.int8, \n",
    "                    'industry': np.int8, \n",
    "                    'onbrand': np.int8})"
   ]
  },
  {
   "cell_type": "code",
   "execution_count": null,
   "metadata": {},
   "outputs": [
    {
     "data": {
      "application/vnd.jupyter.widget-view+json": {
       "model_id": "84423abef61c407a9cde18d2bcd091a0",
       "version_major": 2,
       "version_minor": 0
      },
      "text/plain": [
       "HBox(children=(IntProgress(value=0, description='Processing', max=95886230, style=ProgressStyle(description_wi…"
      ]
     },
     "metadata": {},
     "output_type": "display_data"
    }
   ],
   "source": [
    "for i in tnrange(len(df), desc='Processing'):\n",
    "    my_dict = dict(df.iloc[i])\n",
    "    test_val = my_dict.get('os', 0)\n",
    "    if test_val == 'Windows':\n",
    "        my_dict['os'] = 1\n",
    "        my_dict['ismobile'] = 0\n",
    "    elif test_val == 'Mac OS X':\n",
    "        my_dict['os'] = 2\n",
    "        my_dict['ismobile'] = 0\n",
    "    elif test_val == 'Linux':\n",
    "        my_dict['os'] = 3\n",
    "        my_dict['ismobile'] = 0\n",
    "    elif test_val == 'iOS':\n",
    "        my_dict['os'] = 4\n",
    "        my_dict['ismobile'] = 1\n",
    "    elif test_val == 'Android':\n",
    "        my_dict['os'] = 5\n",
    "        my_dict['ismobile'] = 1\n",
    "    else:\n",
    "        my_dict['os'] = 6\n",
    "        my_dict['ismobile'] = 2\n",
    "        \n",
    "    test_val = my_dict.get('browser')\n",
    "    if 'Mobile' in test_val:\n",
    "        my_dict['ismobile'] = 1\n",
    "        \n",
    "    test_val = my_dict.get('browser', 0)\n",
    "    if 'Chrome' in test_val:\n",
    "        my_dict['browser'] = 1\n",
    "    elif 'Firefox' in test_val:\n",
    "        my_dict['browser'] = 2\n",
    "    elif 'Safari' in test_val:\n",
    "        my_dict['browser'] = 3\n",
    "    elif 'Edge' in test_val:\n",
    "        my_dict['browser'] = 4\n",
    "    elif 'IE' in test_val:\n",
    "        my_dict['browser'] = 5\n",
    "    else:\n",
    "        my_dict['browser'] = 6\n",
    "        my_dict['ismobile'] = 2\n",
    "            \n",
    "\n",
    "    newlist.append(my_dict)"
   ]
  },
  {
   "cell_type": "code",
   "execution_count": null,
   "metadata": {},
   "outputs": [],
   "source": []
  },
  {
   "cell_type": "code",
   "execution_count": null,
   "metadata": {},
   "outputs": [],
   "source": []
  }
 ],
 "metadata": {
  "kernelspec": {
   "display_name": "Python 3",
   "language": "python",
   "name": "python3"
  },
  "language_info": {
   "codemirror_mode": {
    "name": "ipython",
    "version": 3
   },
   "file_extension": ".py",
   "mimetype": "text/x-python",
   "name": "python",
   "nbconvert_exporter": "python",
   "pygments_lexer": "ipython3",
   "version": "3.7.3"
  }
 },
 "nbformat": 4,
 "nbformat_minor": 2
}
