{
 "cells": [
  {
   "cell_type": "code",
   "execution_count": 1,
   "metadata": {},
   "outputs": [],
   "source": [
    "import pandas as pd\n",
    "import numpy as np\n",
    "from datetime import datetime\n",
    "path = \"C:/Users/jacob.carey/Desktop/Projects/ConsentRateProjects/user_level_consentv1/data_prep/mass_athena/mass_athena_ba_merged_v2.csv\"\n",
    "columns = [\n",
    "    #'companyid', \n",
    "    #'noticeid', \n",
    "    #'host', \n",
    "    #'companycountryid',\n",
    "    'consentgiven', \n",
    "    #'usercountry', \n",
    "    #'actiontypeid', \n",
    "    'consenttypeid',\n",
    "    'accesstypeid', \n",
    "    'os', \n",
    "    'browser', \n",
    "    #'usercorrelationkey', \n",
    "    'clearlanguage',\n",
    "    #'CompanyName', \n",
    "    #'industry', \n",
    "    'onbrand', \n",
    "    #'snid'\n",
    "]\n",
    "dtypes = {\n",
    "    #'companyid': np.int8, \n",
    "    #'noticeid': np.int8, \n",
    "    #'host', \n",
    "    #'companycountryid': np.int8,\n",
    "    'consentgiven': np.int8, \n",
    "    #'usercountry', \n",
    "    #'actiontypeid': np.int8, \n",
    "    'consenttypeid': np.int8,\n",
    "    'accesstypeid': np.int8, \n",
    "    #'os', \n",
    "    #'browser', \n",
    "    #'usercorrelationkey', \n",
    "    'clearlanguage': np.int8,\n",
    "    #'CompanyName', \n",
    "    #'industry', \n",
    "    'onbrand': np.int8, \n",
    "    #'snid'\n",
    "}"
   ]
  },
  {
   "cell_type": "code",
   "execution_count": 2,
   "metadata": {},
   "outputs": [],
   "source": [
    "df = pd.read_csv(path)"
   ]
  },
  {
   "cell_type": "code",
   "execution_count": 3,
   "metadata": {},
   "outputs": [
    {
     "data": {
      "text/plain": [
       "Index(['Unnamed: 0', 'companyid', 'noticeid', 'host', 'companycountryid',\n",
       "       'consentgiven', 'usercountry', 'actiontypeid', 'consenttypeid',\n",
       "       'accesstypeid', 'os', 'browser', 'usercorrelationkey', 'clearlanguage',\n",
       "       'CompanyName', 'industry', 'onbrand', 'snid'],\n",
       "      dtype='object')"
      ]
     },
     "execution_count": 3,
     "metadata": {},
     "output_type": "execute_result"
    }
   ],
   "source": [
    "df.columns"
   ]
  },
  {
   "cell_type": "code",
   "execution_count": 8,
   "metadata": {},
   "outputs": [
    {
     "name": "stdout",
     "output_type": "stream",
     "text": [
      "Once deleted, variables cannot be recovered. Proceed (y/[n])? y\n",
      "Flushing output cache (4 entries)\n",
      "Once deleted, variables cannot be recovered. Proceed (y/[n])? y\n",
      "\n",
      "Once deleted, variables cannot be recovered. Proceed (y/[n])? y\n",
      "Flushing output cache (0 entries)\n"
     ]
    }
   ],
   "source": [
    "df = df[df.consenttypeid != 1]\n",
    "%reset Out\n",
    "df = df[df.consenttypeid != 0]\n",
    "%reset Out\n",
    "df = df[df.accesstypeid != 0]"
   ]
  },
  {
   "cell_type": "code",
   "execution_count": 26,
   "metadata": {},
   "outputs": [
    {
     "name": "stdout",
     "output_type": "stream",
     "text": [
      "Once deleted, variables cannot be recovered. Proceed (y/[n])? y\n",
      "Flushing output cache (6 entries)\n"
     ]
    }
   ],
   "source": [
    "%reset Out"
   ]
  },
  {
   "cell_type": "code",
   "execution_count": 27,
   "metadata": {
    "scrolled": true
   },
   "outputs": [
    {
     "data": {
      "text/plain": [
       "5695996"
      ]
     },
     "execution_count": 27,
     "metadata": {},
     "output_type": "execute_result"
    }
   ],
   "source": [
    "df['usercorrelationkey'].nunique()"
   ]
  },
  {
   "cell_type": "code",
   "execution_count": 13,
   "metadata": {},
   "outputs": [],
   "source": [
    "df.to_csv(\"C:/Users/jacob.carey/Desktop/Projects/ConsentRateProjects/user_level_consentv1/data_prep/mass_athena/mass_athena_ba_merged_v4.csv\")"
   ]
  },
  {
   "cell_type": "code",
   "execution_count": null,
   "metadata": {},
   "outputs": [],
   "source": []
  }
 ],
 "metadata": {
  "kernelspec": {
   "display_name": "Python 3",
   "language": "python",
   "name": "python3"
  },
  "language_info": {
   "codemirror_mode": {
    "name": "ipython",
    "version": 3
   },
   "file_extension": ".py",
   "mimetype": "text/x-python",
   "name": "python",
   "nbconvert_exporter": "python",
   "pygments_lexer": "ipython3",
   "version": "3.7.3"
  }
 },
 "nbformat": 4,
 "nbformat_minor": 2
}
