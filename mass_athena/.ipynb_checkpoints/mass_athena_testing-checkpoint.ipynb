{
 "cells": [
  {
   "cell_type": "code",
   "execution_count": 1,
   "metadata": {},
   "outputs": [],
   "source": [
    "import pandas as pd \n",
    "import numpy as np\n",
    "from tqdm import tnrange, tqdm_notebook\n",
    "path = \"C:/Users/jacob.carey/Desktop/Projects/ConsentRateProjects/user_level_consentv1/data_prep/mass_athena/mass_athena_ba_merged_v2.csv\""
   ]
  },
  {
   "cell_type": "code",
   "execution_count": null,
   "metadata": {},
   "outputs": [],
   "source": [
    "df =  pd.read_csv(path, \n",
    "                usecols = [\n",
    "                    'companyid', 'noticeid', 'host', 'companycountryid', 'consentgiven',\n",
    "                    'usercountry', 'actiontypeid', 'consenttypeid', 'accesstypeid', 'os',\n",
    "                    'browser', 'usercorrelationkey', 'clearlanguage', 'industry', 'onbrand'\n",
    "                ], dtype={\n",
    "                    'companyid': np.int8, \n",
    "                    'noticeid': np.int8,  \n",
    "                    'companycountryid': np.int8, \n",
    "                    'consentgiven': np.int8,\n",
    "                    'actiontypeid': np.int8, \n",
    "                    'consenttypeid': np.int8, \n",
    "                    'accesstypeid': np.int8, \n",
    "                    'clearlanguage': np.int8, \n",
    "                    'industry': np.int8, \n",
    "                    'onbrand': np.int8\n",
    "                })"
   ]
  },
  {
   "cell_type": "code",
   "execution_count": null,
   "metadata": {},
   "outputs": [],
   "source": [
    "df['browser'].unique()"
   ]
  },
  {
   "cell_type": "code",
   "execution_count": null,
   "metadata": {},
   "outputs": [],
   "source": []
  }
 ],
 "metadata": {
  "kernelspec": {
   "display_name": "Python 3",
   "language": "python",
   "name": "python3"
  },
  "language_info": {
   "codemirror_mode": {
    "name": "ipython",
    "version": 3
   },
   "file_extension": ".py",
   "mimetype": "text/x-python",
   "name": "python",
   "nbconvert_exporter": "python",
   "pygments_lexer": "ipython3",
   "version": "3.7.3"
  }
 },
 "nbformat": 4,
 "nbformat_minor": 2
}
