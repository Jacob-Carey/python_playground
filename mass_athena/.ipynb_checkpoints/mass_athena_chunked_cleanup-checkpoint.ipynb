{
 "cells": [
  {
   "cell_type": "code",
   "execution_count": 1,
   "metadata": {},
   "outputs": [],
   "source": [
    "import pandas as pd \n",
    "import numpy as np\n",
    "from tqdm import tnrange, tqdm_notebook\n",
    "path = \"C:/Users/jacob.carey/Desktop/Projects/ConsentRateProjects/user_level_consentv1/data_prep/mass_athena/mass_athena_ba_merged_v2.csv\"\n",
    "columns = []\n",
    "dtypes = {}\n",
    "ent_list = []\n",
    "pub_list = []\n",
    "goods_list = []\n",
    "health_list = []\n",
    "tech_list = []\n",
    "fin_list = []\n",
    "chunks = []"
   ]
  },
  {
   "cell_type": "code",
   "execution_count": 2,
   "metadata": {},
   "outputs": [],
   "source": [
    "df_iterator =  pd.read_csv(path, \n",
    "                usecols = [\n",
    "                    'companyid', 'noticeid', 'host', 'companycountryid', 'consentgiven',\n",
    "                    'usercountry', 'actiontypeid', 'consenttypeid', 'accesstypeid', 'os',\n",
    "                    'browser', 'usercorrelationkey', 'clearlanguage', 'industry', 'onbrand'\n",
    "                ], dtype={\n",
    "                    'companyid': np.int8, \n",
    "                    'noticeid': np.int8,  \n",
    "                    'companycountryid': np.int8, \n",
    "                    'consentgiven': np.int8,\n",
    "                    'actiontypeid': np.int8, \n",
    "                    'consenttypeid': np.int8, \n",
    "                    'accesstypeid': np.int8, \n",
    "                    'clearlanguage': np.int8, \n",
    "                    'industry': np.int8, \n",
    "                    'onbrand': np.int8\n",
    "                }, chunksize=10000000)"
   ]
  },
  {
   "cell_type": "code",
   "execution_count": null,
   "metadata": {},
   "outputs": [
    {
     "data": {
      "application/vnd.jupyter.widget-view+json": {
       "model_id": "ef578938dee94a35ab56443dd00baa45",
       "version_major": 2,
       "version_minor": 0
      },
      "text/plain": [
       "HBox(children=(IntProgress(value=0, description='Processing', max=10000000, style=ProgressStyle(description_wi…"
      ]
     },
     "metadata": {},
     "output_type": "display_data"
    },
    {
     "name": "stdout",
     "output_type": "stream",
     "text": [
      "\n"
     ]
    },
    {
     "data": {
      "application/vnd.jupyter.widget-view+json": {
       "model_id": "369160818fb2452e818a5ef5ad449707",
       "version_major": 2,
       "version_minor": 0
      },
      "text/plain": [
       "HBox(children=(IntProgress(value=0, description='Processing', max=10000000, style=ProgressStyle(description_wi…"
      ]
     },
     "metadata": {},
     "output_type": "display_data"
    },
    {
     "name": "stdout",
     "output_type": "stream",
     "text": [
      "\n"
     ]
    },
    {
     "data": {
      "application/vnd.jupyter.widget-view+json": {
       "model_id": "fdda1f2d1be04ad58899bbd5c96b22c5",
       "version_major": 2,
       "version_minor": 0
      },
      "text/plain": [
       "HBox(children=(IntProgress(value=0, description='Processing', max=10000000, style=ProgressStyle(description_wi…"
      ]
     },
     "metadata": {},
     "output_type": "display_data"
    },
    {
     "name": "stdout",
     "output_type": "stream",
     "text": [
      "\n"
     ]
    },
    {
     "data": {
      "application/vnd.jupyter.widget-view+json": {
       "model_id": "7272aaddd6b04d2c987fe78f6aafd878",
       "version_major": 2,
       "version_minor": 0
      },
      "text/plain": [
       "HBox(children=(IntProgress(value=0, description='Processing', max=10000000, style=ProgressStyle(description_wi…"
      ]
     },
     "metadata": {},
     "output_type": "display_data"
    }
   ],
   "source": [
    "for df in df_iterator:\n",
    "    for i in tnrange(len(df), desc='Processing'):\n",
    "        my_dict = dict(df.iloc[i])\n",
    "        test_val = my_dict.get('industry', 0)\n",
    "        if test_val == 1:\n",
    "            pub_list.append(my_dict)\n",
    "        elif test_val == 2:\n",
    "            ent_list.append(my_dict)\n",
    "        elif test_val == 3:\n",
    "            goods_list.append(my_dict)\n",
    "        elif test_val == 4:\n",
    "            health_list.append(my_dict)\n",
    "        elif test_val == 5:\n",
    "            tech_list.append(my_dict)\n",
    "        elif test_val == 6:\n",
    "            fin_list.append(my_dict)"
   ]
  },
  {
   "cell_type": "code",
   "execution_count": null,
   "metadata": {},
   "outputs": [],
   "source": []
  }
 ],
 "metadata": {
  "kernelspec": {
   "display_name": "Python 3",
   "language": "python",
   "name": "python3"
  },
  "language_info": {
   "codemirror_mode": {
    "name": "ipython",
    "version": 3
   },
   "file_extension": ".py",
   "mimetype": "text/x-python",
   "name": "python",
   "nbconvert_exporter": "python",
   "pygments_lexer": "ipython3",
   "version": "3.7.3"
  }
 },
 "nbformat": 4,
 "nbformat_minor": 2
}
