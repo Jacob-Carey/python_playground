{
 "cells": [
  {
   "cell_type": "code",
   "execution_count": 1,
   "metadata": {},
   "outputs": [],
   "source": [
    "import pandas as pd\n",
    "import numpy as np\n",
    "from datetime import datetime\n",
    "from tqdm import tnrange, tqdm_notebook\n",
    "path = \"C:/Users/jacob.carey/Desktop/Projects/ConsentRateProjects/user_level_consentv1/data_prep/mass_athena/mass_athena_ba_merged_v4.csv\"\n",
    "c_list = []\n",
    "nc_list = []\n",
    "id_list = []\n",
    "columns = [\n",
    "    #'companyid', \n",
    "    #'noticeid', \n",
    "    #'host', \n",
    "    'companycountryid',\n",
    "    #'consentgiven', \n",
    "    #'usercountry', \n",
    "    'actiontypeid', \n",
    "    'consenttypeid',\n",
    "    'accesstypeid', \n",
    "    'os', \n",
    "    'browser', \n",
    "    'usercorrelationkey', \n",
    "    'clearlanguage',\n",
    "    #'CompanyName', \n",
    "    'industry', \n",
    "    'onbrand', \n",
    "    #'snid'\n",
    "]\n",
    "dtypes = {\n",
    "    #'companyid': np.int8, \n",
    "    #'noticeid': np.int8, \n",
    "    #'host', \n",
    "    #'companycountryid': np.int8,\n",
    "    #'consentgiven': np.int8, \n",
    "    #'usercountry', \n",
    "    'actiontypeid': np.int8, \n",
    "    'consenttypeid': np.int8,\n",
    "    'accesstypeid': np.int8, \n",
    "    #'os', \n",
    "    #'browser', \n",
    "    #'usercorrelationkey', \n",
    "    'clearlanguage': np.int8,\n",
    "    #'CompanyName', \n",
    "    #'industry', \n",
    "    'onbrand': np.int8, \n",
    "    #'snid'\n",
    "}"
   ]
  },
  {
   "cell_type": "code",
   "execution_count": 2,
   "metadata": {},
   "outputs": [],
   "source": [
    "df = pd.read_csv(path, usecols=columns, dtype=dtypes)"
   ]
  },
  {
   "cell_type": "code",
   "execution_count": 3,
   "metadata": {},
   "outputs": [
    {
     "data": {
      "text/plain": [
       "5695996"
      ]
     },
     "execution_count": 3,
     "metadata": {},
     "output_type": "execute_result"
    }
   ],
   "source": [
    "df['usercorrelationkey'].nunique()"
   ]
  },
  {
   "cell_type": "code",
   "execution_count": 4,
   "metadata": {},
   "outputs": [],
   "source": [
    "uu = df['usercorrelationkey'].unique()"
   ]
  },
  {
   "cell_type": "code",
   "execution_count": null,
   "metadata": {},
   "outputs": [],
   "source": [
    "# for i in uu:\n",
    "#     test = df.loc[df['usercorrelationkey'] == i]\n",
    "#     test_val_1 = test['actiontypeid'].unique()\n",
    "#     if 11 in test_val_1:\n",
    "#         for row in test.iterrows():\n",
    "#             my_dict = dict(row[1])\n",
    "#             test_act = my_dict.get('actiontypeid')\n",
    "#             test_uuid = my_dict.get('usercorrelationkey')\n",
    "#             if test_act == 11 and test_uuid not in c_list:\n",
    "#                 del my_dict['actiontypeid']\n",
    "#                 my_dict['consent'] = 1\n",
    "#                 c_list.append(my_dict)\n",
    "#             elif test_act == 12 and test_uuid not in c_list:\n",
    "#                 del my_dict['actiontypeid']\n",
    "#                 my_dict['consent'] = 1\n",
    "#                 c_list.append(my_dict)\n",
    "#     elif 12 in test_val_1:\n",
    "#         for row in test.iterrows():\n",
    "#             my_dict = dict(row[1])\n",
    "#             test_act = my_dict.get('actiontypeid')\n",
    "#             test_uuid = my_dict.get('usercorrelationkey')\n",
    "#             if test_act == 11 and test_uuid not in c_list:\n",
    "#                 del my_dict['actiontypeid']\n",
    "#                 my_dict['consent'] = 1\n",
    "#                 c_list.append(my_dict)\n",
    "#             elif test_act == 12 and test_uuid not in c_list:\n",
    "#                 del my_dict['actiontypeid']\n",
    "#                 my_dict['consent'] = 1\n",
    "#                 c_list.append(my_dict)\n",
    "#     else:\n",
    "#         for row in test.iterrows():\n",
    "#             my_dict = dict(row[1])\n",
    "#             test_uuid = my_dict.get('usercorrelationkey')\n",
    "#             if test_uuid not in id_list:\n",
    "#                 del my_dict['actiontypeid']\n",
    "#                 my_dict['consent'] = 0\n",
    "#                 nc_list.append(my_dict)\n",
    "#                 id_list.append(test_uuid)"
   ]
  },
  {
   "cell_type": "code",
   "execution_count": 5,
   "metadata": {},
   "outputs": [
    {
     "ename": "NameError",
     "evalue": "name 'tnrange' is not defined",
     "output_type": "error",
     "traceback": [
      "\u001b[1;31m---------------------------------------------------------------------------\u001b[0m",
      "\u001b[1;31mNameError\u001b[0m                                 Traceback (most recent call last)",
      "\u001b[1;32m<ipython-input-5-fd7296c5a260>\u001b[0m in \u001b[0;36m<module>\u001b[1;34m\u001b[0m\n\u001b[1;32m----> 1\u001b[1;33m \u001b[1;32mfor\u001b[0m \u001b[0mi\u001b[0m \u001b[1;32min\u001b[0m \u001b[0mtnrange\u001b[0m\u001b[1;33m(\u001b[0m\u001b[0mlen\u001b[0m\u001b[1;33m(\u001b[0m\u001b[0muu\u001b[0m\u001b[1;33m)\u001b[0m\u001b[1;33m,\u001b[0m \u001b[0mdesc\u001b[0m\u001b[1;33m=\u001b[0m\u001b[1;34m'Processing...'\u001b[0m\u001b[1;33m)\u001b[0m\u001b[1;33m:\u001b[0m\u001b[1;33m\u001b[0m\u001b[1;33m\u001b[0m\u001b[0m\n\u001b[0m\u001b[0;32m      2\u001b[0m     \u001b[0mtest\u001b[0m \u001b[1;33m=\u001b[0m \u001b[0mdf\u001b[0m\u001b[1;33m.\u001b[0m\u001b[0mloc\u001b[0m\u001b[1;33m[\u001b[0m\u001b[0mdf\u001b[0m\u001b[1;33m[\u001b[0m\u001b[1;34m'usercorrelationkey'\u001b[0m\u001b[1;33m]\u001b[0m \u001b[1;33m==\u001b[0m \u001b[0mi\u001b[0m\u001b[1;33m]\u001b[0m\u001b[1;33m\u001b[0m\u001b[1;33m\u001b[0m\u001b[0m\n\u001b[0;32m      3\u001b[0m     \u001b[0mtest_val_1\u001b[0m \u001b[1;33m=\u001b[0m \u001b[0mtest\u001b[0m\u001b[1;33m[\u001b[0m\u001b[1;34m'actiontypeid'\u001b[0m\u001b[1;33m]\u001b[0m\u001b[1;33m.\u001b[0m\u001b[0munique\u001b[0m\u001b[1;33m(\u001b[0m\u001b[1;33m)\u001b[0m\u001b[1;33m\u001b[0m\u001b[1;33m\u001b[0m\u001b[0m\n\u001b[0;32m      4\u001b[0m     \u001b[1;32mif\u001b[0m \u001b[1;36m11\u001b[0m \u001b[1;32min\u001b[0m \u001b[0mtest_val_1\u001b[0m\u001b[1;33m:\u001b[0m\u001b[1;33m\u001b[0m\u001b[1;33m\u001b[0m\u001b[0m\n\u001b[0;32m      5\u001b[0m         \u001b[1;32mfor\u001b[0m \u001b[0mrow\u001b[0m \u001b[1;32min\u001b[0m \u001b[0mtest\u001b[0m\u001b[1;33m.\u001b[0m\u001b[0miterrows\u001b[0m\u001b[1;33m(\u001b[0m\u001b[1;33m)\u001b[0m\u001b[1;33m:\u001b[0m\u001b[1;33m\u001b[0m\u001b[1;33m\u001b[0m\u001b[0m\n",
      "\u001b[1;31mNameError\u001b[0m: name 'tnrange' is not defined"
     ]
    }
   ],
   "source": [
    "for i in tnrange(len(uu), desc='Processing...'):\n",
    "    test = df.loc[df['usercorrelationkey'] == i]\n",
    "    test_val_1 = test['actiontypeid'].unique()\n",
    "    if 11 in test_val_1:\n",
    "        for row in test.iterrows():\n",
    "            my_dict = dict(row[1])\n",
    "            test_act = my_dict.get('actiontypeid')\n",
    "            test_uuid = my_dict.get('usercorrelationkey')\n",
    "            if test_act == 11 and test_uuid not in c_list:\n",
    "                del my_dict['actiontypeid']\n",
    "                my_dict['consent'] = 1\n",
    "                c_list.append(my_dict)\n",
    "            elif test_act == 12 and test_uuid not in c_list:\n",
    "                del my_dict['actiontypeid']\n",
    "                my_dict['consent'] = 1\n",
    "                c_list.append(my_dict)\n",
    "    elif 12 in test_val_1:\n",
    "        for row in test.iterrows():\n",
    "            my_dict = dict(row[1])\n",
    "            test_act = my_dict.get('actiontypeid')\n",
    "            test_uuid = my_dict.get('usercorrelationkey')\n",
    "            if test_act == 11 and test_uuid not in c_list:\n",
    "                del my_dict['actiontypeid']\n",
    "                my_dict['consent'] = 1\n",
    "                c_list.append(my_dict)\n",
    "            elif test_act == 12 and test_uuid not in c_list:\n",
    "                del my_dict['actiontypeid']\n",
    "                my_dict['consent'] = 1\n",
    "                c_list.append(my_dict)\n",
    "    else:\n",
    "        for row in test.iterrows():\n",
    "            my_dict = dict(row[1])\n",
    "            test_uuid = my_dict.get('usercorrelationkey')\n",
    "            if test_uuid not in id_list:\n",
    "                del my_dict['actiontypeid']\n",
    "                my_dict['consent'] = 0\n",
    "                nc_list.append(my_dict)\n",
    "                id_list.append(test_uuid)"
   ]
  },
  {
   "cell_type": "code",
   "execution_count": null,
   "metadata": {},
   "outputs": [],
   "source": []
  }
 ],
 "metadata": {
  "kernelspec": {
   "display_name": "Python 3",
   "language": "python",
   "name": "python3"
  },
  "language_info": {
   "codemirror_mode": {
    "name": "ipython",
    "version": 3
   },
   "file_extension": ".py",
   "mimetype": "text/x-python",
   "name": "python",
   "nbconvert_exporter": "python",
   "pygments_lexer": "ipython3",
   "version": "3.7.3"
  }
 },
 "nbformat": 4,
 "nbformat_minor": 2
}
