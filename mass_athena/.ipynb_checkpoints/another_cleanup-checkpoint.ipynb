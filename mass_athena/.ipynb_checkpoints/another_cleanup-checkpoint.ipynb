{
 "cells": [
  {
   "cell_type": "code",
   "execution_count": 1,
   "metadata": {},
   "outputs": [],
   "source": [
    "import pandas as pd\n",
    "import numpy as np\n",
    "from datetime import datetime\n",
    "path = \"C:/Users/jacob.carey/Desktop/Projects/ConsentRateProjects/user_level_consentv1/data_prep/mass_athena/mass_athena_ba_merged_v4.csv\"\n",
    "c_list = []\n",
    "nc_list = []\n",
    "id_list = []\n",
    "columns = [\n",
    "    #'companyid', \n",
    "    #'noticeid', \n",
    "    #'host', \n",
    "    'companycountryid',\n",
    "    #'consentgiven', \n",
    "    #'usercountry', \n",
    "    'actiontypeid', \n",
    "    'consenttypeid',\n",
    "    'accesstypeid', \n",
    "    'os', \n",
    "    'browser', \n",
    "    'usercorrelationkey', \n",
    "    'clearlanguage',\n",
    "    #'CompanyName', \n",
    "    'industry', \n",
    "    'onbrand', \n",
    "    #'snid'\n",
    "]\n",
    "dtypes = {\n",
    "    #'companyid': np.int8, \n",
    "    #'noticeid': np.int8, \n",
    "    #'host', \n",
    "    #'companycountryid': np.int8,\n",
    "    #'consentgiven': np.int8, \n",
    "    #'usercountry', \n",
    "    'actiontypeid': np.int8, \n",
    "    'consenttypeid': np.int8,\n",
    "    'accesstypeid': np.int8, \n",
    "    #'os', \n",
    "    #'browser', \n",
    "    #'usercorrelationkey', \n",
    "    'clearlanguage': np.int8,\n",
    "    #'CompanyName', \n",
    "    #'industry', \n",
    "    'onbrand': np.int8, \n",
    "    #'snid'\n",
    "}"
   ]
  },
  {
   "cell_type": "code",
   "execution_count": 2,
   "metadata": {},
   "outputs": [],
   "source": [
    "df = pd.read_csv(path, usecols=columns, dtype=dtypes)"
   ]
  },
  {
   "cell_type": "code",
   "execution_count": 3,
   "metadata": {},
   "outputs": [
    {
     "data": {
      "text/plain": [
       "array(['e34b7a789de2f6724d058a49e6b158ce67a269330cdf2e45d4df9afcf691fd6d',\n",
       "       'c5e11ab548b2bca0df46bd97bcb5c82551a368e7f17fe5a1d330665bb60d530f',\n",
       "       'fa92ccfba75af208e1343981fe82af0037cf43ab2c5b5f70454965afc2cc78c9',\n",
       "       ...,\n",
       "       'ec3cd8ce5456c330b0f42f26b4fb70d353bd94160240279b138340201c3309d1',\n",
       "       '4003ceb0995de41201db22e6d930b9c736b381b09c1bc392152d4235b2e4b602',\n",
       "       'e145b33d822cd57533004ee379e93cc22e7bec7eefb6a7e7a5b7276f10ff208d'],\n",
       "      dtype=object)"
      ]
     },
     "execution_count": 3,
     "metadata": {},
     "output_type": "execute_result"
    }
   ],
   "source": [
    "df['usercorrelationkey'].unique()"
   ]
  },
  {
   "cell_type": "code",
   "execution_count": 4,
   "metadata": {},
   "outputs": [],
   "source": [
    "uu = df['usercorrelationkey'].unique()"
   ]
  },
  {
   "cell_type": "code",
   "execution_count": null,
   "metadata": {},
   "outputs": [],
   "source": [
    "for i in uu:\n",
    "    test = df.loc[df['usercorrelationkey'] == i]\n",
    "    test_val_1 = test['actiontypeid'].unique()\n",
    "    if 11 in test_val_1:\n",
    "        for row in test.iterrows():\n",
    "            my_dict = dict(row[1])\n",
    "            test_act = my_dict.get('actiontypeid')\n",
    "            test_uuid = my_dict.get('usercorrelationkey')\n",
    "            if test_act == 11 and test_uuid not in c_list:\n",
    "                del my_dict['actiontypeid']\n",
    "                my_dict['consent'] = 1\n",
    "                c_list.append(my_dict)\n",
    "            elif test_act == 12 and test_uuid not in c_list:\n",
    "                del my_dict['actiontypeid']\n",
    "                my_dict['consent'] = 1\n",
    "                c_list.append(my_dict)\n",
    "    elif 12 in test_val_1:\n",
    "        for row in test.iterrows():\n",
    "            my_dict = dict(row[1])\n",
    "            test_act = my_dict.get('actiontypeid')\n",
    "            test_uuid = my_dict.get('usercorrelationkey')\n",
    "            if test_act == 11 and test_uuid not in c_list:\n",
    "                del my_dict['actiontypeid']\n",
    "                my_dict['consent'] = 1\n",
    "                c_list.append(my_dict)\n",
    "            elif test_act == 12 and test_uuid not in c_list:\n",
    "                del my_dict['actiontypeid']\n",
    "                my_dict['consent'] = 1\n",
    "                c_list.append(my_dict)\n",
    "    else:\n",
    "        for row in test.iterrows():\n",
    "            my_dict = dict(row[1])\n",
    "            test_uuid = my_dict.get('usercorrelationkey')\n",
    "            if test_uuid not in id_list:\n",
    "                del my_dict['actiontypeid']\n",
    "                my_dict['consent'] = 0\n",
    "                nc_list.append(my_dict)\n",
    "                id_list.append(test_uuid)"
   ]
  },
  {
   "cell_type": "code",
   "execution_count": null,
   "metadata": {},
   "outputs": [],
   "source": []
  }
 ],
 "metadata": {
  "kernelspec": {
   "display_name": "Python 3",
   "language": "python",
   "name": "python3"
  },
  "language_info": {
   "codemirror_mode": {
    "name": "ipython",
    "version": 3
   },
   "file_extension": ".py",
   "mimetype": "text/x-python",
   "name": "python",
   "nbconvert_exporter": "python",
   "pygments_lexer": "ipython3",
   "version": "3.7.3"
  }
 },
 "nbformat": 4,
 "nbformat_minor": 2
}
