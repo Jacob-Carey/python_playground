{
 "cells": [
  {
   "cell_type": "code",
   "execution_count": 1,
   "metadata": {},
   "outputs": [],
   "source": [
    "import pandas as pd\n",
    "import numpy as np\n",
    "from datetime import datetime\n",
    "from tqdm import tnrange, tqdm_notebook\n",
    "path = \"C:/Users/jacob.carey/Desktop/Projects/ConsentRateProjects/user_level_consentv1/data_prep/mass_athena/mass_athena_ba_merged_v4.csv\"\n",
    "c_list = []\n",
    "nc_list = []\n",
    "used_ids = []\n",
    "consent_actions = [11,12,24,25,26]\n",
    "non_consent_actions = [1,2,3,4,5,6,7,8,9,10,13,14,15,16,17,18,19,20,21,22,23,30,31,32,40,41,42,43,44,45]\n",
    "columns = [\n",
    "    #'companyid', \n",
    "    #'noticeid', \n",
    "    #'host', \n",
    "    'companycountryid',\n",
    "    #'consentgiven', \n",
    "    #'usercountry', \n",
    "    'actiontypeid', \n",
    "    'consenttypeid',\n",
    "    'accesstypeid', \n",
    "    'os', \n",
    "    'browser', \n",
    "    'usercorrelationkey', \n",
    "    'clearlanguage',\n",
    "    #'CompanyName', \n",
    "    'industry', \n",
    "    'onbrand', \n",
    "    #'snid'\n",
    "]\n",
    "dtypes = {\n",
    "    #'companyid': np.int8, \n",
    "    #'noticeid': np.int8, \n",
    "    #'host', \n",
    "    #'companycountryid': np.int8,\n",
    "    #'consentgiven': np.int8, \n",
    "    #'usercountry', \n",
    "    'actiontypeid': np.int8, \n",
    "    'consenttypeid': np.int8,\n",
    "    'accesstypeid': np.int8, \n",
    "    #'os', \n",
    "    #'browser', \n",
    "    #'usercorrelationkey', \n",
    "    'clearlanguage': np.int8,\n",
    "    #'CompanyName', \n",
    "    #'industry', \n",
    "    'onbrand': np.int8, \n",
    "    #'snid'\n",
    "}"
   ]
  },
  {
   "cell_type": "code",
   "execution_count": null,
   "metadata": {},
   "outputs": [],
   "source": [
    "df = pd.read_csv(path, usecols=columns, dtype=dtypes)"
   ]
  },
  {
   "cell_type": "code",
   "execution_count": null,
   "metadata": {},
   "outputs": [],
   "source": [
    "uuids = df['usercorrelationkey'].unique()"
   ]
  },
  {
   "cell_type": "code",
   "execution_count": null,
   "metadata": {},
   "outputs": [],
   "source": [
    "len(uuids)"
   ]
  },
  {
   "cell_type": "code",
   "execution_count": null,
   "metadata": {},
   "outputs": [],
   "source": [
    "for i in uuids:\n",
    "    c_test = df.loc[(df['usercorrelationkey'] == i) & (df['actiontypeid'].isin(consent_actions))]\n",
    "    if c_test['usercorrelationkey'] not in used_ids:\n",
    "        c_list.append(c_test)\n",
    "        used_ids.append(c_test['usercorrelationkey'])"
   ]
  },
  {
   "cell_type": "code",
   "execution_count": null,
   "metadata": {},
   "outputs": [],
   "source": [
    "uuids = np.delete(uuids, used_ids)"
   ]
  },
  {
   "cell_type": "code",
   "execution_count": null,
   "metadata": {},
   "outputs": [],
   "source": [
    "len(uuids)"
   ]
  },
  {
   "cell_type": "code",
   "execution_count": null,
   "metadata": {},
   "outputs": [],
   "source": [
    "for i in uuids:\n",
    "    nc_test = df.loc[(df['usercorrelationkey'] == i & df['actiontypeid'].isin(non_consent_actions)]\n",
    "    if nc_test['usercorrelationkey'] not in used_ids:\n",
    "        nc_list.append(nc_test)\n",
    "        used_ids.append(nc_test['usercorrelationkey'])"
   ]
  },
  {
   "cell_type": "code",
   "execution_count": null,
   "metadata": {},
   "outputs": [],
   "source": [
    "for row in df.iterrows():\n",
    "    my_dict = dict(row[1])\n",
    "    test_val my_dict.get()"
   ]
  },
  {
   "cell_type": "code",
   "execution_count": null,
   "metadata": {},
   "outputs": [],
   "source": [
    "ucon = df.loc[df['usercorrelationkey'].isin(uuids) & df['actiontypeid'].isin(consent_actions)]"
   ]
  },
  {
   "cell_type": "code",
   "execution_count": null,
   "metadata": {},
   "outputs": [],
   "source": [
    "ucon.head(25)"
   ]
  },
  {
   "cell_type": "code",
   "execution_count": null,
   "metadata": {},
   "outputs": [],
   "source": [
    "len(ucon)"
   ]
  },
  {
   "cell_type": "code",
   "execution_count": null,
   "metadata": {},
   "outputs": [],
   "source": [
    "ucon = ucon.drop_duplicates(subset='usercorrelationkey', keep='first')"
   ]
  },
  {
   "cell_type": "code",
   "execution_count": null,
   "metadata": {},
   "outputs": [],
   "source": [
    "len(ucon)"
   ]
  },
  {
   "cell_type": "code",
   "execution_count": null,
   "metadata": {},
   "outputs": [],
   "source": []
  },
  {
   "cell_type": "code",
   "execution_count": null,
   "metadata": {},
   "outputs": [],
   "source": []
  },
  {
   "cell_type": "code",
   "execution_count": null,
   "metadata": {},
   "outputs": [],
   "source": []
  },
  {
   "cell_type": "code",
   "execution_count": null,
   "metadata": {},
   "outputs": [],
   "source": [
    "df.head()"
   ]
  },
  {
   "cell_type": "code",
   "execution_count": null,
   "metadata": {},
   "outputs": [],
   "source": [
    "uuid_range = df['usercorrelationkey'].nunique()"
   ]
  },
  {
   "cell_type": "code",
   "execution_count": null,
   "metadata": {},
   "outputs": [],
   "source": [
    "uuids = df['usercorrelationkey'].unique() necessary"
   ]
  },
  {
   "cell_type": "code",
   "execution_count": null,
   "metadata": {},
   "outputs": [],
   "source": [
    "for i in uuids:\n",
    "    test = df.loc[df['usercorrelationkey'] == i]\n",
    "    for row in test.iterrows():\n",
    "        my_dict = dict(row[1])\n",
    "        if my_dict['actiontypeid'] in consent_actions:\n",
    "            my_dict['consent'] = 1\n",
    "            used_ids.append(i)\n",
    "            c_list.append(my_dict)\n",
    "        elif my_dict['usercorrelationkey'] not in used_ids:\n",
    "            my_dict['consent'] = 0\n",
    "            used_ids.append(i)\n",
    "            nc_list.append(my_dict)"
   ]
  },
  {
   "cell_type": "code",
   "execution_count": null,
   "metadata": {},
   "outputs": [],
   "source": [
    "for i in tnrange(len(df), desc='Processing'):\n",
    "    my_dict = dict(df.iloc[i])\n",
    "    test_act =  my_dict.get('actiontypeid', 0)\n",
    "    if test_act in consent_actions:\n",
    "        c_list.append(my_dict)\n",
    "    else: \n",
    "        nc_list.append(my_dict)"
   ]
  },
  {
   "cell_type": "code",
   "execution_count": null,
   "metadata": {},
   "outputs": [],
   "source": [
    "c_df = pd.DataFrame(c_list)\n",
    "nc_df = pd.DataFrame(nc_list)"
   ]
  },
  {
   "cell_type": "code",
   "execution_count": null,
   "metadata": {
    "scrolled": false
   },
   "outputs": [],
   "source": [
    "# for i in tnrange(uuid_range, desc='Processing..'):\n",
    "#     test = df.loc[df['usercorrelationkey'] == i]\n",
    "#     print(test['usercorrelationkey'])\n",
    "    \n",
    "#     if test['actiontypeid'] in consent_actions:\n",
    "#         if test['usercorrelationkey'] not in used_ids:\n",
    "#             test['consent'] = 1\n",
    "#             c_list.append(my_dict)\n",
    "#             used_ids.append(test['usercorrelationkey'])\n",
    "            \n",
    "#     elif test['usercorrelationkey'] not in used_id:\n",
    "#         test['consent'] = 0\n",
    "#         nc_list.append(test)\n",
    "#         used_ids.append(test['usercorrelationkey'])"
   ]
  },
  {
   "cell_type": "code",
   "execution_count": null,
   "metadata": {},
   "outputs": [],
   "source": [
    "# for i in uu:\n",
    "#     test = df.loc[df['usercorrelationkey'] == i]\n",
    "#     test_val_1 = test['actiontypeid'].unique()\n",
    "#     if 11 in test_val_1:\n",
    "#         for row in test.iterrows():\n",
    "#             my_dict = dict(row[1])\n",
    "#             test_act = my_dict.get('actiontypeid')\n",
    "#             test_uuid = my_dict.get('usercorrelationkey')\n",
    "#             if test_act == 11 and test_uuid not in c_list:\n",
    "#                 del my_dict['actiontypeid']\n",
    "#                 my_dict['consent'] = 1\n",
    "#                 c_list.append(my_dict)\n",
    "#             elif test_act == 12 and test_uuid not in c_list:\n",
    "#                 del my_dict['actiontypeid']\n",
    "#                 my_dict['consent'] = 1\n",
    "#                 c_list.append(my_dict)\n",
    "#     elif 12 in test_val_1:\n",
    "#         for row in test.iterrows():\n",
    "#             my_dict = dict(row[1])\n",
    "#             test_act = my_dict.get('actiontypeid')\n",
    "#             test_uuid = my_dict.get('usercorrelationkey')\n",
    "#             if test_act == 11 and test_uuid not in c_list:\n",
    "#                 del my_dict['actiontypeid']\n",
    "#                 my_dict['consent'] = 1\n",
    "#                 c_list.append(my_dict)\n",
    "#             elif test_act == 12 and test_uuid not in c_list:\n",
    "#                 del my_dict['actiontypeid']\n",
    "#                 my_dict['consent'] = 1\n",
    "#                 c_list.append(my_dict)\n",
    "#     else:\n",
    "#         for row in test.iterrows():\n",
    "#             my_dict = dict(row[1])\n",
    "#             test_uuid = my_dict.get('usercorrelationkey')\n",
    "#             if test_uuid not in id_list:\n",
    "#                 del my_dict['actiontypeid']\n",
    "#                 my_dict['consent'] = 0\n",
    "#                 nc_list.append(my_dict)\n",
    "#                 id_list.append(test_uuid)"
   ]
  },
  {
   "cell_type": "code",
   "execution_count": null,
   "metadata": {},
   "outputs": [],
   "source": [
    "# for i in tnrange(len(uu), desc='Processing...'):\n",
    "#     test = df.loc[df['usercorrelationkey'] == i]\n",
    "#     test_val_1 = test['actiontypeid'].unique()\n",
    "#     if 11 in test_val_1:\n",
    "#         for row in test.iterrows():\n",
    "#             my_dict = dict(row[1])\n",
    "#             test_act = my_dict.get('actiontypeid')\n",
    "#             test_uuid = my_dict.get('usercorrelationkey')\n",
    "#             if test_act == 11 and test_uuid not in c_list:\n",
    "#                 del my_dict['actiontypeid']\n",
    "#                 my_dict['consent'] = 1\n",
    "#                 c_list.append(my_dict)\n",
    "#             elif test_act == 12 and test_uuid not in c_list:\n",
    "#                 del my_dict['actiontypeid']\n",
    "#                 my_dict['consent'] = 1\n",
    "#                 c_list.append(my_dict)\n",
    "#     elif 12 in test_val_1:\n",
    "#         for row in test.iterrows():\n",
    "#             my_dict = dict(row[1])\n",
    "#             test_act = my_dict.get('actiontypeid')\n",
    "#             test_uuid = my_dict.get('usercorrelationkey')\n",
    "#             if test_act == 11 and test_uuid not in c_list:\n",
    "#                 del my_dict['actiontypeid']\n",
    "#                 my_dict['consent'] = 1\n",
    "#                 c_list.append(my_dict)\n",
    "#             elif test_act == 12 and test_uuid not in c_list:\n",
    "#                 del my_dict['actiontypeid']\n",
    "#                 my_dict['consent'] = 1\n",
    "#                 c_list.append(my_dict)\n",
    "#     else:\n",
    "#         for row in test.iterrows():\n",
    "#             my_dict = dict(row[1])\n",
    "#             test_uuid = my_dict.get('usercorrelationkey')\n",
    "#             if test_uuid not in id_list:\n",
    "#                 del my_dict['actiontypeid']\n",
    "#                 my_dict['consent'] = 0\n",
    "#                 nc_list.append(my_dict)\n",
    "#                 id_list.append(test_uuid)"
   ]
  },
  {
   "cell_type": "code",
   "execution_count": null,
   "metadata": {},
   "outputs": [],
   "source": [
    "# for i in tnrange(len(uu), desc='Processing...'):\n",
    "#     test = df.loc[df['usercorrelationkey'] == i]\n",
    "#     test_val_1 = test['actiontypeid'].unique()\n",
    "#     if 11 in test_val_1:   \n",
    "#         for row in test.iterrows():\n",
    "#             my_dict = dict(row[1])\n",
    "#             test_act = my_dict.get('actiontypeid')\n",
    "#             test_uuid = my_dict.get('usercorrelationkey')\n",
    "#             if test_act == 11 and test_uuid not in c_list:\n",
    "#                 del my_dict['actiontypeid']\n",
    "#                 my_dict['consent'] = 1\n",
    "#                 c_list.append(my_dict)\n",
    "#             elif test_act == 12 and test_uuid not in c_list:\n",
    "#                 del my_dict['actiontypeid']\n",
    "#                 my_dict['consent'] = 1\n",
    "#                 c_list.append(my_dict)\n",
    "                \n",
    "#     elif 12 in test_val_1:\n",
    "#         for row in test.iterrows():\n",
    "#             my_dict = dict(row[1])\n",
    "#             test_act = my_dict.get('actiontypeid')\n",
    "#             test_uuid = my_dict.get('usercorrelationkey')\n",
    "#             if test_act == 11 and test_uuid not in c_list:\n",
    "#                 del my_dict['actiontypeid']\n",
    "#                 my_dict['consent'] = 1\n",
    "#                 c_list.append(my_dict)\n",
    "#             elif test_act == 12 and test_uuid not in c_list:\n",
    "#                 del my_dict['actiontypeid']\n",
    "#                 my_dict['consent'] = 1\n",
    "#                 c_list.append(my_dict)\n",
    "#     else:\n",
    "#         for row in test.iterrows():\n",
    "#             my_dict = dict(row[1])\n",
    "#             test_uuid = my_dict.get('usercorrelationkey')\n",
    "#             if test_uuid not in id_list:\n",
    "#                 del my_dict['actiontypeid']\n",
    "#                 my_dict['consent'] = 0\n",
    "#                 nc_list.append(my_dict)\n",
    "#                 id_list.append(test_uuid)"
   ]
  }
 ],
 "metadata": {
  "kernelspec": {
   "display_name": "Python 3",
   "language": "python",
   "name": "python3"
  },
  "language_info": {
   "codemirror_mode": {
    "name": "ipython",
    "version": 3
   },
   "file_extension": ".py",
   "mimetype": "text/x-python",
   "name": "python",
   "nbconvert_exporter": "python",
   "pygments_lexer": "ipython3",
   "version": "3.7.3"
  }
 },
 "nbformat": 4,
 "nbformat_minor": 2
}
