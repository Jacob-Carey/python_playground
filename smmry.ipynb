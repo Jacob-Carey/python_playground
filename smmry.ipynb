{
 "cells": [
  {
   "cell_type": "code",
   "execution_count": 1,
   "metadata": {},
   "outputs": [],
   "source": [
    "import requests\n",
    "import json\n",
    "\n",
    "SMMRY_API_KEY = '50F03E80BD'\n",
    "API = 'https://api.smmry.com/&SM_API_KEY='"
   ]
  },
  {
   "cell_type": "code",
   "execution_count": 2,
   "metadata": {},
   "outputs": [],
   "source": [
    "url = 'https://www.thehindu.com/business/Industry/potato-farmers-cry-foul-as-pepsico-sues-them/article26936480.ece?homepage=true'"
   ]
  },
  {
   "cell_type": "code",
   "execution_count": 3,
   "metadata": {},
   "outputs": [],
   "source": [
    "smmry_request = requests.get(API + SMMRY_API_KEY + '&SM_URL=' + url)\n",
    "smmry_response = smmry_request.json()\n",
    "text = smmry_response['sm_api_content']"
   ]
  },
  {
   "cell_type": "code",
   "execution_count": 4,
   "metadata": {},
   "outputs": [
    {
     "data": {
      "text/plain": [
       "'Just days after multi-billion dollar conglomerate PepsiCo sued four Gujarati farmers, asking them to pay ?1.05 crore each as damages for \\'infringing its rights\\' by growing the potato variety used in its Lays chips, farmers groups have launched a campaign calling for government intervention. The farmers want the Protection of Plant Varieties and Farmers\\' Rights Authority to make a submission in court on their behalf and fund legal costs through the National Gene Fund. \"These farmers are small, holding around 3-4 acres on an average, and had grown a potato crop from farm-saved seed after they accessed the potato seed locally in 2018,\" according to a letter sent to the PPV&FRA by farmers groups. PepsiCo has invoked Section 64 of the Protection of Plant Varieties and Farmers\\' Rights Act, 2001 to claim infringement of its rights. Farmers groups cite Section 39 of the same Act, which specifically says that a farmer is allowed \"To save, use, sow, resow, exchange, share or sell his farm produce including seed of a variety protected under this Act\" so long as he does not sell \"Branded seed\". Farmers groups warned that the case could have a snowballing effect on other crops. \"These are among the first cases of alleged IPR infringement against farmers in India in a post-WTO world. Wrongly decided, these could set a wrong precedent impacting farmers\\' livelihoods quite adversely,\" said Badribhai Joshi of the Gujarat Khedut Samaj, in a statement.'"
      ]
     },
     "execution_count": 4,
     "metadata": {},
     "output_type": "execute_result"
    }
   ],
   "source": [
    "text"
   ]
  },
  {
   "cell_type": "code",
   "execution_count": null,
   "metadata": {},
   "outputs": [],
   "source": []
  }
 ],
 "metadata": {
  "kernelspec": {
   "display_name": "Python 3",
   "language": "python",
   "name": "python3"
  },
  "language_info": {
   "codemirror_mode": {
    "name": "ipython",
    "version": 3
   },
   "file_extension": ".py",
   "mimetype": "text/x-python",
   "name": "python",
   "nbconvert_exporter": "python",
   "pygments_lexer": "ipython3",
   "version": "3.7.3"
  }
 },
 "nbformat": 4,
 "nbformat_minor": 2
}
