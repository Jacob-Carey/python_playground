{
 "cells": [
  {
   "cell_type": "code",
   "execution_count": 21,
   "metadata": {},
   "outputs": [],
   "source": [
    "import pandas as pd"
   ]
  },
  {
   "cell_type": "code",
   "execution_count": 30,
   "metadata": {},
   "outputs": [],
   "source": [
    "df = pd.read_csv(\"C:/Users/jacob.carey/Desktop/DataSets/Dell Consent Rates/dell_12-05.csv\", header=0, usecols={\n",
    "    \"monat\",\n",
    "    \"companyid\",\n",
    "    \"noticeid\",\n",
    "    \"countryname\",\n",
    "    \"domain\",\n",
    "    \"host\",\n",
    "    \"totalhits\",\n",
    "    \"impressions\",\n",
    "    \"consent\",\n",
    "    \"consentwithprior\",\n",
    "    \"ConRate\",\n",
    "    \"ConRatePrior\"\n",
    "    #dtype= {\"ConRate\": int64, \"ConRatePrior\": int64}\n",
    "    \n",
    "    })"
   ]
  },
  {
   "cell_type": "code",
   "execution_count": 37,
   "metadata": {},
   "outputs": [],
   "source": [
    "new_df = df.groupby(['countryname']).mean()"
   ]
  },
  {
   "cell_type": "code",
   "execution_count": 40,
   "metadata": {},
   "outputs": [],
   "source": [
    "new_df.to_csv(path_or_buf=\"C:/Users/jacob.carey/Desktop/DataSets/Dell Consent Rates/avg_conrate_by_country.csv\")"
   ]
  },
  {
   "cell_type": "code",
   "execution_count": null,
   "metadata": {},
   "outputs": [],
   "source": []
  }
 ],
 "metadata": {
  "kernelspec": {
   "display_name": "Python 3",
   "language": "python",
   "name": "python3"
  },
  "language_info": {
   "codemirror_mode": {
    "name": "ipython",
    "version": 3
   },
   "file_extension": ".py",
   "mimetype": "text/x-python",
   "name": "python",
   "nbconvert_exporter": "python",
   "pygments_lexer": "ipython3",
   "version": "3.7.3"
  }
 },
 "nbformat": 4,
 "nbformat_minor": 2
}
